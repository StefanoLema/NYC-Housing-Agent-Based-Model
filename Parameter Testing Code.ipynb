{
 "cells": [
  {
   "cell_type": "markdown",
   "metadata": {},
   "source": [
    "# Housing Agent Model based on Geographic distances"
   ]
  },
  {
   "cell_type": "code",
   "execution_count": 2,
   "metadata": {},
   "outputs": [],
   "source": [
    "\n",
    "# Import necessary libraries\n",
    "import numpy as np\n",
    "import geopandas as gpd\n",
    "import osmnx as ox\n",
    "import pandas as pd\n",
    "import numpy as np\n",
    "import matplotlib.pyplot as plt\n",
    "import housing_model_functions as hm  # Python file with all functions\n",
    "import warnings\n",
    "from itertools import permutations\n",
    "from matplotlib.cm import get_cmap\n",
    "\n",
    "warnings.filterwarnings('ignore')"
   ]
  },
  {
   "cell_type": "markdown",
   "metadata": {},
   "source": [
    "## Define City and District data"
   ]
  },
  {
   "cell_type": "markdown",
   "metadata": {},
   "source": [
    "### Data Imports (OSMNX)"
   ]
  },
  {
   "cell_type": "code",
   "execution_count": null,
   "metadata": {},
   "outputs": [],
   "source": [
    "warnings.filterwarnings('ignore')\n",
    "\n",
    "# Define New York City as city to be analyzed\n",
    "place_name = \"New York City\"\n",
    "\n",
    "# OSMNX Public data downloads:\n",
    "\n",
    "# Download district borders. Here make sure admin level matches district level by observing borders df\n",
    "borders = ox.features_from_place(place_name, tags={\"boundary\": \"administrative\", \"admin_level\": \"8\"})\n",
    "\n",
    "# Probably there will be repeated districts in the df so just select the desired ones with a similar method as below. Perhaps changing 'ref' column name and the end of range to num of districts + 1.\n",
    "districts_within_city = borders[borders['name'].isin(['The Bronx', 'Brooklyn', 'Manhattan', 'Queens', 'Staten Island'])]\n",
    "\n",
    "# Gets city boundary\n",
    "city_boundary = ox.geocode_to_gdf(place_name, which_result = 1) \n",
    "\n",
    "# Gets districts within city boundary\n",
    "districts_within_city = gpd.sjoin(districts_within_city, city_boundary, how = \"inner\", predicate = 'within')\n",
    "districts_within_city = districts_within_city[['name_left', 'geometry']].rename(columns={'name_left': 'District'})\n",
    "\n",
    "# Download the road network data and Convert to GeoDataFrame for easier manipulation\n",
    "road_df = ox.graph_from_place(place_name, network_type = \"drive\")\n",
    "road_df = ox.graph_to_gdfs(road_df, nodes = False)\n",
    "\n",
    "# Download parks (Only include named parks with polygon and multipolygon shapes to reduce amenity saturation)\n",
    "parks = ox.features_from_place(place_name, tags = {\"leisure\" : \"park\"})\n",
    "parks = parks[parks.geometry.type.isin(['Polygon', 'MultiPolygon'])]\n",
    "parks = parks[~parks['name'].isna()]\n",
    "parks = parks[['geometry']]\n",
    "parks['Type'] = 'park'\n",
    "\n",
    "# Download schools\n",
    "schools = ox.features_from_place(place_name, tags = {'amenity' : 'school'})\n",
    "schools = schools[['geometry']]\n",
    "schools['Type'] = 'school'\n",
    "\n",
    "# Download supermarkets\n",
    "supermarkets = ox.features_from_place(place_name, tags = {'shop' : 'supermarket'})\n",
    "supermarkets = supermarkets[['geometry']]\n",
    "supermarkets['Type'] = 'supermarket'\n",
    "\n",
    "# Download landmarks\n",
    "landmarks = ox.features_from_place(place_name, tags = {'tourism' : ['attraction', 'gallery', 'artwork', 'viewpoint']})\n",
    "landmarks = landmarks[['geometry']]\n",
    "landmarks['Type'] = 'landmark'\n",
    "\n",
    "# Create joint amenity DataFrame\n",
    "amenities_df = pd.concat([parks, schools, supermarkets, landmarks], axis=0)\n",
    "amenities_df = gpd.sjoin(amenities_df, districts_within_city, how = \"left\", predicate = 'within')\n",
    "amenities_df = amenities_df.rename(columns={'name_left': 'District'})\n",
    "amenities_df = amenities_df.dropna(subset=['geometry', 'Type', 'District'])\n",
    "amenities_df = amenities_df[['geometry', 'Type', 'District']]\n",
    "\n",
    "# Download residential areas\n",
    "residential_areas = ox.features_from_place(\n",
    "    place_name, tags = {'building': ['apartments', 'bungalow', 'cabin', 'detached', 'annexe', 'farm', 'house', 'houseboat', 'residential', 'semidetached_house', 'terrace']})\n",
    "residential_areas = gpd.GeoDataFrame(residential_areas['geometry'])\n",
    "residential_areas = gpd.sjoin(residential_areas, districts_within_city, how = \"inner\", predicate = 'within')\n",
    "residential_areas = residential_areas[['geometry', 'District']]\n",
    "\n",
    "# Following Lines are necessary for accurate centroid calculation for agent placing.\n",
    "\n",
    "# Convert Residential from coordinate to metric system. Note: epsg defines the coordinate system we want to use.\n",
    "projected_residence = residential_areas.to_crs(epsg=2263)\n",
    "\n",
    "# Extract centroids from the geometry column for comparison\n",
    "projected_residence['centroid'] = projected_residence['geometry'].centroid\n",
    "projected_residence = projected_residence[['centroid', 'District']]\n",
    "\n",
    "# Convert centroids back to geographic coordinates \n",
    "projected_residence = projected_residence['centroid'].to_crs(epsg=4326)\n",
    "projected_residence = gpd.GeoDataFrame(projected_residence)\n",
    "\n",
    "# Extract latitude and longitude from centroids\n",
    "projected_residence[['latitude', 'longitude']] = projected_residence['centroid'].apply(\n",
    "                lambda point: pd.Series([point.y, point.x])\n",
    "            )\n",
    "projected_residence['District'] = residential_areas['District']\n",
    "\n",
    "# Reduce the data to only necessary columns and reset index \n",
    "residences_reduced = projected_residence[['latitude', 'longitude', 'District']]\n",
    "residences_reduced = residences_reduced.reset_index(drop=True)"
   ]
  },
  {
   "cell_type": "markdown",
   "metadata": {},
   "source": [
    "### Data Imports (From Researched Data Excel)"
   ]
  },
  {
   "cell_type": "code",
   "execution_count": null,
   "metadata": {},
   "outputs": [],
   "source": [
    "# Researched Price Data Import:\n",
    "\n",
    "# Import NYC data from auxiliary excel file.\n",
    "file_name = \"NYC_data.xlsx\"\n",
    "\n",
    "# Import Borough Price Data\n",
    "yearly_prices = pd.read_excel(file_name, sheet_name= 'Price Data' ,index_col = 0)\n",
    "\n",
    "# Import Population Data\n",
    "population = pd.read_excel(file_name, sheet_name= 'Population Data' ,index_col = 0)\n",
    "\n",
    "# Import Income Data\n",
    "income = pd.read_excel(file_name, sheet_name= 'Income Data')\n",
    "\n",
    "# Import Housing Growth Data\n",
    "growth_rate = pd.read_excel(file_name, sheet_name= 'Housing Growth (2017-2021)' ,index_col = 0)\n",
    "\n",
    "# Adapt population and income dataframes to work with model\n",
    "population, income = hm.model_conversions(population,income)"
   ]
  },
  {
   "cell_type": "markdown",
   "metadata": {},
   "source": [
    "# Determining optimal parameters"
   ]
  },
  {
   "cell_type": "markdown",
   "metadata": {},
   "source": [
    "## Testing Convergence, Choice of Num_iterations"
   ]
  },
  {
   "cell_type": "code",
   "execution_count": null,
   "metadata": {},
   "outputs": [],
   "source": [
    "# Set seed for reproducibility\n",
    "np.random.seed(12)\n",
    "\n",
    "# Gather district names\n",
    "districts = list(yearly_prices.columns) \n",
    "\n",
    "# Set arbitrary year for testing\n",
    "year = 2019 # To predict 2020 prices\n",
    "median_price = np.median(yearly_prices.loc[year]) \n",
    "\n",
    "# Affluence group parameters \n",
    "affluence_vals = np.array(income.iloc[:,0])\n",
    "\n",
    "# Initial affluence proportions   \n",
    "affluence_dist = np.array(income.iloc[:,1])\n",
    " \n",
    "# Specify the number of agents and amenities to be placed\n",
    "num_agents = 1000 \n",
    "num_amenities = 200\n",
    "\n",
    "# Set inflationary weights for agents and amenities\n",
    "weight = 0.8\n",
    "\n",
    "amenity_multiplier = {\n",
    "    'park': .2* median_price,\n",
    "    'school': .4 * median_price,\n",
    "    'supermarket': .1 * median_price,\n",
    "    'landmark': .3 * median_price\n",
    "}\n",
    "  \n",
    "# Initialize results array and set largest iteration limit\n",
    "iteration_limit = 100\n",
    "iteration_tests_same = np.zeros((iteration_limit, len(districts)))   \n",
    "\n",
    "# Call initialize function\n",
    "model_agents, model_amenities, radius, radius_amenity = hm.grid_initializer(num_agents, num_amenities, population, affluence_vals, affluence_dist, residences_reduced, amenities_df)\n",
    "\n",
    "# Initialize prices\n",
    "initial_prices = hm.initial_price_dist(model_agents, year, yearly_prices)\n",
    "for k, district in enumerate(districts):\n",
    "    \n",
    "    # Select residences within each district\n",
    "    initial_prices_k = initial_prices[initial_prices['District'] == district]\n",
    "    iteration_tests_same[0, k] = np.average(initial_prices_k['price'])\n",
    "    \n",
    " # Do the first house values calculation\n",
    "vals = hm.update_house_prices(initial_prices, weight, radius , model_amenities, amenity_multiplier, radius_amenity)\n",
    "\n",
    "for k, district in enumerate(districts):\n",
    "    \n",
    "    # Select residences within each district\n",
    "    vals_k = vals[vals['District'] == district]\n",
    "    iteration_tests_same[1, k] = np.average(vals_k['price'])\n",
    "\n",
    "# Do remaining evaluations             \n",
    "for i in range(2, iteration_limit):\n",
    "    vals,_, swap_tot = hm.new_iteration(vals, weight, radius , model_amenities, amenity_multiplier, radius_amenity)   \n",
    "    for k, district in enumerate(districts):\n",
    "        \n",
    "        # Select residences within each district\n",
    "        vals_k = vals[vals['District'] == district]\n",
    "        iteration_tests_same[i, k] = np.average(vals_k['price'])\n"
   ]
  },
  {
   "cell_type": "code",
   "execution_count": null,
   "metadata": {},
   "outputs": [
    {
     "data": {
      "image/png": "[encoded data removed]",
      "text/plain": [
       "<Figure size 800x800 with 1 Axes>"
      ]
     },
     "metadata": {},
     "output_type": "display_data"
    },
    {
     "data": {
      "image/png": "[encoded data removed]",
      "text/plain": [
       "<Figure size 1000x600 with 1 Axes>"
      ]
     },
     "metadata": {},
     "output_type": "display_data"
    },
    {
     "data": {
      "image/png": "[encoded data removed]",
      "text/plain": [
       "<Figure size 1000x600 with 1 Axes>"
      ]
     },
     "metadata": {},
     "output_type": "display_data"
    }
   ],
   "source": [
    "# Determine the x values\n",
    "x_values = np.arange(iteration_tests_same.shape[0])\n",
    "\n",
    "# Use the cividis colormap to match rest of report\n",
    "cividis = get_cmap('cividis')\n",
    "num_lines = iteration_tests_same.shape[1]\n",
    "\n",
    "# Generate evenly spaced colors\n",
    "colors = [cividis(i / (num_lines - 1)) for i in range(num_lines)]\n",
    "\n",
    "colorsmapped = {'Manhattan': colors[4], \n",
    "                'Brooklyn': colors[2],\n",
    "                'The Bronx': colors[3],\n",
    "                'Queens': colors[1],\n",
    "                'Staten Island': colors[0]}\n",
    "lines = []\n",
    "plt.figure(figsize=(8, 8))\n",
    "for col in range(num_lines):\n",
    "    line, = plt.plot(\n",
    "        x_values,\n",
    "        iteration_tests_same[:, col],\n",
    "        label=f'{yearly_prices.columns[col]}',\n",
    "        color=colorsmapped[yearly_prices.columns[col]],\n",
    "        linewidth=4 \n",
    "    )\n",
    "    lines.append(line)\n",
    "\n",
    "# Add vertical lines\n",
    "vline1 = plt.axvline(x=16, color='gray', linestyle='--', linewidth=4)\n",
    "vline2 = plt.axvline(x=24, color='black', linestyle='--', linewidth=4, label=\"Bi-monthly rate\")\n",
    "\n",
    "# Add axis ticks at 16 and 24\n",
    "plt.xticks(list(plt.xticks()[0])[1:-1] + [16, 24])\n",
    "\n",
    "# Customize fonts\n",
    "font_size = 20 \n",
    "plt.xlabel('Number of Iterations', fontsize=font_size)\n",
    "plt.ylabel('Average Property Value', fontsize=font_size)\n",
    "plt.title('Iterations and Convergence of NYC Agent Model', fontsize=font_size + 2)\n",
    "\n",
    "\n",
    "# Set a specific legend order\n",
    "desired_order = ['Manhattan', 'The Bronx', 'Brooklyn', 'Queens', 'Staten Island']\n",
    "handles_labels = dict(zip([line.get_label() for line in lines], lines))  # Map labels to lines\n",
    "sorted_handles = [handles_labels[label] for label in desired_order if label in handles_labels]\n",
    "\n",
    "# Add the legend\n",
    "legend_1 = plt.legend(sorted_handles, desired_order, fontsize=font_size - 2, loc='upper right', frameon=True,bbox_to_anchor=(1, .76), ncol=1)\n",
    "legend_2 = plt.legend([vline1, vline2], ['Convergence Threshold', 'Bimonthly rate'], fontsize=font_size - 2, loc='upper right', bbox_to_anchor=(1, .9),frameon=True)\n",
    "plt.gca().add_artist(legend_1)\n",
    "plt.tick_params(axis='y', labelleft=False, labelbottom=True)\n",
    "plt.tight_layout()\n",
    "plt.savefig('output_plot.png', pad_inches=4, dpi = 300)\n",
    "plt.show()\n",
    "\n",
    "# Variance over intervals\n",
    "interval = 10\n",
    "variances = [np.var(iteration_tests_same[i:i+interval, :], axis=0) for i in range(0, len(iteration_tests_same) - interval, interval)]\n",
    "\n",
    "# Plot variance over intervals\n",
    "plt.figure(figsize=(10, 6))\n",
    "plt.plot(np.arange(len(variances)) * interval, np.mean(variances, axis=1), '-o', label='Average Variance')\n",
    "plt.xlabel('Number of Iterations')\n",
    "plt.ylabel('Variance')\n",
    "plt.title('Variance of Means by number of iterations')\n",
    "plt.legend()\n",
    "plt.grid(True)\n",
    "plt.show()\n",
    "\n",
    "# Plot absolute differences\n",
    "abs_differences = np.abs(np.diff(iteration_tests_same, axis=0)) / iteration_tests_same[:-1]\n",
    "plt.figure(figsize=(10, 6))\n",
    "for col in range(iteration_tests_same.shape[1]):\n",
    "    plt.plot(x_values[:-1], abs_differences[:, col], label=f'Differences ({yearly_prices.columns[col]})')\n",
    "plt.xlabel('Number of Iterations')\n",
    "plt.ylabel('Absolute Difference')\n",
    "plt.title('Convergence via Absolute Differences')\n",
    "plt.legend()\n",
    "plt.grid(True)\n",
    "plt.show()"
   ]
  },
  {
   "cell_type": "code",
   "execution_count": null,
   "metadata": {},
   "outputs": [
    {
     "name": "stdout",
     "output_type": "stream",
     "text": [
      "After 16 iterations, threshold satisfied with Mean Absolute Difference: 0.8981%.\n"
     ]
    }
   ],
   "source": [
    "# Calculate maximum absolute differences as percentage\n",
    "abs_max_percent = np.max(abs_differences, axis=1) * 100\n",
    "\n",
    "# Set arbitrary threshold, which we set to 1%\n",
    "threshold = 1\n",
    "\n",
    "for i in range(len(abs_max_percent)):\n",
    "    if abs_max_percent[i] >= threshold:\n",
    "        continue\n",
    "    else:\n",
    "        print(f'After {i} iterations, threshold satisfied with Mean Absolute Difference: {np.round(abs_max_percent[i],4)}%.')\n",
    "        break"
   ]
  },
  {
   "cell_type": "markdown",
   "metadata": {},
   "source": [
    "## Testing if Initial Affluence (Agent) Distribution matters\n",
    "\n",
    "Testing for different initial grids given same number of agents, amenities and also same affluence values and distributions from data. Note amenity and agent locations are the same, only changing initial affluence."
   ]
  },
  {
   "cell_type": "code",
   "execution_count": 8,
   "metadata": {},
   "outputs": [],
   "source": [
    "# Set seed for reproducibility\n",
    "np.random.seed(12)\n",
    "\n",
    "# Set arbitrary year for testing\n",
    "year = 2019\n",
    "median_price = np.median(yearly_prices.loc[year])\n",
    "\n",
    "# Set iteration limit based on previous result, 24 equivalent to twice a month evaluations\n",
    "n_iterations = 24\n",
    "    \n",
    "# Affluence group parameters \n",
    "affluence_vals = np.array(income.iloc[:,0])\n",
    "\n",
    "# Initial affluence proportions   \n",
    "affluence_dist = np.array(income.iloc[:,1])\n",
    " \n",
    "# Specify the number of agents and amenities to be placed\n",
    "num_agents = 1000 \n",
    "num_amenities = 200\n",
    "\n",
    "# Set inflationary weights for agents and amenities\n",
    "weight = 0.8\n",
    "\n",
    "districts = list(yearly_prices.columns) \n",
    "\n",
    "amenity_multiplier = {\n",
    "    'park': .2* median_price,\n",
    "    'school': .4 * median_price,\n",
    "    'supermarket': .1 * median_price,\n",
    "    'landmark': .3 * median_price\n",
    "}\n",
    "  \n",
    "\n",
    "# Call initialize function\n",
    "affluences, model_amenities, radius, amenity_radius = hm.grid_initializer(num_agents, num_amenities, population, affluence_vals, affluence_dist, residences_reduced, amenities_df, 100)\n",
    "results_array = np.zeros((len(affluences), 5))\n",
    "for i in range(len(affluences)):\n",
    "    \n",
    "    initial_prices = hm.initial_price_dist(affluences[i], year, yearly_prices)\n",
    "    # Do the first house values calculation\n",
    "    vals = hm.update_house_prices(initial_prices, weight, radius, model_amenities, amenity_multiplier, amenity_radius)\n",
    "\n",
    "    # Calculate number of agents to add at each iteration\n",
    "    for j in range(n_iterations):\n",
    "        vals,_, swap_tot = hm.new_iteration(vals, weight, radius, model_amenities, amenity_multiplier, amenity_radius)\n",
    "        \n",
    "    for k, district in enumerate(districts):\n",
    "        # Select residences within each district\n",
    "        vals_k = vals[vals['District'] == district]\n",
    "        results_array[i, k] = np.round(np.average(vals_k['price']))\n",
    "\n"
   ]
  },
  {
   "cell_type": "code",
   "execution_count": 41,
   "metadata": {},
   "outputs": [
    {
     "name": "stdout",
     "output_type": "stream",
     "text": [
      "Coefficient of Variation maximum: 1.804%.\n"
     ]
    }
   ],
   "source": [
    "# Calculate column-wise statistics for last iteration\n",
    "means = np.mean(results_array, axis=0)\n",
    "std_devs = np.std(results_array, axis=0)\n",
    "coeff_variation = std_devs / means\n",
    "\n",
    "print(f\"Coefficient of Variation maximum: {np.round(np.max(coeff_variation),5)* 100}%.\")"
   ]
  },
  {
   "cell_type": "markdown",
   "metadata": {},
   "source": [
    "# Amenity weight tests\n",
    "\n",
    "Note: MAPE values correspond to next year price approximations. Ex. 2014 MAPE value is in comparison to 2015 data."
   ]
  },
  {
   "cell_type": "markdown",
   "metadata": {},
   "source": [
    "### Testing Data Based Amenity Weights"
   ]
  },
  {
   "cell_type": "code",
   "execution_count": 11,
   "metadata": {},
   "outputs": [
    {
     "name": "stdout",
     "output_type": "stream",
     "text": [
      "            MAPE\n",
      "Year            \n",
      "2014   44.896111\n",
      "2015   56.172947\n",
      "2016   54.964136\n",
      "2017   42.427436\n",
      "2018   39.928778\n",
      "2019   18.877355\n",
      "2020   53.853222\n",
      "2021   43.004677\n",
      "2022  107.748531\n",
      "9 year MAPE average: 51.31924364920086\n"
     ]
    }
   ],
   "source": [
    "# Set seed for reproducibility\n",
    "np.random.seed(12)\n",
    "\n",
    "# Set iteration limit based on previous result, 24 equivalent to twice a month evaluations\n",
    "n_iterations = 24\n",
    "    \n",
    "# Affluence group parameters \n",
    "affluence_vals = np.array(income.iloc[:,0])\n",
    "\n",
    "# Initial affluence proportions   \n",
    "affluence_dist = np.array(income.iloc[:,1])\n",
    " \n",
    "# Specify the number of agents and amenities to be placed\n",
    "num_agents = 1000 \n",
    "num_amenities = 200\n",
    "\n",
    "# Set inflationary weights for agents and amenities\n",
    "weight = 0.8\n",
    "\n",
    "districts = list(yearly_prices.columns) \n",
    "\n",
    "# Call initialize function\n",
    "model_agents, model_amenities, radius, radius_amenity = hm.grid_initializer(num_agents, num_amenities, population, affluence_vals, affluence_dist, residences_reduced, amenities_df)\n",
    "\n",
    "data_results_df = pd.DataFrame(columns=['MAPE'], index=yearly_prices.index[:-1])\n",
    "\n",
    "for i in range(yearly_prices.shape[0] - 1):\n",
    "    current_year = yearly_prices.index[i]\n",
    "    median_price = np.median(yearly_prices.loc[current_year])\n",
    "    next_year = yearly_prices.index[i + 1]\n",
    "    amenity_multiplier = {\n",
    "    'park': .1* median_price,\n",
    "    'school': .4 * median_price,\n",
    "    'supermarket': .2 * median_price,\n",
    "    'landmark': .1 * median_price\n",
    "}\n",
    "    \n",
    "    initial_prices = hm.initial_price_dist(model_agents, current_year, yearly_prices)\n",
    "    \n",
    "    # Do the first house values calculation\n",
    "    vals = hm.update_house_prices(initial_prices, weight, radius, model_amenities, amenity_multiplier, amenity_radius)\n",
    "\n",
    "    # Calculate number of agents to add at each iteration\n",
    "    for j in range(n_iterations):\n",
    "        vals,_, swap_tot = hm.new_iteration(vals, weight, radius, model_amenities, amenity_multiplier, amenity_radius)\n",
    "    \n",
    "    # Calculate final prices\n",
    "    prices_end = np.zeros(len(districts))\n",
    "    for n, district in enumerate(districts):\n",
    "        vals_district = vals[vals['District'] == district]\n",
    "        prices_end[n] = np.round(np.average(vals_district['price']))\n",
    "\n",
    "    # Calculate MAPE\n",
    "    ape = hm.calculate_ape(prices_end, np.array(yearly_prices.loc[next_year]))\n",
    "    mape = np.mean(ape)\n",
    "    data_results_df.loc[current_year, 'MAPE'] = mape\n",
    "    \n",
    "# Display the results DataFrame\n",
    "print(data_results_df)\n",
    "\n",
    "print(f\"9 year MAPE average: {np.mean(data_results_df.loc[:,'MAPE'])}\")"
   ]
  },
  {
   "cell_type": "markdown",
   "metadata": {},
   "source": [
    "## A discrete algorithm of optimization for amenity weights.\n",
    "\n",
    "Based on brute force and repeated observations we have noticed that $\\lambda$ seems to be purely inflationary and hence hypothesise that for every sufficiently reasonable $\\lambda \\in [0.5,0.9]$ there exists a combination of amenity weights that will yield a global minimum for that year. Hence, due to computation constraints we limit our testing to a set $\\lambda$ value of $0.8$. Then, based on the aforementioned observations we test different permutations of weights that have worked in the past for us. \n",
    "\n",
    "All permutations of the amenity weight combinations $[0.1, 0.2, 0.2, 0.4]$, $[0.1, 0.2, 0.3, 0.4]$, $[0.1, 0.2, 0.4, 0.4]$, and $[0.1, 0.1, 0.2, 0.4]$ corresponding to **park**, **school**, **supermarket**, and **landmark**, respectively, were tested under $\\lambda = 0.8$. These tests evaluated all distinct weight configurations to identify the approximate \"best\" combinations yielding a global minimum for each target year. With more computational resources, these results could serve as starting points for advanced optimization methods like Genetic Algorithms, L-BFGS-B, or other numerical techniques to refine and identify more precise weight approximations for improved model performance. We have attempted to implement these models but due to size of cartesian space numerous tests have incorrectly converged at saddle points, so these are our best approximates at the moment."
   ]
  },
  {
   "cell_type": "code",
   "execution_count": null,
   "metadata": {},
   "outputs": [
    {
     "name": "stdout",
     "output_type": "stream",
     "text": [
      "Optimizing for year 2014...\n",
      "[0.2 0.4 0.1 0.2] improved MAPE, new best MAPE for year 2014 = 60.22675927199216.\n",
      "[0.4 0.2 0.1 0.2] improved MAPE, new best MAPE for year 2014 = 57.45065142290664.\n",
      "[0.1 0.4 0.2 0.2] improved MAPE, new best MAPE for year 2014 = 55.26523116702556.\n",
      "[0.2 0.1 0.4 0.2] improved MAPE, new best MAPE for year 2014 = 39.754033912365045.\n",
      "[0.2 0.1 0.4 0.1] improved MAPE, new best MAPE for year 2014 = 34.65451767968419.\n",
      "[0.1 0.1 0.4 0.2] improved MAPE, new best MAPE for year 2014 = 28.685466563280055.\n",
      "Optimizing for year 2015...\n",
      "[0.2 0.4 0.1 0.2] improved MAPE, new best MAPE for year 2015 = 72.1288010782213.\n",
      "[0.4 0.2 0.1 0.2] improved MAPE, new best MAPE for year 2015 = 71.55434137824875.\n",
      "[0.1 0.4 0.2 0.2] improved MAPE, new best MAPE for year 2015 = 66.56819327131987.\n",
      "[0.2 0.1 0.4 0.2] improved MAPE, new best MAPE for year 2015 = 51.27077915077117.\n",
      "[0.1 0.2 0.4 0.2] improved MAPE, new best MAPE for year 2015 = 50.20160761881185.\n",
      "[0.2 0.1 0.4 0.1] improved MAPE, new best MAPE for year 2015 = 45.37480261174839.\n",
      "[0.1 0.1 0.4 0.2] improved MAPE, new best MAPE for year 2015 = 38.79900454527491.\n",
      "Optimizing for year 2016...\n",
      "[0.2 0.4 0.1 0.2] improved MAPE, new best MAPE for year 2016 = 67.33278093329201.\n",
      "[0.1 0.4 0.2 0.2] improved MAPE, new best MAPE for year 2016 = 61.87744329472694.\n",
      "[0.2 0.1 0.4 0.2] improved MAPE, new best MAPE for year 2016 = 50.5744304495811.\n",
      "[0.1 0.2 0.4 0.2] improved MAPE, new best MAPE for year 2016 = 49.874044364105075.\n",
      "[0.2 0.1 0.4 0.1] improved MAPE, new best MAPE for year 2016 = 44.58932339916172.\n",
      "[0.1 0.1 0.4 0.2] improved MAPE, new best MAPE for year 2016 = 38.46618931790174.\n",
      "Optimizing for year 2017...\n",
      "[0.2 0.4 0.1 0.2] improved MAPE, new best MAPE for year 2017 = 52.88616428376017.\n",
      "[0.1 0.4 0.2 0.2] improved MAPE, new best MAPE for year 2017 = 47.29130782696039.\n",
      "[0.2 0.1 0.4 0.2] improved MAPE, new best MAPE for year 2017 = 37.89172450861612.\n",
      "[0.1 0.2 0.4 0.2] improved MAPE, new best MAPE for year 2017 = 37.21845596741649.\n",
      "[0.2 0.1 0.4 0.1] improved MAPE, new best MAPE for year 2017 = 34.22594626873719.\n",
      "[0.1 0.1 0.4 0.2] improved MAPE, new best MAPE for year 2017 = 27.339907582169474.\n",
      "Optimizing for year 2018...\n",
      "[0.2 0.4 0.1 0.2] improved MAPE, new best MAPE for year 2018 = 46.85045454366501.\n",
      "[0.1 0.4 0.2 0.2] improved MAPE, new best MAPE for year 2018 = 38.44471462887397.\n",
      "[0.2 0.1 0.4 0.2] improved MAPE, new best MAPE for year 2018 = 33.501933248952376.\n",
      "[0.1 0.2 0.4 0.2] improved MAPE, new best MAPE for year 2018 = 29.868333270343992.\n",
      "[0.1 0.1 0.4 0.2] improved MAPE, new best MAPE for year 2018 = 27.183847563263054.\n",
      "Optimizing for year 2019...\n",
      "[0.2 0.4 0.1 0.2] improved MAPE, new best MAPE for year 2019 = 28.085080689125938.\n",
      "[0.1 0.4 0.2 0.2] improved MAPE, new best MAPE for year 2019 = 23.50461741253491.\n",
      "[0.2 0.1 0.4 0.2] improved MAPE, new best MAPE for year 2019 = 17.098848349273776.\n",
      "[0.1 0.2 0.4 0.2] improved MAPE, new best MAPE for year 2019 = 16.521238165894935.\n",
      "[0.2 0.1 0.4 0.1] improved MAPE, new best MAPE for year 2019 = 14.190687288704016.\n",
      "[0.1 0.2 0.4 0.1] improved MAPE, new best MAPE for year 2019 = 13.057640403234554.\n",
      "Optimizing for year 2020...\n",
      "[0.2 0.4 0.1 0.2] improved MAPE, new best MAPE for year 2020 = 68.47088534587344.\n",
      "[0.1 0.4 0.2 0.2] improved MAPE, new best MAPE for year 2020 = 61.36666050713562.\n",
      "[0.2 0.1 0.4 0.2] improved MAPE, new best MAPE for year 2020 = 49.822130092248244.\n",
      "[0.1 0.2 0.4 0.2] improved MAPE, new best MAPE for year 2020 = 49.017402702235174.\n",
      "[0.2 0.1 0.4 0.1] improved MAPE, new best MAPE for year 2020 = 42.337922747071.\n",
      "[0.1 0.1 0.4 0.2] improved MAPE, new best MAPE for year 2020 = 36.59066446514239.\n",
      "Optimizing for year 2021...\n",
      "[0.2 0.4 0.1 0.2] improved MAPE, new best MAPE for year 2021 = 56.19676405560169.\n",
      "[0.1 0.4 0.2 0.2] improved MAPE, new best MAPE for year 2021 = 47.66295437943563.\n",
      "[0.2 0.1 0.4 0.2] improved MAPE, new best MAPE for year 2021 = 41.45721946097301.\n",
      "[0.1 0.2 0.4 0.2] improved MAPE, new best MAPE for year 2021 = 37.473839933657764.\n",
      "[0.2 0.1 0.4 0.1] improved MAPE, new best MAPE for year 2021 = 36.28799978190732.\n",
      "[0.1 0.1 0.4 0.2] improved MAPE, new best MAPE for year 2021 = 33.26032282645018.\n",
      "[0.1 0.2 0.4 0.1] improved MAPE, new best MAPE for year 2021 = 32.827903691671956.\n",
      "Optimizing for year 2022...\n",
      "[0.2 0.4 0.1 0.2] improved MAPE, new best MAPE for year 2022 = 135.08908025690977.\n",
      "[0.4 0.2 0.1 0.2] improved MAPE, new best MAPE for year 2022 = 127.0056751334425.\n",
      "[0.1 0.4 0.2 0.2] improved MAPE, new best MAPE for year 2022 = 126.55025511340003.\n",
      "[0.2 0.1 0.4 0.2] improved MAPE, new best MAPE for year 2022 = 96.59937533190785.\n",
      "[0.2 0.1 0.4 0.1] improved MAPE, new best MAPE for year 2022 = 77.64686128842307.\n",
      "[0.1 0.1 0.4 0.2] improved MAPE, new best MAPE for year 2022 = 75.42109485214704.\n",
      "      best amenity weights  best MAPE\n",
      "Year                                 \n",
      "2014  [0.1, 0.1, 0.4, 0.2]  28.685467\n",
      "2015  [0.1, 0.1, 0.4, 0.2]  38.799005\n",
      "2016  [0.1, 0.1, 0.4, 0.2]  38.466189\n",
      "2017  [0.1, 0.1, 0.4, 0.2]  27.339908\n",
      "2018  [0.1, 0.1, 0.4, 0.2]  27.183848\n",
      "2019  [0.1, 0.2, 0.4, 0.1]   13.05764\n",
      "2020  [0.1, 0.1, 0.4, 0.2]  36.590664\n",
      "2021  [0.1, 0.2, 0.4, 0.1]  32.827904\n",
      "2022  [0.1, 0.1, 0.4, 0.2]  75.421095\n",
      "9 year MAPE average: 35.37463544267613\n"
     ]
    }
   ],
   "source": [
    "# FIXED PARAMETERS\n",
    "# Set seed for reproducibility\n",
    "np.random.seed(12)\n",
    "# Set arbitrary year for testing\n",
    "year = 2018\n",
    "\n",
    "# Set iteration limit based on previous result, 24 equivalent to twice a month evaluations\n",
    "n_iterations = 24\n",
    "    \n",
    "# Affluence group parameters \n",
    "affluence_vals = np.array(income.iloc[:,0])\n",
    "\n",
    "# Initial affluence proportions   \n",
    "affluence_dist = np.array(income.iloc[:,1])\n",
    " \n",
    "# Specify the number of agents and amenities to be placed\n",
    "num_agents = 1000 \n",
    "num_amenities = 200\n",
    "\n",
    "# Set inflationary weight for agents\n",
    "weight = 0.8\n",
    "\n",
    "# Convert districts to ordered list\n",
    "districts = list(yearly_prices.columns) \n",
    "\n",
    "# Compute all desired permutations\n",
    "\n",
    "def unique_combinations(elements):\n",
    "    # Use set to automatically handle duplicates\n",
    "    unique_perms = set(permutations(elements))\n",
    "    return list(unique_perms)\n",
    "\n",
    "# We get this range from previous manual testing which satisfies desirable inflation\n",
    "elements_middle_repeat = [.1, .2, .2, .4]\n",
    "combinations_middle_repeat = unique_combinations(elements_middle_repeat)\n",
    "\n",
    "elements_no_repeat = [.1, .2, .3, .4]\n",
    "combinations_no_repeat = unique_combinations(elements_no_repeat)\n",
    "\n",
    "elements_edge_repeat_upper = [.1, .2, .4, .4]\n",
    "combinations_edge_repeat_upper = unique_combinations(elements_edge_repeat_upper)\n",
    "\n",
    "elements_edge_repeat_lower = [.1, .1, .2, .4]\n",
    "combinations_edge_repeat_lower = unique_combinations(elements_edge_repeat_lower)\n",
    "\n",
    "# Merge all unique combinations into a single list\n",
    "all_combinations = (\n",
    "    combinations_middle_repeat +\n",
    "    combinations_no_repeat +\n",
    "    combinations_edge_repeat_upper +\n",
    "    combinations_edge_repeat_lower\n",
    ")\n",
    "\n",
    "# Convert to array\n",
    "all_combinations_array = np.array(all_combinations)\n",
    "\n",
    "# Initialize grid\n",
    "model_agents, model_amenities, radius, radius_amenities = hm.grid_initializer(num_agents, num_amenities, population,np.array(income.iloc[:, 0]), np.array(income.iloc[:, 1]),residences_reduced, amenities_df)\n",
    "\n",
    "# Initialize results dataframe\n",
    "results_df = pd.DataFrame(columns=['best amenity weights', 'best MAPE'], index=yearly_prices.index[:-1])\n",
    "\n",
    "for i in range(yearly_prices.shape[0]-1):\n",
    "    current_year = yearly_prices.index[i]\n",
    "    median_price = np.median(yearly_prices.loc[current_year])\n",
    "    next_year = yearly_prices.index[i + 1]\n",
    "    print(f\"Optimizing for year {current_year}...\")\n",
    "\n",
    "    # Pre-set best values\n",
    "    best_mape = float('inf')\n",
    "    best_amenities = None\n",
    "    \n",
    "    initial_prices = hm.initial_price_dist(model_agents, current_year, yearly_prices)\n",
    "    med_price = np.median(yearly_prices.loc[current_year])\n",
    "    next_year_prices = np.array(yearly_prices.loc[next_year])\n",
    "    for j in range(all_combinations_array.shape[0]):\n",
    "        amenity_weights = {\n",
    "        'park': all_combinations_array[j,0]* median_price,\n",
    "        'school': all_combinations_array[j,1]*median_price,\n",
    "        'supermarket': all_combinations_array[j,2]*median_price,\n",
    "        'landmark': all_combinations_array[j,3] *median_price}\n",
    "        \n",
    "         # Perform simulation for n_iterations\n",
    "        vals = initial_prices\n",
    "        for k in range(n_iterations):\n",
    "            vals, _, _ = hm.new_iteration(vals, weight, radius, model_amenities, amenity_weights, radius_amenities)\n",
    "        \n",
    "        # Calculate final prices\n",
    "        prices_end = np.zeros(len(districts))\n",
    "        for n, district in enumerate(districts):\n",
    "            vals_district = vals[vals['District'] == district]\n",
    "            prices_end[n] = np.round(np.average(vals_district['price']))\n",
    "\n",
    "        # Calculate MAPE\n",
    "        ape = hm.calculate_ape(prices_end, np.array(yearly_prices.loc[next_year]))\n",
    "        mape = np.mean(ape)\n",
    "        \n",
    "        # Check if this combination yields a better MAPE\n",
    "        if mape < best_mape:\n",
    "            best_mape = mape\n",
    "            best_amenities = all_combinations_array[j,:]\n",
    "            print(f\"{all_combinations_array[j,:]} improved MAPE, new best MAPE for year {current_year} = {best_mape}.\")\n",
    "    # Store the best parameters for the current year\n",
    "    results_df.loc[current_year, 'best amenity weights'] = best_amenities\n",
    "    results_df.loc[current_year, 'best MAPE'] = best_mape\n",
    "# Display the results DataFrame\n",
    "print(results_df)    \n",
    "print(f\"9 year MAPE average: {np.mean(results_df.loc[:,'best MAPE'])}\")"
   ]
  },
  {
   "cell_type": "code",
   "execution_count": 38,
   "metadata": {},
   "outputs": [],
   "source": [
    "# Save the DataFrame to an Excel file\n",
    "results_df.to_excel(\"Optimization_Results.xlsx\", index=True, sheet_name=\"Reduction Algorithm Results\")"
   ]
  },
  {
   "cell_type": "code",
   "execution_count": 30,
   "metadata": {},
   "outputs": [
    {
     "name": "stderr",
     "output_type": "stream",
     "text": [
      "[I 2024-12-01 14:46:35,359] A new study created in memory with name: no-name-720dccce-6e32-4276-b838-7e637374b09c\n"
     ]
    },
    {
     "name": "stdout",
     "output_type": "stream",
     "text": [
      "Running Optuna study for year index: 0\n"
     ]
    },
    {
     "name": "stderr",
     "output_type": "stream",
     "text": [
      "[I 2024-12-01 14:46:58,169] Trial 0 finished with value: 154.34508302957295 and parameters: {'park_weight': 0.8614601345865232, 'school_weight': 0.2310800638499907, 'supermarket_weight': 0.04024488729379361, 'landmark_weight': 0.785225572052122}. Best is trial 0 with value: 154.34508302957295.\n",
      "[I 2024-12-01 14:47:21,066] Trial 1 finished with value: 137.0221924307989 and parameters: {'park_weight': 0.5581550537437702, 'school_weight': 0.5169758462232047, 'supermarket_weight': 0.628751853343275, 'landmark_weight': 0.33055498278080164}. Best is trial 1 with value: 137.0221924307989.\n",
      "[I 2024-12-01 14:47:44,117] Trial 2 finished with value: 112.83104657997205 and parameters: {'park_weight': 0.25258413843190497, 'school_weight': 0.26697155777948445, 'supermarket_weight': 0.2693234569795687, 'landmark_weight': 0.815465377883754}. Best is trial 2 with value: 112.83104657997205.\n",
      "[I 2024-12-01 14:48:08,042] Trial 3 finished with value: 172.32461180645942 and parameters: {'park_weight': 0.2621116093699768, 'school_weight': 0.9170414149541178, 'supermarket_weight': 0.522817960767947, 'landmark_weight': 0.5075739546121641}. Best is trial 2 with value: 112.83104657997205.\n",
      "[I 2024-12-01 14:48:30,859] Trial 4 finished with value: 149.69563466788955 and parameters: {'park_weight': 0.2084834964739325, 'school_weight': 0.8836534732161743, 'supermarket_weight': 0.8173225112764216, 'landmark_weight': 0.006064278796390377}. Best is trial 2 with value: 112.83104657997205.\n",
      "[I 2024-12-01 14:48:53,838] Trial 5 finished with value: 270.25771223710774 and parameters: {'park_weight': 0.45647745484600366, 'school_weight': 0.9294403687090282, 'supermarket_weight': 0.9789817933547408, 'landmark_weight': 0.951386368555149}. Best is trial 2 with value: 112.83104657997205.\n",
      "[I 2024-12-01 14:49:16,742] Trial 6 finished with value: 93.60513614557902 and parameters: {'park_weight': 0.6064394883626212, 'school_weight': 0.37359387200211525, 'supermarket_weight': 0.049044415442645706, 'landmark_weight': 0.34585926697762714}. Best is trial 6 with value: 93.60513614557902.\n",
      "[I 2024-12-01 14:49:39,723] Trial 7 finished with value: 15.507756948703989 and parameters: {'park_weight': 0.24130268694894608, 'school_weight': 0.08294527815362784, 'supermarket_weight': 0.2021528753954498, 'landmark_weight': 0.13291836219323327}. Best is trial 7 with value: 15.507756948703989.\n",
      "[I 2024-12-01 14:50:03,123] Trial 8 finished with value: 197.31505610536934 and parameters: {'park_weight': 0.7443014109309213, 'school_weight': 0.5076046117929134, 'supermarket_weight': 0.807056361292003, 'landmark_weight': 0.6094436232957218}. Best is trial 7 with value: 15.507756948703989.\n",
      "[I 2024-12-01 14:50:26,259] Trial 9 finished with value: 188.42949298841538 and parameters: {'park_weight': 0.8723843256749131, 'school_weight': 0.47410490802314886, 'supermarket_weight': 0.8372836471948796, 'landmark_weight': 0.4437060276181929}. Best is trial 7 with value: 15.507756948703989.\n",
      "[I 2024-12-01 14:50:49,646] Trial 10 finished with value: 52.353485410862184 and parameters: {'park_weight': 0.0176841084354466, 'school_weight': 0.0012621416718438805, 'supermarket_weight': 0.27969728861087007, 'landmark_weight': 0.005865781956649385}. Best is trial 7 with value: 15.507756948703989.\n",
      "[I 2024-12-01 14:51:12,949] Trial 11 finished with value: 52.035104729800274 and parameters: {'park_weight': 0.013358945829904822, 'school_weight': 0.007775127113862357, 'supermarket_weight': 0.2924032538278083, 'landmark_weight': 0.013285272289562137}. Best is trial 7 with value: 15.507756948703989.\n",
      "[I 2024-12-01 14:51:37,328] Trial 12 finished with value: 18.388434207537532 and parameters: {'park_weight': 0.0021918765993899914, 'school_weight': 0.009583388802560357, 'supermarket_weight': 0.2829843912241535, 'landmark_weight': 0.1923000253329649}. Best is trial 7 with value: 15.507756948703989.\n",
      "[I 2024-12-01 14:52:00,670] Trial 13 finished with value: 24.801475520102628 and parameters: {'park_weight': 0.12762471701029524, 'school_weight': 0.1673737725780504, 'supermarket_weight': 0.22491259833969263, 'landmark_weight': 0.2007516457401496}. Best is trial 7 with value: 15.507756948703989.\n",
      "[I 2024-12-01 14:52:25,105] Trial 14 finished with value: 111.98918671028727 and parameters: {'park_weight': 0.35193835627716163, 'school_weight': 0.6908610553522643, 'supermarket_weight': 0.4147010091994972, 'landmark_weight': 0.20427023620493534}. Best is trial 7 with value: 15.507756948703989.\n",
      "[I 2024-12-01 14:52:48,679] Trial 15 finished with value: 18.59013340859085 and parameters: {'park_weight': 0.11238763288194975, 'school_weight': 0.11926979248587677, 'supermarket_weight': 0.14967813990926992, 'landmark_weight': 0.18398934851492985}. Best is trial 7 with value: 15.507756948703989.\n",
      "[I 2024-12-01 14:53:11,758] Trial 16 finished with value: 36.665101235813 and parameters: {'park_weight': 0.3639508539327503, 'school_weight': 0.10211267087224331, 'supermarket_weight': 0.4238453151848429, 'landmark_weight': 0.14640013644043895}. Best is trial 7 with value: 15.507756948703989.\n",
      "[I 2024-12-01 14:53:35,555] Trial 17 finished with value: 60.47197212638615 and parameters: {'park_weight': 0.11812640573903263, 'school_weight': 0.345314270353019, 'supermarket_weight': 0.40459721329681647, 'landmark_weight': 0.32821714379618194}. Best is trial 7 with value: 15.507756948703989.\n",
      "[I 2024-12-01 14:53:59,979] Trial 18 finished with value: 76.53285348836661 and parameters: {'park_weight': 0.006073770831682285, 'school_weight': 0.6290297070007596, 'supermarket_weight': 0.1477671493320497, 'landmark_weight': 0.11856917300902725}. Best is trial 7 with value: 15.507756948703989.\n",
      "[I 2024-12-01 14:54:24,537] Trial 19 finished with value: 97.31030550207261 and parameters: {'park_weight': 0.37532385985552696, 'school_weight': 0.089998673834566, 'supermarket_weight': 0.6036451488758794, 'landmark_weight': 0.5836394617309765}. Best is trial 7 with value: 15.507756948703989.\n",
      "[I 2024-12-01 14:54:47,887] Trial 20 finished with value: 41.36416699201294 and parameters: {'park_weight': 0.18099923361270068, 'school_weight': 0.29875864629259785, 'supermarket_weight': 0.15395859832676484, 'landmark_weight': 0.26405887732263233}. Best is trial 7 with value: 15.507756948703989.\n",
      "[I 2024-12-01 14:55:11,110] Trial 21 finished with value: 24.763731756546793 and parameters: {'park_weight': 0.10558785192205987, 'school_weight': 0.1554803592352385, 'supermarket_weight': 0.13471466739963578, 'landmark_weight': 0.1391855406914653}. Best is trial 7 with value: 15.507756948703989.\n",
      "[I 2024-12-01 14:55:34,452] Trial 22 finished with value: 40.20210991704967 and parameters: {'park_weight': 0.09744398535027932, 'school_weight': 0.09840470531579926, 'supermarket_weight': 0.37515073025985457, 'landmark_weight': 0.43573726979967303}. Best is trial 7 with value: 15.507756948703989.\n",
      "[I 2024-12-01 14:55:57,794] Trial 23 finished with value: 13.585003127672042 and parameters: {'park_weight': 0.2161086506050176, 'school_weight': 0.0058611235120136105, 'supermarket_weight': 0.1953924647662687, 'landmark_weight': 0.09206018883560728}. Best is trial 23 with value: 13.585003127672042.\n",
      "[I 2024-12-01 14:56:21,264] Trial 24 finished with value: 12.143940006176098 and parameters: {'park_weight': 0.29684386328623846, 'school_weight': 0.000466068115366914, 'supermarket_weight': 0.34073874947361765, 'landmark_weight': 0.10256581313398568}. Best is trial 24 with value: 12.143940006176098.\n",
      "[I 2024-12-01 14:56:45,733] Trial 25 finished with value: 53.90488430693411 and parameters: {'park_weight': 0.45159104719557563, 'school_weight': 0.19915936286258737, 'supermarket_weight': 0.4908097833363594, 'landmark_weight': 0.07517542313931584}. Best is trial 24 with value: 12.143940006176098.\n",
      "[I 2024-12-01 14:57:09,430] Trial 26 finished with value: 20.34161976822876 and parameters: {'park_weight': 0.30455841857110655, 'school_weight': 0.05747133693134228, 'supermarket_weight': 0.012487108139124792, 'landmark_weight': 0.08828282808647311}. Best is trial 24 with value: 12.143940006176098.\n",
      "[I 2024-12-01 14:57:32,676] Trial 27 finished with value: 101.45774195032472 and parameters: {'park_weight': 0.6335523559701981, 'school_weight': 0.42574031416277225, 'supermarket_weight': 0.20742236317831894, 'landmark_weight': 0.26890545891381823}. Best is trial 24 with value: 12.143940006176098.\n",
      "[I 2024-12-01 14:57:55,890] Trial 28 finished with value: 47.76809651900898 and parameters: {'park_weight': 0.46077717630330395, 'school_weight': 0.21729580773448065, 'supermarket_weight': 0.34305614718733957, 'landmark_weight': 0.06829304434048365}. Best is trial 24 with value: 12.143940006176098.\n",
      "[I 2024-12-01 14:58:19,452] Trial 29 finished with value: 39.156647262207834 and parameters: {'park_weight': 0.29596830324393314, 'school_weight': 0.261108497289928, 'supermarket_weight': 0.061120354947046956, 'landmark_weight': 0.2628253888577269}. Best is trial 24 with value: 12.143940006176098.\n",
      "[I 2024-12-01 14:58:42,870] Trial 30 finished with value: 84.27880140014751 and parameters: {'park_weight': 0.19656478326214033, 'school_weight': 0.06654049055466073, 'supermarket_weight': 0.4896513999567028, 'landmark_weight': 0.7013932135192893}. Best is trial 24 with value: 12.143940006176098.\n",
      "[I 2024-12-01 14:59:06,628] Trial 31 finished with value: 29.486074134365033 and parameters: {'park_weight': 0.3932195988818474, 'school_weight': 0.007291978331902685, 'supermarket_weight': 0.3104645569902539, 'landmark_weight': 0.20998692432528543}. Best is trial 24 with value: 12.143940006176098.\n",
      "[I 2024-12-01 14:59:29,895] Trial 32 finished with value: 18.744468472888048 and parameters: {'park_weight': 0.1919375992593192, 'school_weight': 0.045808536567781576, 'supermarket_weight': 0.19193979850601356, 'landmark_weight': 0.08256625590717448}. Best is trial 24 with value: 12.143940006176098.\n",
      "[I 2024-12-01 14:59:53,085] Trial 33 finished with value: 25.720807640023715 and parameters: {'park_weight': 0.05889947027393246, 'school_weight': 0.1501997425152929, 'supermarket_weight': 0.24253886203469438, 'landmark_weight': 0.34075207220960657}. Best is trial 24 with value: 12.143940006176098.\n",
      "[I 2024-12-01 15:00:16,531] Trial 34 finished with value: 83.83996206712087 and parameters: {'park_weight': 0.9997991395102976, 'school_weight': 0.001220819519721219, 'supermarket_weight': 0.34042153997156255, 'landmark_weight': 0.1497998292486491}. Best is trial 24 with value: 12.143940006176098.\n",
      "[I 2024-12-01 15:00:40,013] Trial 35 finished with value: 73.88728090566924 and parameters: {'park_weight': 0.24748464532272774, 'school_weight': 0.20503828459278572, 'supermarket_weight': 0.5796897993071221, 'landmark_weight': 0.4011741943095024}. Best is trial 24 with value: 12.143940006176098.\n",
      "[I 2024-12-01 15:01:03,414] Trial 36 finished with value: 116.00610394818177 and parameters: {'park_weight': 0.5475834926780347, 'school_weight': 0.7849076385301303, 'supermarket_weight': 0.11425537065138203, 'landmark_weight': 0.04331493470263746}. Best is trial 24 with value: 12.143940006176098.\n",
      "[I 2024-12-01 15:01:27,357] Trial 37 finished with value: 22.49497619562835 and parameters: {'park_weight': 0.2979845451054529, 'school_weight': 0.05721880594287739, 'supermarket_weight': 0.0885285265260849, 'landmark_weight': 0.2760239617300955}. Best is trial 24 with value: 12.143940006176098.\n",
      "[I 2024-12-01 15:01:50,208] Trial 38 finished with value: 66.01600593902609 and parameters: {'park_weight': 0.16548619529053954, 'school_weight': 0.2976109553712553, 'supermarket_weight': 0.6917881720525366, 'landmark_weight': 0.12821814791563987}. Best is trial 24 with value: 12.143940006176098.\n",
      "[I 2024-12-01 15:02:12,939] Trial 39 finished with value: 114.31584468138196 and parameters: {'park_weight': 0.24211950415823627, 'school_weight': 0.6032193133300843, 'supermarket_weight': 0.240016018430312, 'landmark_weight': 0.5121738140962654}. Best is trial 24 with value: 12.143940006176098.\n",
      "[I 2024-12-01 15:02:35,664] Trial 40 finished with value: 25.9068612985747 and parameters: {'park_weight': 0.062025971871551705, 'school_weight': 0.14019972019918236, 'supermarket_weight': 0.33634686202213726, 'landmark_weight': 0.23352949255252886}. Best is trial 24 with value: 12.143940006176098.\n",
      "[I 2024-12-01 15:02:58,288] Trial 41 finished with value: 17.34264771913616 and parameters: {'park_weight': 0.15340528429969866, 'school_weight': 0.11452593839437707, 'supermarket_weight': 0.18230230875672104, 'landmark_weight': 0.18840319443923195}. Best is trial 24 with value: 12.143940006176098.\n",
      "[I 2024-12-01 15:03:20,994] Trial 42 finished with value: 89.35812809390302 and parameters: {'park_weight': 0.15885738481628817, 'school_weight': 0.04462289885666047, 'supermarket_weight': 0.18529528481796625, 'landmark_weight': 0.9217407135018714}. Best is trial 24 with value: 12.143940006176098.\n",
      "[I 2024-12-01 15:03:43,981] Trial 43 finished with value: 24.534370417185364 and parameters: {'park_weight': 0.23095396683604774, 'school_weight': 0.11947914998928023, 'supermarket_weight': 0.26244220831901244, 'landmark_weight': 0.16774781060603217}. Best is trial 24 with value: 12.143940006176098.\n",
      "[I 2024-12-01 15:04:06,684] Trial 44 finished with value: 35.705700399396314 and parameters: {'park_weight': 0.06778613321554078, 'school_weight': 0.17882027237684103, 'supermarket_weight': 0.08109607558282035, 'landmark_weight': 0.03299641600872502}. Best is trial 24 with value: 12.143940006176098.\n",
      "[I 2024-12-01 15:04:29,359] Trial 45 finished with value: 52.27263598420217 and parameters: {'park_weight': 0.31344392242774194, 'school_weight': 0.24500115786894494, 'supermarket_weight': 0.45399103125937135, 'landmark_weight': 0.10327042872469594}. Best is trial 24 with value: 12.143940006176098.\n",
      "[I 2024-12-01 15:04:52,237] Trial 46 finished with value: 18.634017412922457 and parameters: {'park_weight': 0.1533331712779717, 'school_weight': 0.03843928572684922, 'supermarket_weight': 0.2811918922887474, 'landmark_weight': 0.30562511692941113}. Best is trial 24 with value: 12.143940006176098.\n",
      "[I 2024-12-01 15:05:14,846] Trial 47 finished with value: 14.686853451406668 and parameters: {'park_weight': 0.04661979195075977, 'school_weight': 0.0030850494405910396, 'supermarket_weight': 0.18444901286368087, 'landmark_weight': 0.39564235765593425}. Best is trial 24 with value: 12.143940006176098.\n",
      "[I 2024-12-01 15:05:37,604] Trial 48 finished with value: 31.561702666774217 and parameters: {'park_weight': 0.26680399679216743, 'school_weight': 0.09436876132550726, 'supermarket_weight': 0.00018750525301736154, 'landmark_weight': 0.3725986446912418}. Best is trial 24 with value: 12.143940006176098.\n",
      "[I 2024-12-01 15:06:00,271] Trial 49 finished with value: 122.1497145806336 and parameters: {'park_weight': 0.41804565313343856, 'school_weight': 0.8528326209455264, 'supermarket_weight': 0.19148547126418883, 'landmark_weight': 0.0020948761051401976}. Best is trial 24 with value: 12.143940006176098.\n",
      "[I 2024-12-01 15:06:23,026] Trial 50 finished with value: 109.128169524012 and parameters: {'park_weight': 0.3380077707336485, 'school_weight': 0.36537970728702196, 'supermarket_weight': 0.10932887561659275, 'landmark_weight': 0.6887822052609157}. Best is trial 24 with value: 12.143940006176098.\n",
      "[I 2024-12-01 15:06:45,723] Trial 51 finished with value: 13.824634297062152 and parameters: {'park_weight': 0.03830128929450691, 'school_weight': 0.004918064589881801, 'supermarket_weight': 0.17350483209252313, 'landmark_weight': 0.22586306271848877}. Best is trial 24 with value: 12.143940006176098.\n",
      "[I 2024-12-01 15:07:08,456] Trial 52 finished with value: 12.456912412976909 and parameters: {'park_weight': 0.045581407875819546, 'school_weight': 0.0008142078342352659, 'supermarket_weight': 0.1598452812920012, 'landmark_weight': 0.2218246590779836}. Best is trial 24 with value: 12.143940006176098.\n",
      "[I 2024-12-01 15:07:31,136] Trial 53 finished with value: 24.958716462682553 and parameters: {'park_weight': 0.04411104271936139, 'school_weight': 0.0254735874413484, 'supermarket_weight': 0.23224100499846506, 'landmark_weight': 0.47853363759189105}. Best is trial 24 with value: 12.143940006176098.\n",
      "[I 2024-12-01 15:07:54,187] Trial 54 finished with value: 13.156503285138797 and parameters: {'park_weight': 0.08523182578761168, 'school_weight': 0.07235344565830022, 'supermarket_weight': 0.061089078216654935, 'landmark_weight': 0.2341367732862308}. Best is trial 24 with value: 12.143940006176098.\n",
      "[I 2024-12-01 15:08:18,159] Trial 55 finished with value: 15.662897080156892 and parameters: {'park_weight': 0.08573393918494479, 'school_weight': 0.0003142063303806362, 'supermarket_weight': 0.04351888294182513, 'landmark_weight': 0.23725814130133532}. Best is trial 24 with value: 12.143940006176098.\n",
      "[I 2024-12-01 15:08:41,005] Trial 56 finished with value: 6.766622929220361 and parameters: {'park_weight': 0.021999667411147075, 'school_weight': 0.0782456101958318, 'supermarket_weight': 0.15617114038903443, 'landmark_weight': 0.30105764290091597}. Best is trial 56 with value: 6.766622929220361.\n",
      "[I 2024-12-01 15:09:03,701] Trial 57 finished with value: 5.27660318697513 and parameters: {'park_weight': 0.0028327112911314817, 'school_weight': 0.06873522394607533, 'supermarket_weight': 0.12977814488884673, 'landmark_weight': 0.3077448992960468}. Best is trial 57 with value: 5.27660318697513.\n",
      "[I 2024-12-01 15:09:26,483] Trial 58 finished with value: 7.417247240233283 and parameters: {'park_weight': 0.010637644926270423, 'school_weight': 0.08181778909651277, 'supermarket_weight': 0.12026275027890651, 'landmark_weight': 0.29590594143964355}. Best is trial 57 with value: 5.27660318697513.\n",
      "[I 2024-12-01 15:09:49,306] Trial 59 finished with value: 7.700660711067732 and parameters: {'park_weight': 0.021324559561156253, 'school_weight': 0.07414455586249846, 'supermarket_weight': 0.03310104367982203, 'landmark_weight': 0.3123526252326189}. Best is trial 57 with value: 5.27660318697513.\n",
      "[I 2024-12-01 15:10:12,047] Trial 60 finished with value: 19.825853981580146 and parameters: {'park_weight': 0.01711031265158, 'school_weight': 0.1760803419721955, 'supermarket_weight': 0.10373827963841734, 'landmark_weight': 0.30547656138575147}. Best is trial 57 with value: 5.27660318697513.\n",
      "[I 2024-12-01 15:10:34,903] Trial 61 finished with value: 11.24660745586409 and parameters: {'park_weight': 0.0009631195163421914, 'school_weight': 0.08422243349730213, 'supermarket_weight': 0.031604349365857855, 'landmark_weight': 0.2999995732338317}. Best is trial 57 with value: 5.27660318697513.\n",
      "[I 2024-12-01 15:10:57,750] Trial 62 finished with value: 15.754788091259774 and parameters: {'park_weight': 0.007394096158956873, 'school_weight': 0.13961755447064053, 'supermarket_weight': 0.028520350347152737, 'landmark_weight': 0.30800963542913756}. Best is trial 57 with value: 5.27660318697513.\n",
      "[I 2024-12-01 15:11:20,541] Trial 63 finished with value: 20.261704183895347 and parameters: {'park_weight': 0.12888630440205437, 'school_weight': 0.09347824308585084, 'supermarket_weight': 0.13390264654634282, 'landmark_weight': 0.3581046232722026}. Best is trial 57 with value: 5.27660318697513.\n",
      "[I 2024-12-01 15:11:43,458] Trial 64 finished with value: 10.685045647358898 and parameters: {'park_weight': 0.005776319683832951, 'school_weight': 0.07666404444515632, 'supermarket_weight': 0.07676225337463452, 'landmark_weight': 0.42665806241862303}. Best is trial 57 with value: 5.27660318697513.\n",
      "[I 2024-12-01 15:12:06,200] Trial 65 finished with value: 30.322344905288606 and parameters: {'park_weight': 0.12377953049045168, 'school_weight': 0.12607853459553078, 'supermarket_weight': 0.03587302609870924, 'landmark_weight': 0.43943336380234543}. Best is trial 57 with value: 5.27660318697513.\n",
      "[I 2024-12-01 15:12:29,053] Trial 66 finished with value: 30.196254054250964 and parameters: {'park_weight': 0.023351952665195942, 'school_weight': 0.07628742619171625, 'supermarket_weight': 0.07041079193590526, 'landmark_weight': 0.5398270827493349}. Best is trial 57 with value: 5.27660318697513.\n",
      "[I 2024-12-01 15:12:51,749] Trial 67 finished with value: 96.2426694705184 and parameters: {'park_weight': 0.6850449738040755, 'school_weight': 0.21602054771861257, 'supermarket_weight': 0.11679962064855652, 'landmark_weight': 0.4124165629684861}. Best is trial 57 with value: 5.27660318697513.\n",
      "[I 2024-12-01 15:13:14,551] Trial 68 finished with value: 45.09808282208304 and parameters: {'park_weight': 0.08624658748714249, 'school_weight': 0.2968470406726338, 'supermarket_weight': 0.009159601202489154, 'landmark_weight': 0.4665640956972701}. Best is trial 57 with value: 5.27660318697513.\n",
      "[I 2024-12-01 15:13:37,321] Trial 69 finished with value: 164.67610630543464 and parameters: {'park_weight': 0.003933262014864233, 'school_weight': 0.980427712333054, 'supermarket_weight': 0.90472032785569, 'landmark_weight': 0.3708285354615958}. Best is trial 57 with value: 5.27660318697513.\n",
      "[I 2024-12-01 15:14:00,164] Trial 70 finished with value: 18.282582401425948 and parameters: {'park_weight': 0.0012910156723259791, 'school_weight': 0.17013899370908908, 'supermarket_weight': 0.08415978962491785, 'landmark_weight': 0.33423392423148196}. Best is trial 57 with value: 5.27660318697513.\n",
      "[I 2024-12-01 15:14:23,080] Trial 71 finished with value: 3.5767226195329846 and parameters: {'park_weight': 0.056373111570424385, 'school_weight': 0.03911927186494138, 'supermarket_weight': 0.15195772312636746, 'landmark_weight': 0.2878565416043185}. Best is trial 71 with value: 3.5767226195329846.\n",
      "[I 2024-12-01 15:14:45,941] Trial 72 finished with value: 4.158880289634886 and parameters: {'park_weight': 0.07581642277142112, 'school_weight': 0.04219440466699521, 'supermarket_weight': 0.12667296830895963, 'landmark_weight': 0.2964080611198759}. Best is trial 71 with value: 3.5767226195329846.\n",
      "[I 2024-12-01 15:15:08,752] Trial 73 finished with value: 4.164508106181316 and parameters: {'park_weight': 0.07255052748274632, 'school_weight': 0.040125501977834765, 'supermarket_weight': 0.14412921970093684, 'landmark_weight': 0.28582754480548006}. Best is trial 71 with value: 3.5767226195329846.\n",
      "[I 2024-12-01 15:15:31,511] Trial 74 finished with value: 4.185984530636714 and parameters: {'park_weight': 0.07445018549334136, 'school_weight': 0.04108694419752651, 'supermarket_weight': 0.1443918182448684, 'landmark_weight': 0.2715902634740699}. Best is trial 71 with value: 3.5767226195329846.\n",
      "[I 2024-12-01 15:15:54,283] Trial 75 finished with value: 6.365070627672217 and parameters: {'park_weight': 0.1185699461523138, 'school_weight': 0.04839171906216204, 'supermarket_weight': 0.15755688866908946, 'landmark_weight': 0.2769744448793294}. Best is trial 71 with value: 3.5767226195329846.\n",
      "[I 2024-12-01 15:16:17,093] Trial 76 finished with value: 6.5396087981424715 and parameters: {'park_weight': 0.12837075869236989, 'school_weight': 0.030077818282233184, 'supermarket_weight': 0.1392391530070377, 'landmark_weight': 0.28374599513400767}. Best is trial 71 with value: 3.5767226195329846.\n",
      "[I 2024-12-01 15:16:39,859] Trial 77 finished with value: 7.441779040103296 and parameters: {'park_weight': 0.12843656504027284, 'school_weight': 0.0344733824012077, 'supermarket_weight': 0.21615612302123463, 'landmark_weight': 0.2700481957615491}. Best is trial 71 with value: 3.5767226195329846.\n",
      "[I 2024-12-01 15:17:02,938] Trial 78 finished with value: 7.814066844789158 and parameters: {'park_weight': 0.10139814777815469, 'school_weight': 0.03690987050271641, 'supermarket_weight': 0.2514446746016662, 'landmark_weight': 0.2584484433279323}. Best is trial 71 with value: 3.5767226195329846.\n",
      "[I 2024-12-01 15:17:25,681] Trial 79 finished with value: 18.83457885232182 and parameters: {'park_weight': 0.06700365138488137, 'school_weight': 0.10909628314162727, 'supermarket_weight': 0.14711383704061426, 'landmark_weight': 0.1714925556469076}. Best is trial 71 with value: 3.5767226195329846.\n",
      "[I 2024-12-01 15:17:48,320] Trial 80 finished with value: 83.6573826547962 and parameters: {'park_weight': 0.17852226239779334, 'school_weight': 0.5384771579485955, 'supermarket_weight': 0.22077555448277386, 'landmark_weight': 0.3794707197064818}. Best is trial 71 with value: 3.5767226195329846.\n",
      "[I 2024-12-01 15:18:11,608] Trial 81 finished with value: 4.7803528145925585 and parameters: {'park_weight': 0.07855055708988973, 'school_weight': 0.052259386121649945, 'supermarket_weight': 0.1296634324634219, 'landmark_weight': 0.28435905758251284}. Best is trial 71 with value: 3.5767226195329846.\n",
      "[I 2024-12-01 15:18:34,238] Trial 82 finished with value: 14.823090413391522 and parameters: {'park_weight': 0.1349575749010719, 'school_weight': 0.051643978964993946, 'supermarket_weight': 0.15493876569491866, 'landmark_weight': 0.3341622924114525}. Best is trial 71 with value: 3.5767226195329846.\n",
      "[I 2024-12-01 15:18:57,633] Trial 83 finished with value: 3.917836050183797 and parameters: {'park_weight': 0.07934534277027895, 'school_weight': 0.030976649845404276, 'supermarket_weight': 0.16225211993542865, 'landmark_weight': 0.2823130785414328}. Best is trial 71 with value: 3.5767226195329846.\n",
      "[I 2024-12-01 15:19:20,757] Trial 84 finished with value: 5.14051595591796 and parameters: {'park_weight': 0.0955916683942764, 'school_weight': 0.03716232310128535, 'supermarket_weight': 0.13369732152448205, 'landmark_weight': 0.2488246826729439}. Best is trial 71 with value: 3.5767226195329846.\n",
      "[I 2024-12-01 15:19:43,860] Trial 85 finished with value: 24.34739285562795 and parameters: {'park_weight': 0.07616253920813137, 'school_weight': 0.1290783910731075, 'supermarket_weight': 0.3124764642594985, 'landmark_weight': 0.24693669288891815}. Best is trial 71 with value: 3.5767226195329846.\n",
      "[I 2024-12-01 15:20:07,173] Trial 86 finished with value: 38.87451052380789 and parameters: {'park_weight': 0.10147181420243638, 'school_weight': 0.05463073377332709, 'supermarket_weight': 0.7417048936167943, 'landmark_weight': 0.20351797320048318}. Best is trial 71 with value: 3.5767226195329846.\n",
      "[I 2024-12-01 15:20:30,601] Trial 87 finished with value: 36.41939288464531 and parameters: {'park_weight': 0.20525034303237266, 'school_weight': 0.15024102974803455, 'supermarket_weight': 0.20506953713315942, 'landmark_weight': 0.35520365521303443}. Best is trial 71 with value: 3.5767226195329846.\n",
      "[I 2024-12-01 15:20:54,220] Trial 88 finished with value: 12.241704935584291 and parameters: {'park_weight': 0.15130464054975132, 'school_weight': 0.02544194869103113, 'supermarket_weight': 0.10239110201801174, 'landmark_weight': 0.16873524905032006}. Best is trial 71 with value: 3.5767226195329846.\n",
      "[I 2024-12-01 15:21:18,441] Trial 89 finished with value: 49.90048499740233 and parameters: {'park_weight': 0.05613300839848951, 'school_weight': 0.4298074017445142, 'supermarket_weight': 0.12812865740392254, 'landmark_weight': 0.2502252166262199}. Best is trial 71 with value: 3.5767226195329846.\n",
      "[I 2024-12-01 15:21:42,260] Trial 90 finished with value: 94.04379140946021 and parameters: {'park_weight': 0.8665018997897896, 'school_weight': 0.10356881129809738, 'supermarket_weight': 0.1638545472504411, 'landmark_weight': 0.3274637925240783}. Best is trial 71 with value: 3.5767226195329846.\n",
      "[I 2024-12-01 15:22:05,032] Trial 91 finished with value: 6.403925183181803 and parameters: {'park_weight': 0.11392536394318337, 'school_weight': 0.034547905617514786, 'supermarket_weight': 0.1365038784843497, 'landmark_weight': 0.2801782224494007}. Best is trial 71 with value: 3.5767226195329846.\n",
      "[I 2024-12-01 15:22:27,755] Trial 92 finished with value: 5.075232426900911 and parameters: {'park_weight': 0.10158953758543303, 'school_weight': 0.05496795168752146, 'supermarket_weight': 0.09589902414110424, 'landmark_weight': 0.275130859610612}. Best is trial 71 with value: 3.5767226195329846.\n",
      "[I 2024-12-01 15:22:50,477] Trial 93 finished with value: 65.43643948235595 and parameters: {'park_weight': 0.8102079957516035, 'school_weight': 0.049436580112004594, 'supermarket_weight': 0.09587377933541869, 'landmark_weight': 0.2103540233423245}. Best is trial 71 with value: 3.5767226195329846.\n",
      "[I 2024-12-01 15:23:13,113] Trial 94 finished with value: 15.511905861252743 and parameters: {'park_weight': 0.08279002591080546, 'school_weight': 0.11494832138504035, 'supermarket_weight': 0.06458102977889653, 'landmark_weight': 0.2551230721303006}. Best is trial 71 with value: 3.5767226195329846.\n",
      "[I 2024-12-01 15:23:35,815] Trial 95 finished with value: 13.553897588910482 and parameters: {'park_weight': 0.037991699094489254, 'school_weight': 0.05743367367450304, 'supermarket_weight': 0.17714495738571479, 'landmark_weight': 0.18866130556057853}. Best is trial 71 with value: 3.5767226195329846.\n",
      "[I 2024-12-01 15:23:58,586] Trial 96 finished with value: 16.43040350671938 and parameters: {'park_weight': 0.17382786780571022, 'school_weight': 0.023845260390279295, 'supermarket_weight': 0.20129462177846835, 'landmark_weight': 0.3216976536327281}. Best is trial 71 with value: 3.5767226195329846.\n",
      "[I 2024-12-01 15:24:21,255] Trial 97 finished with value: 23.986871503259035 and parameters: {'park_weight': 0.10335429494302582, 'school_weight': 0.1917787963938407, 'supermarket_weight': 0.1196003800511295, 'landmark_weight': 0.28261517127835406}. Best is trial 71 with value: 3.5767226195329846.\n",
      "[I 2024-12-01 15:24:44,031] Trial 98 finished with value: 16.317393973291438 and parameters: {'park_weight': 0.06746970216592023, 'school_weight': 0.09724159653861603, 'supermarket_weight': 0.052286735279676866, 'landmark_weight': 0.38556118405343187}. Best is trial 71 with value: 3.5767226195329846.\n",
      "[I 2024-12-01 15:25:06,629] Trial 99 finished with value: 30.320705184134273 and parameters: {'park_weight': 0.03596041648465026, 'school_weight': 0.06286284677538623, 'supermarket_weight': 0.5478438357513867, 'landmark_weight': 0.350667825128677}. Best is trial 71 with value: 3.5767226195329846.\n",
      "[I 2024-12-01 15:25:06,630] A new study created in memory with name: no-name-be1edf32-f1b5-4b6c-a914-689ba209ab78\n"
     ]
    },
    {
     "name": "stdout",
     "output_type": "stream",
     "text": [
      "Year 2014 Best Parameters: {'park_weight': 0.056373111570424385, 'school_weight': 0.03911927186494138, 'supermarket_weight': 0.15195772312636746, 'landmark_weight': 0.2878565416043185}\n",
      "Year 2014 Best MAPE: 3.5767226195329846\n",
      "Running Optuna study for year index: 1\n"
     ]
    },
    {
     "name": "stderr",
     "output_type": "stream",
     "text": [
      "[I 2024-12-01 15:25:29,371] Trial 0 finished with value: 124.23810780695442 and parameters: {'park_weight': 0.3930261993566765, 'school_weight': 0.5092884968402848, 'supermarket_weight': 0.6251809061953412, 'landmark_weight': 0.21686408999454532}. Best is trial 0 with value: 124.23810780695442.\n",
      "[I 2024-12-01 15:25:52,213] Trial 1 finished with value: 207.3043144782253 and parameters: {'park_weight': 0.544582443873454, 'school_weight': 0.8420884498277382, 'supermarket_weight': 0.6180687601171581, 'landmark_weight': 0.38570484542263206}. Best is trial 0 with value: 124.23810780695442.\n",
      "[I 2024-12-01 15:26:15,099] Trial 2 finished with value: 231.27550051964226 and parameters: {'park_weight': 0.7187783995261697, 'school_weight': 0.7466267547796135, 'supermarket_weight': 0.4020440222870195, 'landmark_weight': 0.6608889366244639}. Best is trial 0 with value: 124.23810780695442.\n",
      "[I 2024-12-01 15:26:38,181] Trial 3 finished with value: 189.8966804605524 and parameters: {'park_weight': 0.614583439244588, 'school_weight': 0.48003734196648384, 'supermarket_weight': 0.7062152380157952, 'landmark_weight': 0.5541656384085561}. Best is trial 0 with value: 124.23810780695442.\n",
      "[I 2024-12-01 15:27:01,046] Trial 4 finished with value: 165.5210322248925 and parameters: {'park_weight': 0.12529707546804236, 'school_weight': 0.9609486074512865, 'supermarket_weight': 0.5152804176140923, 'landmark_weight': 0.11115928285235221}. Best is trial 0 with value: 124.23810780695442.\n",
      "[I 2024-12-01 15:27:23,900] Trial 5 finished with value: 210.2528703274948 and parameters: {'park_weight': 0.5448517378425494, 'school_weight': 0.9986756864247613, 'supermarket_weight': 0.3169904086767701, 'landmark_weight': 0.38580992552438576}. Best is trial 0 with value: 124.23810780695442.\n",
      "[I 2024-12-01 15:27:46,692] Trial 6 finished with value: 183.02459159302703 and parameters: {'park_weight': 0.6326286537821287, 'school_weight': 0.7588082359716845, 'supermarket_weight': 0.09736291661479879, 'landmark_weight': 0.4829704452960625}. Best is trial 0 with value: 124.23810780695442.\n",
      "[I 2024-12-01 15:28:09,467] Trial 7 finished with value: 157.00863729177053 and parameters: {'park_weight': 0.026167415961977025, 'school_weight': 0.88474891922336, 'supermarket_weight': 0.5298807391320127, 'landmark_weight': 0.4109554502548708}. Best is trial 0 with value: 124.23810780695442.\n",
      "[I 2024-12-01 15:28:32,105] Trial 8 finished with value: 118.73500182538021 and parameters: {'park_weight': 0.9257407349546448, 'school_weight': 0.182755138171661, 'supermarket_weight': 0.3220937772719632, 'landmark_weight': 0.22470747392187596}. Best is trial 8 with value: 118.73500182538021.\n",
      "[I 2024-12-01 15:28:54,880] Trial 9 finished with value: 131.16169003774965 and parameters: {'park_weight': 0.028043210408415953, 'school_weight': 0.04056491571101695, 'supermarket_weight': 0.8758685268747806, 'landmark_weight': 0.9765893278509938}. Best is trial 8 with value: 118.73500182538021.\n",
      "[I 2024-12-01 15:29:17,597] Trial 10 finished with value: 71.38879073557789 and parameters: {'park_weight': 0.9897099549347288, 'school_weight': 0.06276397292951671, 'supermarket_weight': 0.01069999203620653, 'landmark_weight': 0.043734728009987456}. Best is trial 10 with value: 71.38879073557789.\n",
      "[I 2024-12-01 15:29:40,314] Trial 11 finished with value: 80.39179480013021 and parameters: {'park_weight': 0.9979989848599691, 'school_weight': 0.038132587683729846, 'supermarket_weight': 0.004597335808016023, 'landmark_weight': 0.14264876364469065}. Best is trial 10 with value: 71.38879073557789.\n",
      "[I 2024-12-01 15:30:03,097] Trial 12 finished with value: 60.914001323982234 and parameters: {'park_weight': 0.9570501366392782, 'school_weight': 0.0040592288496431594, 'supermarket_weight': 0.001194405082576699, 'landmark_weight': 0.05429809763657807}. Best is trial 12 with value: 60.914001323982234.\n",
      "[I 2024-12-01 15:30:25,864] Trial 13 finished with value: 81.96647312178462 and parameters: {'park_weight': 0.8413834455773164, 'school_weight': 0.25356933270711796, 'supermarket_weight': 0.14688354407516543, 'landmark_weight': 0.019189161583247433}. Best is trial 12 with value: 60.914001323982234.\n",
      "[I 2024-12-01 15:30:48,709] Trial 14 finished with value: 80.4441890705687 and parameters: {'park_weight': 0.8206355505339494, 'school_weight': 0.26051339859743705, 'supermarket_weight': 0.18050435580623284, 'landmark_weight': 0.0017580668103995903}. Best is trial 12 with value: 60.914001323982234.\n",
      "[I 2024-12-01 15:31:11,464] Trial 15 finished with value: 127.59490636724884 and parameters: {'park_weight': 0.37637196111324134, 'school_weight': 0.3874528243161046, 'supermarket_weight': 0.0005989553103796232, 'landmark_weight': 0.7131934950805846}. Best is trial 12 with value: 60.914001323982234.\n",
      "[I 2024-12-01 15:31:34,168] Trial 16 finished with value: 77.44133533733738 and parameters: {'park_weight': 0.7788142601248274, 'school_weight': 0.007743590202923938, 'supermarket_weight': 0.23421666544357422, 'landmark_weight': 0.24123254785106535}. Best is trial 12 with value: 60.914001323982234.\n",
      "[I 2024-12-01 15:31:57,511] Trial 17 finished with value: 144.52218121945484 and parameters: {'park_weight': 0.9960995146369203, 'school_weight': 0.14354481889974607, 'supermarket_weight': 0.9181868775060927, 'landmark_weight': 0.11516673406083383}. Best is trial 12 with value: 60.914001323982234.\n",
      "[I 2024-12-01 15:32:20,181] Trial 18 finished with value: 219.89197582677335 and parameters: {'park_weight': 0.9119256472531323, 'school_weight': 0.36701217568195743, 'supermarket_weight': 0.07546339772054234, 'landmark_weight': 0.9799030106489635}. Best is trial 12 with value: 60.914001323982234.\n",
      "[I 2024-12-01 15:32:42,910] Trial 19 finished with value: 52.776044034952655 and parameters: {'park_weight': 0.31325786935920574, 'school_weight': 0.13982470417935466, 'supermarket_weight': 0.27965290825513145, 'landmark_weight': 0.2977122256688216}. Best is trial 19 with value: 52.776044034952655.\n",
      "[I 2024-12-01 15:33:05,793] Trial 20 finished with value: 107.95316338452076 and parameters: {'park_weight': 0.23770556636917606, 'school_weight': 0.6160442835466222, 'supermarket_weight': 0.24300145873330384, 'landmark_weight': 0.29830728580260635}. Best is trial 19 with value: 52.776044034952655.\n",
      "[I 2024-12-01 15:33:28,656] Trial 21 finished with value: 45.70809270186845 and parameters: {'park_weight': 0.3368576838916557, 'school_weight': 0.13563145445595423, 'supermarket_weight': 0.40586799962481135, 'landmark_weight': 0.06652035170081462}. Best is trial 21 with value: 45.70809270186845.\n",
      "[I 2024-12-01 15:33:51,411] Trial 22 finished with value: 66.69567281043895 and parameters: {'park_weight': 0.347214065899816, 'school_weight': 0.15154105902027343, 'supermarket_weight': 0.4256684839654452, 'landmark_weight': 0.29750500066595276}. Best is trial 21 with value: 45.70809270186845.\n",
      "[I 2024-12-01 15:34:14,123] Trial 23 finished with value: 56.83106940115813 and parameters: {'park_weight': 0.24859802533087316, 'school_weight': 0.2458389324166873, 'supermarket_weight': 0.36347022343750934, 'landmark_weight': 0.1333898516278771}. Best is trial 21 with value: 45.70809270186845.\n",
      "[I 2024-12-01 15:34:36,830] Trial 24 finished with value: 68.96102573350608 and parameters: {'park_weight': 0.2410354484085796, 'school_weight': 0.29810547868213594, 'supermarket_weight': 0.4085095615705009, 'landmark_weight': 0.20094422867208023}. Best is trial 21 with value: 45.70809270186845.\n",
      "[I 2024-12-01 15:34:59,597] Trial 25 finished with value: 48.807198557498914 and parameters: {'park_weight': 0.25994544352746185, 'school_weight': 0.13452729231848293, 'supermarket_weight': 0.3180955772032064, 'landmark_weight': 0.3024138271395583}. Best is trial 21 with value: 45.70809270186845.\n",
      "[I 2024-12-01 15:35:22,340] Trial 26 finished with value: 66.86052011487718 and parameters: {'park_weight': 0.4479155296147804, 'school_weight': 0.12907778656893135, 'supermarket_weight': 0.23769651623821614, 'landmark_weight': 0.3198284784338477}. Best is trial 21 with value: 45.70809270186845.\n",
      "[I 2024-12-01 15:35:45,203] Trial 27 finished with value: 101.98579616541514 and parameters: {'park_weight': 0.15476290717206453, 'school_weight': 0.35668669458527325, 'supermarket_weight': 0.4720503968603479, 'landmark_weight': 0.5043142564911822}. Best is trial 21 with value: 45.70809270186845.\n",
      "[I 2024-12-01 15:36:08,072] Trial 28 finished with value: 91.08626972422363 and parameters: {'park_weight': 0.3091463934684854, 'school_weight': 0.10735466733777502, 'supermarket_weight': 0.30243278628517417, 'landmark_weight': 0.6309263837251857}. Best is trial 21 with value: 45.70809270186845.\n",
      "[I 2024-12-01 15:36:30,785] Trial 29 finished with value: 198.94351342049416 and parameters: {'park_weight': 0.4350125580327914, 'school_weight': 0.5129708927496914, 'supermarket_weight': 0.6234390641270157, 'landmark_weight': 0.7952044405501357}. Best is trial 21 with value: 45.70809270186845.\n",
      "[I 2024-12-01 15:36:53,593] Trial 30 finished with value: 107.04592710943174 and parameters: {'park_weight': 0.137028270423597, 'school_weight': 0.46898018506969774, 'supermarket_weight': 0.7502562969161823, 'landmark_weight': 0.1889413348196629}. Best is trial 21 with value: 45.70809270186845.\n",
      "[I 2024-12-01 15:37:16,223] Trial 31 finished with value: 54.22536189259707 and parameters: {'park_weight': 0.2773230334216999, 'school_weight': 0.2167930305407946, 'supermarket_weight': 0.35904012410868513, 'landmark_weight': 0.1382735696841818}. Best is trial 21 with value: 45.70809270186845.\n",
      "[I 2024-12-01 15:37:38,825] Trial 32 finished with value: 77.87271811609075 and parameters: {'park_weight': 0.30575941298084175, 'school_weight': 0.20221452310639842, 'supermarket_weight': 0.5505190009376727, 'landmark_weight': 0.3053076967691118}. Best is trial 21 with value: 45.70809270186845.\n",
      "[I 2024-12-01 15:38:01,508] Trial 33 finished with value: 48.60583824518523 and parameters: {'park_weight': 0.4483638099442562, 'school_weight': 0.08563604861080243, 'supermarket_weight': 0.4579887203391404, 'landmark_weight': 0.07978143589479925}. Best is trial 21 with value: 45.70809270186845.\n",
      "[I 2024-12-01 15:38:24,232] Trial 34 finished with value: 91.79746105727153 and parameters: {'park_weight': 0.49063690646792724, 'school_weight': 0.08214695759393825, 'supermarket_weight': 0.4622678117515158, 'landmark_weight': 0.4243316529781478}. Best is trial 21 with value: 45.70809270186845.\n",
      "[I 2024-12-01 15:38:46,868] Trial 35 finished with value: 74.12883492204553 and parameters: {'park_weight': 0.19316290085932963, 'school_weight': 0.31253124022521966, 'supermarket_weight': 0.5937373728092549, 'landmark_weight': 0.06535284131210461}. Best is trial 21 with value: 45.70809270186845.\n",
      "[I 2024-12-01 15:39:09,506] Trial 36 finished with value: 96.13998047605395 and parameters: {'park_weight': 0.567866064477347, 'school_weight': 0.10850045284243409, 'supermarket_weight': 0.6869976987615566, 'landmark_weight': 0.25309656748838516}. Best is trial 21 with value: 45.70809270186845.\n",
      "[I 2024-12-01 15:39:32,187] Trial 37 finished with value: 75.89199224928421 and parameters: {'park_weight': 0.4108994060927162, 'school_weight': 0.18320897581909182, 'supermarket_weight': 0.30067850345764047, 'landmark_weight': 0.3458097076259631}. Best is trial 21 with value: 45.70809270186845.\n",
      "[I 2024-12-01 15:39:54,796] Trial 38 finished with value: 143.24847597301329 and parameters: {'park_weight': 0.4914750851891021, 'school_weight': 0.4461932323489476, 'supermarket_weight': 0.4371287909754827, 'landmark_weight': 0.4624710111911138}. Best is trial 21 with value: 45.70809270186845.\n",
      "[I 2024-12-01 15:40:17,551] Trial 39 finished with value: 137.70404572118855 and parameters: {'park_weight': 0.35654379911127454, 'school_weight': 0.6225759950093536, 'supermarket_weight': 0.3673673018507105, 'landmark_weight': 0.3688089102735576}. Best is trial 21 with value: 45.70809270186845.\n",
      "[I 2024-12-01 15:40:40,162] Trial 40 finished with value: 112.98581237144936 and parameters: {'park_weight': 0.6631390855760855, 'school_weight': 0.3164119005949722, 'supermarket_weight': 0.49692934042146963, 'landmark_weight': 0.18052601524602113}. Best is trial 21 with value: 45.70809270186845.\n",
      "[I 2024-12-01 15:41:03,063] Trial 41 finished with value: 51.845850881591865 and parameters: {'park_weight': 0.3019262833959767, 'school_weight': 0.2001719127111629, 'supermarket_weight': 0.36460158921101904, 'landmark_weight': 0.10400511749506126}. Best is trial 21 with value: 45.70809270186845.\n",
      "[I 2024-12-01 15:41:25,829] Trial 42 finished with value: 29.214831706507095 and parameters: {'park_weight': 0.32508176543181416, 'school_weight': 0.07787922700177857, 'supermarket_weight': 0.2708423339625007, 'landmark_weight': 0.08062424234849735}. Best is trial 42 with value: 29.214831706507095.\n",
      "[I 2024-12-01 15:41:48,825] Trial 43 finished with value: 30.01499543792972 and parameters: {'park_weight': 0.1988951628155008, 'school_weight': 0.07947587587787605, 'supermarket_weight': 0.3750914709753829, 'landmark_weight': 0.08947607236604241}. Best is trial 42 with value: 29.214831706507095.\n",
      "[I 2024-12-01 15:42:11,661] Trial 44 finished with value: 24.757857091639096 and parameters: {'park_weight': 0.0964187540486475, 'school_weight': 0.06716223370565999, 'supermarket_weight': 0.19008051093064027, 'landmark_weight': 0.07778366629793027}. Best is trial 44 with value: 24.757857091639096.\n",
      "[I 2024-12-01 15:42:34,416] Trial 45 finished with value: 26.87800772167278 and parameters: {'park_weight': 0.0916589011597056, 'school_weight': 0.06679773630547048, 'supermarket_weight': 0.17175865259713174, 'landmark_weight': 0.07322135344913283}. Best is trial 44 with value: 24.757857091639096.\n",
      "[I 2024-12-01 15:42:57,119] Trial 46 finished with value: 35.21532115598454 and parameters: {'park_weight': 0.0666163024742702, 'school_weight': 0.0401233780913447, 'supermarket_weight': 0.12849028870520995, 'landmark_weight': 0.0027859577760815657}. Best is trial 44 with value: 24.757857091639096.\n",
      "[I 2024-12-01 15:43:19,762] Trial 47 finished with value: 29.82802476725194 and parameters: {'park_weight': 0.09688330267217587, 'school_weight': 0.05052793780064399, 'supermarket_weight': 0.16683806469929222, 'landmark_weight': 0.036540969805149405}. Best is trial 44 with value: 24.757857091639096.\n",
      "[I 2024-12-01 15:43:42,418] Trial 48 finished with value: 15.568311478857542 and parameters: {'park_weight': 0.08473599627620962, 'school_weight': 0.0566801018811671, 'supermarket_weight': 0.18960390401678767, 'landmark_weight': 0.1671919567904015}. Best is trial 48 with value: 15.568311478857542.\n",
      "[I 2024-12-01 15:44:05,173] Trial 49 finished with value: 13.849356537604828 and parameters: {'park_weight': 0.08009456464154305, 'school_weight': 0.024066199525418823, 'supermarket_weight': 0.18320755245745976, 'landmark_weight': 0.1579900426496118}. Best is trial 49 with value: 13.849356537604828.\n",
      "[I 2024-12-01 15:44:27,862] Trial 50 finished with value: 29.255694925066997 and parameters: {'park_weight': 0.0017572161120783941, 'school_weight': 0.025238875422330338, 'supermarket_weight': 0.05919686342065089, 'landmark_weight': 0.15951341787057952}. Best is trial 49 with value: 13.849356537604828.\n",
      "[I 2024-12-01 15:44:50,588] Trial 51 finished with value: 26.529839605949302 and parameters: {'park_weight': 0.0002537042081754816, 'school_weight': 0.0017423618140811684, 'supermarket_weight': 0.06078751950113864, 'landmark_weight': 0.17106189440985534}. Best is trial 49 with value: 13.849356537604828.\n",
      "[I 2024-12-01 15:45:13,230] Trial 52 finished with value: 7.280633941333735 and parameters: {'park_weight': 0.07792426440971646, 'school_weight': 0.01738608777676056, 'supermarket_weight': 0.2065553125466288, 'landmark_weight': 0.23714728654381928}. Best is trial 52 with value: 7.280633941333735.\n",
      "[I 2024-12-01 15:45:35,902] Trial 53 finished with value: 6.203603195856375 and parameters: {'park_weight': 0.060272814176866446, 'school_weight': 0.0036574756761057967, 'supermarket_weight': 0.20692047386339846, 'landmark_weight': 0.2510987783922981}. Best is trial 53 with value: 6.203603195856375.\n",
      "[I 2024-12-01 15:45:58,765] Trial 54 finished with value: 10.325686348574473 and parameters: {'park_weight': 0.052518535282711665, 'school_weight': 0.001870849304671597, 'supermarket_weight': 0.11096429073182057, 'landmark_weight': 0.23329926353138902}. Best is trial 53 with value: 6.203603195856375.\n",
      "[I 2024-12-01 15:46:21,599] Trial 55 finished with value: 10.0183081726054 and parameters: {'park_weight': 0.06790311592302119, 'school_weight': 0.002324540066738448, 'supermarket_weight': 0.19342293062623717, 'landmark_weight': 0.19065067569120084}. Best is trial 53 with value: 6.203603195856375.\n",
      "[I 2024-12-01 15:46:44,261] Trial 56 finished with value: 8.6838854186562 and parameters: {'park_weight': 0.054352366554073356, 'school_weight': 0.003264680245327403, 'supermarket_weight': 0.11515817123089411, 'landmark_weight': 0.24155097992902125}. Best is trial 53 with value: 6.203603195856375.\n",
      "[I 2024-12-01 15:47:07,144] Trial 57 finished with value: 8.56937048517013 and parameters: {'park_weight': 0.05024110232130271, 'school_weight': 0.006766379865985542, 'supermarket_weight': 0.10149443655480084, 'landmark_weight': 0.2473349492619895}. Best is trial 53 with value: 6.203603195856375.\n",
      "[I 2024-12-01 15:47:29,940] Trial 58 finished with value: 9.387153873762452 and parameters: {'park_weight': 0.03726976342079077, 'school_weight': 0.007067050730119395, 'supermarket_weight': 0.10950518298999684, 'landmark_weight': 0.24935892860342102}. Best is trial 53 with value: 6.203603195856375.\n",
      "[I 2024-12-01 15:47:52,719] Trial 59 finished with value: 31.307825209792338 and parameters: {'park_weight': 0.1678547178336074, 'school_weight': 0.16517390231835227, 'supermarket_weight': 0.0945948005625507, 'landmark_weight': 0.2622556507556956}. Best is trial 53 with value: 6.203603195856375.\n",
      "[I 2024-12-01 15:48:15,430] Trial 60 finished with value: 128.99229925985676 and parameters: {'park_weight': 0.04235991624507477, 'school_weight': 0.8862143074740004, 'supermarket_weight': 0.050791304873657975, 'landmark_weight': 0.40138645491441644}. Best is trial 53 with value: 6.203603195856375.\n",
      "[I 2024-12-01 15:48:38,190] Trial 61 finished with value: 9.889337800367901 and parameters: {'park_weight': 0.035860221945833604, 'school_weight': 0.0012206409500915378, 'supermarket_weight': 0.13569933779704688, 'landmark_weight': 0.24041715236213063}. Best is trial 53 with value: 6.203603195856375.\n",
      "[I 2024-12-01 15:49:00,904] Trial 62 finished with value: 8.132945225308122 and parameters: {'park_weight': 0.11884934373467124, 'school_weight': 0.002320718636366833, 'supermarket_weight': 0.22118479589800133, 'landmark_weight': 0.2638872120404996}. Best is trial 53 with value: 6.203603195856375.\n",
      "[I 2024-12-01 15:49:23,748] Trial 63 finished with value: 22.14094079226924 and parameters: {'park_weight': 0.11649841570904601, 'school_weight': 0.10744903838219258, 'supermarket_weight': 0.1430651618795592, 'landmark_weight': 0.2630889899407439}. Best is trial 53 with value: 6.203603195856375.\n",
      "[I 2024-12-01 15:49:46,441] Trial 64 finished with value: 12.255855759485327 and parameters: {'park_weight': 0.03171500137281699, 'school_weight': 0.03808530000296567, 'supermarket_weight': 0.22332165670109944, 'landmark_weight': 0.34550792010059517}. Best is trial 53 with value: 6.203603195856375.\n",
      "[I 2024-12-01 15:50:09,161] Trial 65 finished with value: 20.470687685527203 and parameters: {'park_weight': 0.12693984205748937, 'school_weight': 0.1110356781816032, 'supermarket_weight': 0.0338470903690703, 'landmark_weight': 0.21434125316152192}. Best is trial 53 with value: 6.203603195856375.\n",
      "[I 2024-12-01 15:50:31,938] Trial 66 finished with value: 15.515173848852328 and parameters: {'park_weight': 0.19926715318217325, 'school_weight': 0.03103528400187225, 'supermarket_weight': 0.08853013119718905, 'landmark_weight': 0.2749026411519242}. Best is trial 53 with value: 6.203603195856375.\n",
      "[I 2024-12-01 15:50:54,817] Trial 67 finished with value: 23.356417561744127 and parameters: {'park_weight': 0.1604764540436164, 'school_weight': 0.04295901810955368, 'supermarket_weight': 0.11976041818547101, 'landmark_weight': 0.3528197624043787}. Best is trial 53 with value: 6.203603195856375.\n",
      "[I 2024-12-01 15:51:17,671] Trial 68 finished with value: 28.505155389236887 and parameters: {'park_weight': 0.01646391137918953, 'school_weight': 0.15780270848596314, 'supermarket_weight': 0.26251887684504127, 'landmark_weight': 0.21764083409602047}. Best is trial 53 with value: 6.203603195856375.\n",
      "[I 2024-12-01 15:51:40,386] Trial 69 finished with value: 17.69048506797927 and parameters: {'park_weight': 0.04179588587124072, 'school_weight': 0.00017338862226875173, 'supermarket_weight': 0.15200668459358704, 'landmark_weight': 0.4318998698374316}. Best is trial 53 with value: 6.203603195856375.\n",
      "[I 2024-12-01 15:52:03,177] Trial 70 finished with value: 75.76788705792805 and parameters: {'park_weight': 0.12723345260239802, 'school_weight': 0.09624865833420597, 'supermarket_weight': 0.9884972664758648, 'landmark_weight': 0.32490893688561784}. Best is trial 53 with value: 6.203603195856375.\n",
      "[I 2024-12-01 15:52:25,993] Trial 71 finished with value: 9.111722859342526 and parameters: {'park_weight': 0.05981241965742737, 'school_weight': 0.0020152533411564814, 'supermarket_weight': 0.2117917966691146, 'landmark_weight': 0.20942888397817955}. Best is trial 53 with value: 6.203603195856375.\n",
      "[I 2024-12-01 15:52:48,677] Trial 72 finished with value: 9.028194147926792 and parameters: {'park_weight': 0.04968269258974422, 'school_weight': 0.03186229965990514, 'supermarket_weight': 0.2102720065832744, 'landmark_weight': 0.28039324920007686}. Best is trial 53 with value: 6.203603195856375.\n",
      "[I 2024-12-01 15:53:11,305] Trial 73 finished with value: 17.05325000737929 and parameters: {'park_weight': 0.10571592217284434, 'school_weight': 0.05502413122171647, 'supermarket_weight': 0.2243836691585528, 'landmark_weight': 0.2703755803508985}. Best is trial 53 with value: 6.203603195856375.\n",
      "[I 2024-12-01 15:53:33,964] Trial 74 finished with value: 120.43803995602858 and parameters: {'park_weight': 0.14984968817409172, 'school_weight': 0.7445518975913871, 'supermarket_weight': 0.21856295296995962, 'landmark_weight': 0.12589147895046163}. Best is trial 53 with value: 6.203603195856375.\n",
      "[I 2024-12-01 15:53:56,580] Trial 75 finished with value: 28.61767407543045 and parameters: {'park_weight': 0.061678661293762246, 'school_weight': 0.11954670964356436, 'supermarket_weight': 0.2559690675341414, 'landmark_weight': 0.2888443978574289}. Best is trial 53 with value: 6.203603195856375.\n",
      "[I 2024-12-01 15:54:19,218] Trial 76 finished with value: 102.25674500293982 and parameters: {'park_weight': 0.18328934212217984, 'school_weight': 0.030983215530262224, 'supermarket_weight': 0.2933386184756198, 'landmark_weight': 0.9021546015941467}. Best is trial 53 with value: 6.203603195856375.\n",
      "[I 2024-12-01 15:54:41,979] Trial 77 finished with value: 22.41621286709432 and parameters: {'park_weight': 0.018781466601565235, 'school_weight': 0.08302187140535211, 'supermarket_weight': 0.03199604701839806, 'landmark_weight': 0.2069448360178774}. Best is trial 53 with value: 6.203603195856375.\n",
      "[I 2024-12-01 15:55:04,656] Trial 78 finished with value: 31.89189664334166 and parameters: {'park_weight': 0.21544052330094715, 'school_weight': 0.06176425076574382, 'supermarket_weight': 0.20711578176287287, 'landmark_weight': 0.32805851914761736}. Best is trial 53 with value: 6.203603195856375.\n",
      "[I 2024-12-01 15:55:27,311] Trial 79 finished with value: 51.95239873232454 and parameters: {'park_weight': 0.1380269897093539, 'school_weight': 0.027038289656833706, 'supermarket_weight': 0.32515966459802453, 'landmark_weight': 0.5359346524537804}. Best is trial 53 with value: 6.203603195856375.\n",
      "[I 2024-12-01 15:55:50,220] Trial 80 finished with value: 27.401506550851614 and parameters: {'park_weight': 0.056260126998730356, 'school_weight': 0.1450566415750452, 'supermarket_weight': 0.10130435138491627, 'landmark_weight': 0.3787047108792204}. Best is trial 53 with value: 6.203603195856375.\n",
      "[I 2024-12-01 15:56:12,933] Trial 81 finished with value: 10.5783800259342 and parameters: {'park_weight': 0.03418123928071427, 'school_weight': 0.000769078115612591, 'supermarket_weight': 0.14981599111964727, 'landmark_weight': 0.2293007563836553}. Best is trial 53 with value: 6.203603195856375.\n",
      "[I 2024-12-01 15:56:35,706] Trial 82 finished with value: 9.82485488166709 and parameters: {'park_weight': 0.10364127593106855, 'school_weight': 0.02999660049244065, 'supermarket_weight': 0.07755010444440605, 'landmark_weight': 0.25529914031872863}. Best is trial 53 with value: 6.203603195856375.\n",
      "[I 2024-12-01 15:56:58,471] Trial 83 finished with value: 14.122141211429717 and parameters: {'park_weight': 0.08266254998516753, 'school_weight': 0.08675790883604981, 'supermarket_weight': 0.021494325870566183, 'landmark_weight': 0.29145494402306854}. Best is trial 53 with value: 6.203603195856375.\n",
      "[I 2024-12-01 15:57:21,379] Trial 84 finished with value: 10.037243877315817 and parameters: {'park_weight': 0.11200256759468319, 'school_weight': 0.04888470310148316, 'supermarket_weight': 0.07733996072790933, 'landmark_weight': 0.25669912749371815}. Best is trial 53 with value: 6.203603195856375.\n",
      "[I 2024-12-01 15:57:43,912] Trial 85 finished with value: 17.753181325072866 and parameters: {'park_weight': 0.001427281235720182, 'school_weight': 0.02717463938001023, 'supermarket_weight': 0.16098766613603618, 'landmark_weight': 0.1968587203950174}. Best is trial 53 with value: 6.203603195856375.\n",
      "[I 2024-12-01 15:58:06,537] Trial 86 finished with value: 24.801582803460615 and parameters: {'park_weight': 0.1718082938470141, 'school_weight': 0.12222194525978432, 'supermarket_weight': 0.11754717361215766, 'landmark_weight': 0.22805283481841762}. Best is trial 53 with value: 6.203603195856375.\n",
      "[I 2024-12-01 15:58:29,070] Trial 87 finished with value: 20.34367202717686 and parameters: {'park_weight': 0.06901845805993237, 'school_weight': 0.06807274654431296, 'supermarket_weight': 0.24356330423473496, 'landmark_weight': 0.3159017177561584}. Best is trial 53 with value: 6.203603195856375.\n",
      "[I 2024-12-01 15:58:51,626] Trial 88 finished with value: 39.34675760876747 and parameters: {'park_weight': 0.11692675731017636, 'school_weight': 0.2362463062847071, 'supermarket_weight': 0.20220072388731877, 'landmark_weight': 0.1464519352006676}. Best is trial 53 with value: 6.203603195856375.\n",
      "[I 2024-12-01 15:59:14,263] Trial 89 finished with value: 39.464554371611634 and parameters: {'park_weight': 0.14570393050903707, 'school_weight': 0.18019194276106043, 'supermarket_weight': 0.3390080130203982, 'landmark_weight': 0.11590173908457749}. Best is trial 53 with value: 6.203603195856375.\n",
      "[I 2024-12-01 15:59:36,870] Trial 90 finished with value: 44.71745529867252 and parameters: {'park_weight': 0.09451990619369403, 'school_weight': 0.02631102261806955, 'supermarket_weight': 0.06946607766566898, 'landmark_weight': 0.6114190770349666}. Best is trial 53 with value: 6.203603195856375.\n",
      "[I 2024-12-01 15:59:59,553] Trial 91 finished with value: 8.62612924787202 and parameters: {'park_weight': 0.03195844613724913, 'school_weight': 0.013268789630933121, 'supermarket_weight': 0.13914803117998314, 'landmark_weight': 0.24341434172201498}. Best is trial 53 with value: 6.203603195856375.\n",
      "[I 2024-12-01 16:00:22,144] Trial 92 finished with value: 16.34201558422462 and parameters: {'park_weight': 0.023558509599727655, 'school_weight': 0.09971304763249872, 'supermarket_weight': 0.16462576330930045, 'landmark_weight': 0.24665012797624375}. Best is trial 53 with value: 6.203603195856375.\n",
      "[I 2024-12-01 16:00:44,921] Trial 93 finished with value: 9.621034622799217 and parameters: {'park_weight': 0.05248448302245607, 'school_weight': 0.0576640994896635, 'supermarket_weight': 0.13182280516261108, 'landmark_weight': 0.27461035218932156}. Best is trial 53 with value: 6.203603195856375.\n",
      "[I 2024-12-01 16:01:07,620] Trial 94 finished with value: 17.52185895894416 and parameters: {'park_weight': 0.05949778949589256, 'school_weight': 0.0580631266732179, 'supermarket_weight': 0.12885535184835964, 'landmark_weight': 0.18316651277173365}. Best is trial 53 with value: 6.203603195856375.\n",
      "[I 2024-12-01 16:01:30,276] Trial 95 finished with value: 23.59442108441267 and parameters: {'park_weight': 0.07829777275543186, 'school_weight': 0.07580952115872339, 'supermarket_weight': 0.27761186983456354, 'landmark_weight': 0.2806747718940756}. Best is trial 53 with value: 6.203603195856375.\n",
      "[I 2024-12-01 16:01:52,830] Trial 96 finished with value: 88.0021962715585 and parameters: {'park_weight': 0.047521647958275, 'school_weight': 0.5830444824983583, 'supermarket_weight': 0.17451303308250588, 'landmark_weight': 0.21012047981611034}. Best is trial 53 with value: 6.203603195856375.\n",
      "[I 2024-12-01 16:02:15,346] Trial 97 finished with value: 14.88467238691059 and parameters: {'park_weight': 0.021721492888119698, 'school_weight': 0.04628457153674877, 'supermarket_weight': 0.24577789618344764, 'landmark_weight': 0.35667756974581516}. Best is trial 53 with value: 6.203603195856375.\n",
      "[I 2024-12-01 16:02:37,889] Trial 98 finished with value: 6.624672814103644 and parameters: {'park_weight': 0.004328989173851265, 'school_weight': 0.016100720401874595, 'supermarket_weight': 0.10730294837688145, 'landmark_weight': 0.3109668866737695}. Best is trial 53 with value: 6.203603195856375.\n",
      "[I 2024-12-01 16:03:00,567] Trial 99 finished with value: 10.83115662172197 and parameters: {'park_weight': 0.011210581467500029, 'school_weight': 0.018081664693833585, 'supermarket_weight': 0.046384114268950644, 'landmark_weight': 0.3089271052443194}. Best is trial 53 with value: 6.203603195856375.\n",
      "[I 2024-12-01 16:03:00,568] A new study created in memory with name: no-name-418ff1b1-4844-4f1d-9554-a0a83441abfa\n"
     ]
    },
    {
     "name": "stdout",
     "output_type": "stream",
     "text": [
      "Year 2015 Best Parameters: {'park_weight': 0.060272814176866446, 'school_weight': 0.0036574756761057967, 'supermarket_weight': 0.20692047386339846, 'landmark_weight': 0.2510987783922981}\n",
      "Year 2015 Best MAPE: 6.203603195856375\n",
      "Running Optuna study for year index: 2\n"
     ]
    },
    {
     "name": "stderr",
     "output_type": "stream",
     "text": [
      "[I 2024-12-01 16:03:23,134] Trial 0 finished with value: 117.814941297983 and parameters: {'park_weight': 0.2521800721063099, 'school_weight': 0.18868927038013195, 'supermarket_weight': 0.37817783981227426, 'landmark_weight': 0.8255004339255063}. Best is trial 0 with value: 117.814941297983.\n",
      "[I 2024-12-01 16:03:45,737] Trial 1 finished with value: 207.10968539385186 and parameters: {'park_weight': 0.7822346238776351, 'school_weight': 0.6943770570312257, 'supermarket_weight': 0.4298055900933445, 'landmark_weight': 0.5467016809230081}. Best is trial 0 with value: 117.814941297983.\n",
      "[I 2024-12-01 16:04:08,224] Trial 2 finished with value: 173.84720863155175 and parameters: {'park_weight': 0.35605137355291583, 'school_weight': 0.7383914410448738, 'supermarket_weight': 0.6713576334399356, 'landmark_weight': 0.45229121823292584}. Best is trial 0 with value: 117.814941297983.\n",
      "[I 2024-12-01 16:04:30,838] Trial 3 finished with value: 190.2444800272258 and parameters: {'park_weight': 0.3021130291021634, 'school_weight': 0.9875511481699101, 'supermarket_weight': 0.8878248474536251, 'landmark_weight': 0.058580803587999775}. Best is trial 0 with value: 117.814941297983.\n",
      "[I 2024-12-01 16:04:53,401] Trial 4 finished with value: 185.6786726674259 and parameters: {'park_weight': 0.7492317257320354, 'school_weight': 0.22295019176177766, 'supermarket_weight': 0.6760619873826439, 'landmark_weight': 0.788276867231556}. Best is trial 0 with value: 117.814941297983.\n",
      "[I 2024-12-01 16:05:15,976] Trial 5 finished with value: 154.6378173469546 and parameters: {'park_weight': 0.19408730335771807, 'school_weight': 0.9370703525592423, 'supermarket_weight': 0.3339069793607259, 'landmark_weight': 0.20510802334377498}. Best is trial 0 with value: 117.814941297983.\n",
      "[I 2024-12-01 16:05:38,493] Trial 6 finished with value: 81.44763140997286 and parameters: {'park_weight': 0.7748704249713055, 'school_weight': 0.12464341407469737, 'supermarket_weight': 0.02526562663746934, 'landmark_weight': 0.28548978705260464}. Best is trial 6 with value: 81.44763140997286.\n",
      "[I 2024-12-01 16:06:01,186] Trial 7 finished with value: 204.19703215534247 and parameters: {'park_weight': 0.3327208067385954, 'school_weight': 0.7251717091408406, 'supermarket_weight': 0.5334236597369918, 'landmark_weight': 0.8277825529223576}. Best is trial 6 with value: 81.44763140997286.\n",
      "[I 2024-12-01 16:06:23,752] Trial 8 finished with value: 159.09760813907957 and parameters: {'park_weight': 0.9915747470857279, 'school_weight': 0.747981747071111, 'supermarket_weight': 0.11896641296226063, 'landmark_weight': 0.02566325363658717}. Best is trial 6 with value: 81.44763140997286.\n",
      "[I 2024-12-01 16:06:46,335] Trial 9 finished with value: 84.25419205560493 and parameters: {'park_weight': 0.4871108232333603, 'school_weight': 0.2308458340945453, 'supermarket_weight': 0.41004097672710826, 'landmark_weight': 0.28188774000265815}. Best is trial 6 with value: 81.44763140997286.\n",
      "[I 2024-12-01 16:07:09,001] Trial 10 finished with value: 30.469065386710007 and parameters: {'park_weight': 0.027534286187639645, 'school_weight': 0.03688609172350654, 'supermarket_weight': 0.02498298513186255, 'landmark_weight': 0.569387224685386}. Best is trial 10 with value: 30.469065386710007.\n",
      "[I 2024-12-01 16:07:31,562] Trial 11 finished with value: 26.590769106498318 and parameters: {'park_weight': 0.02296627407307459, 'school_weight': 0.005996557500312395, 'supermarket_weight': 0.0036703643710702775, 'landmark_weight': 0.5676909306063418}. Best is trial 11 with value: 26.590769106498318.\n",
      "[I 2024-12-01 16:07:54,207] Trial 12 finished with value: 37.94259259922117 and parameters: {'park_weight': 0.015764942554569394, 'school_weight': 0.025623314426420345, 'supermarket_weight': 0.11610572543628295, 'landmark_weight': 0.6295426326833772}. Best is trial 11 with value: 26.590769106498318.\n",
      "[I 2024-12-01 16:08:16,806] Trial 13 finished with value: 132.8499156606281 and parameters: {'park_weight': 0.015377940072007287, 'school_weight': 0.4388858091137301, 'supermarket_weight': 0.20335308391156698, 'landmark_weight': 0.995912859964958}. Best is trial 11 with value: 26.590769106498318.\n",
      "[I 2024-12-01 16:08:39,397] Trial 14 finished with value: 28.1187303511857 and parameters: {'park_weight': 0.13214526456723108, 'school_weight': 0.00394404419720875, 'supermarket_weight': 0.22009084583020033, 'landmark_weight': 0.43868481446741153}. Best is trial 11 with value: 26.590769106498318.\n",
      "[I 2024-12-01 16:09:02,023] Trial 15 finished with value: 70.18593315260716 and parameters: {'park_weight': 0.1572087547568627, 'school_weight': 0.3644694312740378, 'supermarket_weight': 0.20084022048826117, 'landmark_weight': 0.4146916168001017}. Best is trial 11 with value: 26.590769106498318.\n",
      "[I 2024-12-01 16:09:24,651] Trial 16 finished with value: 133.9009744070513 and parameters: {'park_weight': 0.5228998811551959, 'school_weight': 0.3420026090804582, 'supermarket_weight': 0.22562568937033908, 'landmark_weight': 0.6423370337192804}. Best is trial 11 with value: 26.590769106498318.\n",
      "[I 2024-12-01 16:09:47,314] Trial 17 finished with value: 19.43330842502973 and parameters: {'park_weight': 0.0933191721133112, 'school_weight': 0.0006401117140207207, 'supermarket_weight': 0.012328515267647, 'landmark_weight': 0.40774258915197886}. Best is trial 17 with value: 19.43330842502973.\n",
      "[I 2024-12-01 16:10:09,939] Trial 18 finished with value: 165.97108710247028 and parameters: {'park_weight': 0.45827327257467754, 'school_weight': 0.5657010864179535, 'supermarket_weight': 0.9542536425648368, 'landmark_weight': 0.3403280655756494}. Best is trial 17 with value: 19.43330842502973.\n",
      "[I 2024-12-01 16:10:32,538] Trial 19 finished with value: 69.8853869287457 and parameters: {'park_weight': 0.12335493510826377, 'school_weight': 0.148903127238249, 'supermarket_weight': 0.017040976659000746, 'landmark_weight': 0.7240835094399827}. Best is trial 17 with value: 19.43330842502973.\n",
      "[I 2024-12-01 16:10:55,173] Trial 20 finished with value: 65.50337479462473 and parameters: {'park_weight': 0.09215925688840576, 'school_weight': 0.27201286427372534, 'supermarket_weight': 0.5735832641195748, 'landmark_weight': 0.2011050420315253}. Best is trial 17 with value: 19.43330842502973.\n",
      "[I 2024-12-01 16:11:17,851] Trial 21 finished with value: 37.043877310190716 and parameters: {'park_weight': 0.2135418140574444, 'school_weight': 0.02077101006759972, 'supermarket_weight': 0.12098426814642177, 'landmark_weight': 0.45720414586691505}. Best is trial 17 with value: 19.43330842502973.\n",
      "[I 2024-12-01 16:11:40,476] Trial 22 finished with value: 29.488763114760484 and parameters: {'park_weight': 0.10450120885963697, 'school_weight': 0.08827566380629884, 'supermarket_weight': 0.26171411502726627, 'landmark_weight': 0.36128444994045605}. Best is trial 17 with value: 19.43330842502973.\n",
      "[I 2024-12-01 16:12:03,389] Trial 23 finished with value: 57.01397957120902 and parameters: {'park_weight': 0.39241264304764945, 'school_weight': 0.0007979954903796413, 'supermarket_weight': 0.08418998813730476, 'landmark_weight': 0.5131656399206287}. Best is trial 17 with value: 19.43330842502973.\n",
      "[I 2024-12-01 16:12:26,031] Trial 24 finished with value: 99.72169459496658 and parameters: {'park_weight': 0.5896165833935745, 'school_weight': 0.09139461450418376, 'supermarket_weight': 0.0002800459106803155, 'landmark_weight': 0.6529209760073469}. Best is trial 17 with value: 19.43330842502973.\n",
      "[I 2024-12-01 16:12:48,769] Trial 25 finished with value: 73.97458518545811 and parameters: {'park_weight': 0.24863215243857945, 'school_weight': 0.29783944676588237, 'supermarket_weight': 0.29768924976418504, 'landmark_weight': 0.3921102778390161}. Best is trial 17 with value: 19.43330842502973.\n",
      "[I 2024-12-01 16:13:11,297] Trial 26 finished with value: 45.19061807380723 and parameters: {'park_weight': 0.08267521731376176, 'school_weight': 0.14225631125277483, 'supermarket_weight': 0.1809525011786434, 'landmark_weight': 0.5098289379465688}. Best is trial 17 with value: 19.43330842502973.\n",
      "[I 2024-12-01 16:13:33,897] Trial 27 finished with value: 70.43217042671898 and parameters: {'park_weight': 0.16799733599908362, 'school_weight': 0.48776286361832033, 'supermarket_weight': 0.101897578523239, 'landmark_weight': 0.17001317449391246}. Best is trial 17 with value: 19.43330842502973.\n",
      "[I 2024-12-01 16:13:56,481] Trial 28 finished with value: 22.231309912885102 and parameters: {'park_weight': 0.07340026451241133, 'school_weight': 0.09951176807034878, 'supermarket_weight': 0.16178123770507424, 'landmark_weight': 0.29280464158132685}. Best is trial 17 with value: 19.43330842502973.\n",
      "[I 2024-12-01 16:14:19,122] Trial 29 finished with value: 54.31837283975119 and parameters: {'park_weight': 0.2933639866154397, 'school_weight': 0.1845408812434259, 'supermarket_weight': 0.3277604560380753, 'landmark_weight': 0.27748292355566173}. Best is trial 17 with value: 19.43330842502973.\n",
      "[I 2024-12-01 16:14:41,741] Trial 30 finished with value: 83.70413846668582 and parameters: {'park_weight': 0.050289808103993854, 'school_weight': 0.6024503844132273, 'supermarket_weight': 0.07160795750618605, 'landmark_weight': 0.16606130886225037}. Best is trial 17 with value: 19.43330842502973.\n",
      "[I 2024-12-01 16:15:04,340] Trial 31 finished with value: 19.13437636779304 and parameters: {'park_weight': 0.13010274565887267, 'school_weight': 0.06906605719823761, 'supermarket_weight': 0.1488224086469547, 'landmark_weight': 0.3308442634100161}. Best is trial 31 with value: 19.13437636779304.\n",
      "[I 2024-12-01 16:15:27,031] Trial 32 finished with value: 14.974764502285861 and parameters: {'park_weight': 0.006975011441889764, 'school_weight': 0.08120957177578764, 'supermarket_weight': 0.15952074935407348, 'landmark_weight': 0.31787464310769953}. Best is trial 32 with value: 14.974764502285861.\n",
      "[I 2024-12-01 16:15:49,758] Trial 33 finished with value: 28.306737413114867 and parameters: {'park_weight': 0.22966039489396511, 'school_weight': 0.09910637177462625, 'supermarket_weight': 0.16556113750154122, 'landmark_weight': 0.0889233555916289}. Best is trial 32 with value: 14.974764502285861.\n",
      "[I 2024-12-01 16:16:12,560] Trial 34 finished with value: 55.13057032584538 and parameters: {'park_weight': 0.07162779250892846, 'school_weight': 0.2018658165023695, 'supermarket_weight': 0.46661468881562074, 'landmark_weight': 0.3393683913749118}. Best is trial 32 with value: 14.974764502285861.\n",
      "[I 2024-12-01 16:16:35,281] Trial 35 finished with value: 45.78473582413121 and parameters: {'park_weight': 0.40396335512479875, 'school_weight': 0.06733573807652389, 'supermarket_weight': 0.2928008715551193, 'landmark_weight': 0.25044889110424623}. Best is trial 32 with value: 14.974764502285861.\n",
      "[I 2024-12-01 16:16:58,092] Trial 36 finished with value: 68.77058124508828 and parameters: {'park_weight': 0.613060026635207, 'school_weight': 0.1818830725471331, 'supermarket_weight': 0.3797384157968622, 'landmark_weight': 0.11140528127915045}. Best is trial 32 with value: 14.974764502285861.\n",
      "[I 2024-12-01 16:17:20,767] Trial 37 finished with value: 90.36310225867162 and parameters: {'park_weight': 0.2677070666209419, 'school_weight': 0.2562998270745364, 'supermarket_weight': 0.7303639296820479, 'landmark_weight': 0.3299556241385786}. Best is trial 32 with value: 14.974764502285861.\n",
      "[I 2024-12-01 16:17:43,516] Trial 38 finished with value: 157.51424184017742 and parameters: {'park_weight': 0.17953513804513183, 'school_weight': 0.8171868045055891, 'supermarket_weight': 0.809866988671522, 'landmark_weight': 0.23940070859211446}. Best is trial 32 with value: 14.974764502285861.\n",
      "[I 2024-12-01 16:18:06,146] Trial 39 finished with value: 130.25925413492797 and parameters: {'park_weight': 0.9346383460061697, 'school_weight': 0.15267795817244809, 'supermarket_weight': 0.152335110077397, 'landmark_weight': 0.47502697017936246}. Best is trial 32 with value: 14.974764502285861.\n",
      "[I 2024-12-01 16:18:28,824] Trial 40 finished with value: 60.2604891505928 and parameters: {'park_weight': 0.1987935688588769, 'school_weight': 0.34230647984287527, 'supermarket_weight': 0.07087152051478662, 'landmark_weight': 0.38164343096707276}. Best is trial 32 with value: 14.974764502285861.\n",
      "[I 2024-12-01 16:18:51,508] Trial 41 finished with value: 33.66894945089648 and parameters: {'park_weight': 0.010094791899098926, 'school_weight': 0.059849414626096546, 'supermarket_weight': 0.05014209739737864, 'landmark_weight': 0.5782702415415363}. Best is trial 32 with value: 14.974764502285861.\n",
      "[I 2024-12-01 16:19:14,302] Trial 42 finished with value: 23.718077956820206 and parameters: {'park_weight': 0.061039036398099975, 'school_weight': 0.11911601840192587, 'supermarket_weight': 0.1522186735234645, 'landmark_weight': 0.29597035334303345}. Best is trial 32 with value: 14.974764502285861.\n",
      "[I 2024-12-01 16:19:36,866] Trial 43 finished with value: 30.23409108827313 and parameters: {'park_weight': 0.07703987787986842, 'school_weight': 0.11544562618136572, 'supermarket_weight': 0.2609210711357933, 'landmark_weight': 0.29809174856920295}. Best is trial 32 with value: 14.974764502285861.\n",
      "[I 2024-12-01 16:19:59,623] Trial 44 finished with value: 15.902290269105638 and parameters: {'park_weight': 0.13018422674729702, 'school_weight': 0.060726723349712325, 'supermarket_weight': 0.14694846344030146, 'landmark_weight': 0.22874833162789238}. Best is trial 32 with value: 14.974764502285861.\n",
      "[I 2024-12-01 16:20:22,082] Trial 45 finished with value: 21.312214821507347 and parameters: {'park_weight': 0.1368824504469306, 'school_weight': 0.06242294959820849, 'supermarket_weight': 0.1436529728635096, 'landmark_weight': 0.1452619362765856}. Best is trial 32 with value: 14.974764502285861.\n",
      "[I 2024-12-01 16:20:44,723] Trial 46 finished with value: 18.23550870624394 and parameters: {'park_weight': 0.13700139071731549, 'school_weight': 0.06011614714979889, 'supermarket_weight': 0.23522130483483317, 'landmark_weight': 0.13969967895409582}. Best is trial 32 with value: 14.974764502285861.\n",
      "[I 2024-12-01 16:21:07,359] Trial 47 finished with value: 52.808218866248296 and parameters: {'park_weight': 0.32856553278759276, 'school_weight': 0.21630548264957708, 'supermarket_weight': 0.24797494565154587, 'landmark_weight': 0.2158777604090389}. Best is trial 32 with value: 14.974764502285861.\n",
      "[I 2024-12-01 16:21:29,960] Trial 48 finished with value: 38.363063343874316 and parameters: {'park_weight': 0.0024592432475195602, 'school_weight': 0.05204803477566507, 'supermarket_weight': 0.3468719996212451, 'landmark_weight': 0.027407991213255545}. Best is trial 32 with value: 14.974764502285861.\n",
      "[I 2024-12-01 16:21:52,829] Trial 49 finished with value: 64.98804213942368 and parameters: {'park_weight': 0.15067173010603155, 'school_weight': 0.4171376083231443, 'supermarket_weight': 0.04663766293421168, 'landmark_weight': 0.10085724855802458}. Best is trial 32 with value: 14.974764502285861.\n",
      "[I 2024-12-01 16:22:15,354] Trial 50 finished with value: 75.13421759103679 and parameters: {'park_weight': 0.28994523970417996, 'school_weight': 0.17217887859575703, 'supermarket_weight': 0.42859839852768566, 'landmark_weight': 0.42744579738144495}. Best is trial 32 with value: 14.974764502285861.\n",
      "[I 2024-12-01 16:22:37,974] Trial 51 finished with value: 20.005185871971733 and parameters: {'park_weight': 0.12838659217883563, 'school_weight': 0.048049003971618924, 'supermarket_weight': 0.11873440120812076, 'landmark_weight': 0.14944787075463478}. Best is trial 32 with value: 14.974764502285861.\n",
      "[I 2024-12-01 16:23:00,675] Trial 52 finished with value: 32.117574290449596 and parameters: {'park_weight': 0.20259493516765759, 'school_weight': 0.027657396260378955, 'supermarket_weight': 0.10936189889228025, 'landmark_weight': 0.004733673737592953}. Best is trial 32 with value: 14.974764502285861.\n",
      "[I 2024-12-01 16:23:23,395] Trial 53 finished with value: 27.660918873763517 and parameters: {'park_weight': 0.12336382070250826, 'school_weight': 0.13338030134964582, 'supermarket_weight': 0.18456603280675205, 'landmark_weight': 0.19584646478614975}. Best is trial 32 with value: 14.974764502285861.\n",
      "[I 2024-12-01 16:23:46,045] Trial 54 finished with value: 17.98548702923039 and parameters: {'park_weight': 0.04751842916425365, 'school_weight': 0.05813284242716461, 'supermarket_weight': 0.21862674590402442, 'landmark_weight': 0.1411911429791689}. Best is trial 32 with value: 14.974764502285861.\n",
      "[I 2024-12-01 16:24:08,657] Trial 55 finished with value: 11.245669811981987 and parameters: {'park_weight': 0.04221402140181872, 'school_weight': 0.0008005561308776776, 'supermarket_weight': 0.2273892717148634, 'landmark_weight': 0.24219687305575177}. Best is trial 55 with value: 11.245669811981987.\n",
      "[I 2024-12-01 16:24:31,238] Trial 56 finished with value: 133.64448936002037 and parameters: {'park_weight': 0.041623229358202035, 'school_weight': 0.8967463438241929, 'supermarket_weight': 0.22123995045869277, 'landmark_weight': 0.2485672858178051}. Best is trial 55 with value: 11.245669811981987.\n",
      "[I 2024-12-01 16:24:53,940] Trial 57 finished with value: 39.12606675352339 and parameters: {'park_weight': 0.049180088421424545, 'school_weight': 0.24439958255174604, 'supermarket_weight': 0.28930090072440395, 'landmark_weight': 0.06433036739382833}. Best is trial 55 with value: 11.245669811981987.\n",
      "[I 2024-12-01 16:25:16,501] Trial 58 finished with value: 38.25374989581563 and parameters: {'park_weight': 0.16908831497286497, 'school_weight': 0.07264112621409555, 'supermarket_weight': 0.5313219591807308, 'landmark_weight': 0.1320917388124101}. Best is trial 55 with value: 11.245669811981987.\n",
      "[I 2024-12-01 16:25:39,156] Trial 59 finished with value: 45.61255256822849 and parameters: {'park_weight': 0.002039838144344242, 'school_weight': 0.2888764380616795, 'supermarket_weight': 0.3657936417894132, 'landmark_weight': 0.06553102583918963}. Best is trial 55 with value: 11.245669811981987.\n",
      "[I 2024-12-01 16:26:01,856] Trial 60 finished with value: 14.588064772726018 and parameters: {'park_weight': 0.11128441943122191, 'school_weight': 0.03448877378397946, 'supermarket_weight': 0.2405210263746188, 'landmark_weight': 0.19393127163711288}. Best is trial 55 with value: 11.245669811981987.\n",
      "[I 2024-12-01 16:26:24,725] Trial 61 finished with value: 10.310461595016536 and parameters: {'park_weight': 0.1096024571192876, 'school_weight': 7.948303083316532e-05, 'supermarket_weight': 0.2311514961899984, 'landmark_weight': 0.1960065958674665}. Best is trial 61 with value: 10.310461595016536.\n",
      "[I 2024-12-01 16:26:47,453] Trial 62 finished with value: 13.782662666376556 and parameters: {'park_weight': 0.10994523988254097, 'school_weight': 0.03025193033241897, 'supermarket_weight': 0.22603641210469905, 'landmark_weight': 0.20426630541587687}. Best is trial 61 with value: 10.310461595016536.\n",
      "[I 2024-12-01 16:27:10,113] Trial 63 finished with value: 13.11143634357864 and parameters: {'park_weight': 0.1033421859550395, 'school_weight': 0.0034456592618924697, 'supermarket_weight': 0.3213776944330351, 'landmark_weight': 0.21253409141092924}. Best is trial 61 with value: 10.310461595016536.\n",
      "[I 2024-12-01 16:27:32,823] Trial 64 finished with value: 12.458850937724653 and parameters: {'park_weight': 0.10138847285479503, 'school_weight': 0.0034166035315446996, 'supermarket_weight': 0.3122795787318764, 'landmark_weight': 0.1883307907080283}. Best is trial 61 with value: 10.310461595016536.\n",
      "[I 2024-12-01 16:27:55,431] Trial 65 finished with value: 16.951149005984714 and parameters: {'park_weight': 0.10667976172525007, 'school_weight': 0.0003300061635935908, 'supermarket_weight': 0.39360233799765054, 'landmark_weight': 0.20214340695179298}. Best is trial 61 with value: 10.310461595016536.\n",
      "[I 2024-12-01 16:28:18,127] Trial 66 finished with value: 22.19704746348302 and parameters: {'park_weight': 0.24807061466875208, 'school_weight': 0.023562926685652026, 'supermarket_weight': 0.30562756033354654, 'landmark_weight': 0.18487947860892992}. Best is trial 61 with value: 10.310461595016536.\n",
      "[I 2024-12-01 16:28:40,736] Trial 67 finished with value: 16.332884676863493 and parameters: {'park_weight': 0.09454706911292324, 'school_weight': 0.027989368033653796, 'supermarket_weight': 0.27287681052876495, 'landmark_weight': 0.27123534518878645}. Best is trial 61 with value: 10.310461595016536.\n",
      "[I 2024-12-01 16:29:03,397] Trial 68 finished with value: 31.61442580141047 and parameters: {'park_weight': 0.03385683311384104, 'school_weight': 0.09672101407428002, 'supermarket_weight': 0.46421940951094914, 'landmark_weight': 0.174488591739649}. Best is trial 61 with value: 10.310461595016536.\n",
      "[I 2024-12-01 16:29:25,979] Trial 69 finished with value: 145.57381761963327 and parameters: {'park_weight': 0.6708004865555233, 'school_weight': 0.0014886108876914148, 'supermarket_weight': 0.32238844064749944, 'landmark_weight': 0.926834099199998}. Best is trial 61 with value: 10.310461595016536.\n",
      "[I 2024-12-01 16:29:48,596] Trial 70 finished with value: 35.145518521534754 and parameters: {'park_weight': 0.22412605452569642, 'school_weight': 0.14271109875528606, 'supermarket_weight': 0.20065390459153004, 'landmark_weight': 0.22830522681477317}. Best is trial 61 with value: 10.310461595016536.\n",
      "[I 2024-12-01 16:30:11,201] Trial 71 finished with value: 22.774644621375256 and parameters: {'park_weight': 0.10097928073198317, 'school_weight': 0.03974429905953214, 'supermarket_weight': 0.35185327987144593, 'landmark_weight': 0.26043756800002554}. Best is trial 61 with value: 10.310461595016536.\n",
      "[I 2024-12-01 16:30:33,889] Trial 72 finished with value: 25.84759609119227 and parameters: {'park_weight': 0.16930719876906308, 'school_weight': 0.10397145401150669, 'supermarket_weight': 0.1837719528961674, 'landmark_weight': 0.2272226823687637}. Best is trial 61 with value: 10.310461595016536.\n",
      "[I 2024-12-01 16:30:56,672] Trial 73 finished with value: 101.30988336461641 and parameters: {'park_weight': 0.07138299888019578, 'school_weight': 0.6415032498436823, 'supermarket_weight': 0.26885151686632697, 'landmark_weight': 0.3154511763920851}. Best is trial 61 with value: 10.310461595016536.\n",
      "[I 2024-12-01 16:31:19,306] Trial 74 finished with value: 14.481250864740494 and parameters: {'park_weight': 0.02912511132789987, 'school_weight': 0.030627654004936018, 'supermarket_weight': 0.24151518105446015, 'landmark_weight': 0.3737024398327049}. Best is trial 61 with value: 10.310461595016536.\n",
      "[I 2024-12-01 16:31:41,879] Trial 75 finished with value: 20.30160178736416 and parameters: {'park_weight': 0.026170714220369432, 'school_weight': 0.029715623437676003, 'supermarket_weight': 0.24397640209989577, 'landmark_weight': 0.1062683674767067}. Best is trial 61 with value: 10.310461595016536.\n",
      "[I 2024-12-01 16:32:04,626] Trial 76 finished with value: 51.40433646366273 and parameters: {'park_weight': 0.10523507348061098, 'school_weight': 0.09060244627208802, 'supermarket_weight': 0.6139241702034801, 'landmark_weight': 0.3595257553259657}. Best is trial 61 with value: 10.310461595016536.\n",
      "[I 2024-12-01 16:32:27,166] Trial 77 finished with value: 38.17049319675501 and parameters: {'park_weight': 0.03309993072462261, 'school_weight': 0.1621656330435953, 'supermarket_weight': 0.32593807316321544, 'landmark_weight': 0.3122259439462821}. Best is trial 61 with value: 10.310461595016536.\n",
      "[I 2024-12-01 16:32:49,782] Trial 78 finished with value: 41.90602581964701 and parameters: {'park_weight': 0.0680866370656594, 'school_weight': 0.12098983711298834, 'supermarket_weight': 0.41042831890410025, 'landmark_weight': 0.3651995714411731}. Best is trial 61 with value: 10.310461595016536.\n",
      "[I 2024-12-01 16:33:12,386] Trial 79 finished with value: 76.31136325615742 and parameters: {'park_weight': 0.9071613403820105, 'school_weight': 0.0023128428275338135, 'supermarket_weight': 0.20355471191539148, 'landmark_weight': 0.17321894542519087}. Best is trial 61 with value: 10.310461595016536.\n",
      "[I 2024-12-01 16:33:34,973] Trial 80 finished with value: 30.393063759331504 and parameters: {'park_weight': 0.15742461777581207, 'school_weight': 0.08667450971421754, 'supermarket_weight': 0.2852564185547868, 'landmark_weight': 0.26818709769147187}. Best is trial 61 with value: 10.310461595016536.\n",
      "[I 2024-12-01 16:33:57,597] Trial 81 finished with value: 19.16174808828397 and parameters: {'park_weight': 0.18196078760800283, 'school_weight': 0.042758410980225724, 'supermarket_weight': 0.24573995830501227, 'landmark_weight': 0.21685871757709244}. Best is trial 61 with value: 10.310461595016536.\n",
      "[I 2024-12-01 16:34:20,271] Trial 82 finished with value: 10.773007735063288 and parameters: {'park_weight': 0.05886350434967271, 'school_weight': 0.027993390238621498, 'supermarket_weight': 0.18269479205885364, 'landmark_weight': 0.24074006004921059}. Best is trial 61 with value: 10.310461595016536.\n",
      "[I 2024-12-01 16:34:42,857] Trial 83 finished with value: 14.92948934563844 and parameters: {'park_weight': 0.059577775857331344, 'school_weight': 0.025552056653814284, 'supermarket_weight': 0.3077558099548622, 'landmark_weight': 0.1964664984823504}. Best is trial 61 with value: 10.310461595016536.\n",
      "[I 2024-12-01 16:35:05,423] Trial 84 finished with value: 17.157144199218557 and parameters: {'park_weight': 0.08492294486990666, 'school_weight': 0.026879783502523985, 'supermarket_weight': 0.32433719771414743, 'landmark_weight': 0.19432292077741492}. Best is trial 61 with value: 10.310461595016536.\n",
      "[I 2024-12-01 16:35:28,072] Trial 85 finished with value: 15.12236332555475 and parameters: {'park_weight': 0.056791288930643224, 'school_weight': 0.025476833048056008, 'supermarket_weight': 0.30945330294360207, 'landmark_weight': 0.1616852345937457}. Best is trial 61 with value: 10.310461595016536.\n",
      "[I 2024-12-01 16:35:50,648] Trial 86 finished with value: 20.532521797353933 and parameters: {'park_weight': 0.10872627729041745, 'school_weight': 0.07668337616689595, 'supermarket_weight': 0.21582448716654587, 'landmark_weight': 0.1243512690487492}. Best is trial 61 with value: 10.310461595016536.\n",
      "[I 2024-12-01 16:36:13,545] Trial 87 finished with value: 31.20313768135806 and parameters: {'park_weight': 0.0253753873996877, 'school_weight': 0.11628670575353059, 'supermarket_weight': 0.3669595723447794, 'landmark_weight': 0.24906233430112082}. Best is trial 61 with value: 10.310461595016536.\n",
      "[I 2024-12-01 16:36:36,169] Trial 88 finished with value: 86.03811593666784 and parameters: {'park_weight': 0.19555881351517812, 'school_weight': 0.5302973330422469, 'supermarket_weight': 0.1776247768686905, 'landmark_weight': 0.07935726635502613}. Best is trial 61 with value: 10.310461595016536.\n",
      "[I 2024-12-01 16:36:58,931] Trial 89 finished with value: 17.514082256232186 and parameters: {'park_weight': 0.08094193605893857, 'school_weight': 0.04479230680160634, 'supermarket_weight': 0.2680049785628922, 'landmark_weight': 0.27992953273547105}. Best is trial 61 with value: 10.310461595016536.\n",
      "[I 2024-12-01 16:37:21,883] Trial 90 finished with value: 13.939614724043068 and parameters: {'park_weight': 0.14461391535283616, 'school_weight': 0.017891787444359347, 'supermarket_weight': 0.13031766177174414, 'landmark_weight': 0.20373625677892215}. Best is trial 61 with value: 10.310461595016536.\n",
      "[I 2024-12-01 16:37:44,534] Trial 91 finished with value: 12.11297634582289 and parameters: {'park_weight': 0.15920140018374396, 'school_weight': 0.0021117784792891703, 'supermarket_weight': 0.20341471863926303, 'landmark_weight': 0.20796129279347114}. Best is trial 61 with value: 10.310461595016536.\n",
      "[I 2024-12-01 16:38:07,154] Trial 92 finished with value: 11.713206658425708 and parameters: {'park_weight': 0.136365990406287, 'school_weight': 0.001997169832614214, 'supermarket_weight': 0.12299422756745464, 'landmark_weight': 0.23803051069484343}. Best is trial 61 with value: 10.310461595016536.\n",
      "[I 2024-12-01 16:38:29,745] Trial 93 finished with value: 13.036121070213511 and parameters: {'park_weight': 0.13992363357271273, 'school_weight': 0.003148799000819741, 'supermarket_weight': 0.08588533310883355, 'landmark_weight': 0.23945003513029062}. Best is trial 61 with value: 10.310461595016536.\n",
      "[I 2024-12-01 16:38:52,606] Trial 94 finished with value: 11.872800218371268 and parameters: {'park_weight': 0.14312853953331636, 'school_weight': 0.008006338423328856, 'supermarket_weight': 0.13261127120933822, 'landmark_weight': 0.2380162382355977}. Best is trial 61 with value: 10.310461595016536.\n",
      "[I 2024-12-01 16:39:15,216] Trial 95 finished with value: 20.169928204099293 and parameters: {'park_weight': 0.23472344179336996, 'school_weight': 0.0008605763454804967, 'supermarket_weight': 0.04410044595616319, 'landmark_weight': 0.23708076924533736}. Best is trial 61 with value: 10.310461595016536.\n",
      "[I 2024-12-01 16:39:37,845] Trial 96 finished with value: 22.268046300061833 and parameters: {'park_weight': 0.20869784329037439, 'school_weight': 0.07059323636234073, 'supermarket_weight': 0.09213296314356689, 'landmark_weight': 0.29450489472854885}. Best is trial 61 with value: 10.310461595016536.\n",
      "[I 2024-12-01 16:40:00,394] Trial 97 finished with value: 21.340182329402474 and parameters: {'park_weight': 0.1526844757612752, 'school_weight': 0.050698077333497654, 'supermarket_weight': 0.08150122759814031, 'landmark_weight': 0.1547267363687188}. Best is trial 61 with value: 10.310461595016536.\n",
      "[I 2024-12-01 16:40:23,025] Trial 98 finished with value: 19.434741026749567 and parameters: {'park_weight': 0.17736924748772037, 'school_weight': 0.08167748209024146, 'supermarket_weight': 0.13175849940970788, 'landmark_weight': 0.2668418383391491}. Best is trial 61 with value: 10.310461595016536.\n",
      "[I 2024-12-01 16:40:45,634] Trial 99 finished with value: 17.913842412481994 and parameters: {'park_weight': 0.2794306440283857, 'school_weight': 0.018179806616337377, 'supermarket_weight': 0.1956749219321315, 'landmark_weight': 0.2163565467599944}. Best is trial 61 with value: 10.310461595016536.\n",
      "[I 2024-12-01 16:40:45,635] A new study created in memory with name: no-name-1e04f2ce-edaa-4e3b-a8ca-d58fd3c851e3\n"
     ]
    },
    {
     "name": "stdout",
     "output_type": "stream",
     "text": [
      "Year 2016 Best Parameters: {'park_weight': 0.1096024571192876, 'school_weight': 7.948303083316532e-05, 'supermarket_weight': 0.2311514961899984, 'landmark_weight': 0.1960065958674665}\n",
      "Year 2016 Best MAPE: 10.310461595016536\n",
      "Running Optuna study for year index: 3\n"
     ]
    },
    {
     "name": "stderr",
     "output_type": "stream",
     "text": [
      "[I 2024-12-01 16:41:08,320] Trial 0 finished with value: 47.53506108543226 and parameters: {'park_weight': 0.26964055241788065, 'school_weight': 0.3150623689564893, 'supermarket_weight': 0.024639895676737522, 'landmark_weight': 0.4357327163791408}. Best is trial 0 with value: 47.53506108543226.\n",
      "[I 2024-12-01 16:41:30,828] Trial 1 finished with value: 86.53396342372938 and parameters: {'park_weight': 0.5553387840619965, 'school_weight': 0.25083132264264274, 'supermarket_weight': 0.48397863332617086, 'landmark_weight': 0.41382325468536074}. Best is trial 0 with value: 47.53506108543226.\n",
      "[I 2024-12-01 16:41:53,444] Trial 2 finished with value: 157.29092781937436 and parameters: {'park_weight': 0.8013154807573618, 'school_weight': 0.9186531383589971, 'supermarket_weight': 0.5366239351619662, 'landmark_weight': 0.028693086108671162}. Best is trial 0 with value: 47.53506108543226.\n",
      "[I 2024-12-01 16:42:16,138] Trial 3 finished with value: 198.29603692700567 and parameters: {'park_weight': 0.46720339098516817, 'school_weight': 0.8681887932562897, 'supermarket_weight': 0.8253606724260745, 'landmark_weight': 0.7154246112406865}. Best is trial 0 with value: 47.53506108543226.\n",
      "[I 2024-12-01 16:42:38,741] Trial 4 finished with value: 106.00990683187938 and parameters: {'park_weight': 0.29748365649119124, 'school_weight': 0.3845922006789524, 'supermarket_weight': 0.5737806954773147, 'landmark_weight': 0.6411596252876735}. Best is trial 0 with value: 47.53506108543226.\n",
      "[I 2024-12-01 16:43:01,408] Trial 5 finished with value: 33.57569528756608 and parameters: {'park_weight': 0.03207854330241389, 'school_weight': 0.2639745320587492, 'supermarket_weight': 0.1783807120745282, 'landmark_weight': 0.21943254205409557}. Best is trial 5 with value: 33.57569528756608.\n",
      "[I 2024-12-01 16:43:23,897] Trial 6 finished with value: 47.96957098646374 and parameters: {'park_weight': 0.3179545860887809, 'school_weight': 0.21311049664260817, 'supermarket_weight': 0.5340636901222788, 'landmark_weight': 0.054782533228532104}. Best is trial 5 with value: 33.57569528756608.\n",
      "[I 2024-12-01 16:43:46,432] Trial 7 finished with value: 103.5928784810465 and parameters: {'park_weight': 0.4162756802546732, 'school_weight': 0.40820900658003856, 'supermarket_weight': 0.07606374920958381, 'landmark_weight': 0.7305609026835528}. Best is trial 5 with value: 33.57569528756608.\n",
      "[I 2024-12-01 16:44:08,973] Trial 8 finished with value: 171.51096436180947 and parameters: {'park_weight': 0.9915170542019454, 'school_weight': 0.4188923310939481, 'supermarket_weight': 0.9940759767294336, 'landmark_weight': 0.41620132944793664}. Best is trial 5 with value: 33.57569528756608.\n",
      "[I 2024-12-01 16:44:31,556] Trial 9 finished with value: 185.242595636017 and parameters: {'park_weight': 0.8166314340432246, 'school_weight': 0.5073969325405612, 'supermarket_weight': 0.7106518040914764, 'landmark_weight': 0.7627730158241496}. Best is trial 5 with value: 33.57569528756608.\n",
      "[I 2024-12-01 16:44:54,218] Trial 10 finished with value: 62.16848283646574 and parameters: {'park_weight': 0.04298269554445744, 'school_weight': 0.018487459412630747, 'supermarket_weight': 0.2553178114205533, 'landmark_weight': 0.9779130459299452}. Best is trial 5 with value: 33.57569528756608.\n",
      "[I 2024-12-01 16:45:16,664] Trial 11 finished with value: 71.51677617552613 and parameters: {'park_weight': 0.05295450602591089, 'school_weight': 0.6248930406466856, 'supermarket_weight': 0.02534829923156559, 'landmark_weight': 0.24429567277308273}. Best is trial 5 with value: 33.57569528756608.\n",
      "[I 2024-12-01 16:45:39,158] Trial 12 finished with value: 20.770304450392565 and parameters: {'park_weight': 0.16203430586373868, 'school_weight': 0.11339949979619268, 'supermarket_weight': 0.2432886478419956, 'landmark_weight': 0.24013698004023404}. Best is trial 12 with value: 20.770304450392565.\n",
      "[I 2024-12-01 16:46:01,710] Trial 13 finished with value: 15.432421830487609 and parameters: {'park_weight': 0.15057164886777397, 'school_weight': 0.02601386659527527, 'supermarket_weight': 0.246988060148524, 'landmark_weight': 0.19373334652793084}. Best is trial 13 with value: 15.432421830487609.\n",
      "[I 2024-12-01 16:46:24,464] Trial 14 finished with value: 16.5227502836701 and parameters: {'park_weight': 0.16699240944289084, 'school_weight': 0.059463269953782934, 'supermarket_weight': 0.30848175023927377, 'landmark_weight': 0.2078303002754705}. Best is trial 13 with value: 15.432421830487609.\n",
      "[I 2024-12-01 16:46:47,098] Trial 15 finished with value: 15.958292120044797 and parameters: {'park_weight': 0.17918057634047307, 'school_weight': 0.011468934628757435, 'supermarket_weight': 0.36658336768795885, 'landmark_weight': 0.1497644252011945}. Best is trial 13 with value: 15.432421830487609.\n",
      "[I 2024-12-01 16:47:09,638] Trial 16 finished with value: 47.814706028945814 and parameters: {'park_weight': 0.5967461623406547, 'school_weight': 0.14675186726400846, 'supermarket_weight': 0.37196200503126675, 'landmark_weight': 0.11549945264271132}. Best is trial 13 with value: 15.432421830487609.\n",
      "[I 2024-12-01 16:47:32,149] Trial 17 finished with value: 114.49414223669355 and parameters: {'park_weight': 0.19714031280702415, 'school_weight': 0.7045236273831779, 'supermarket_weight': 0.35856716604920946, 'landmark_weight': 0.5512608305015303}. Best is trial 13 with value: 15.432421830487609.\n",
      "[I 2024-12-01 16:47:54,586] Trial 18 finished with value: 19.037568159509362 and parameters: {'park_weight': 0.36125891564930734, 'school_weight': 0.00030235650993696087, 'supermarket_weight': 0.16339274158908962, 'landmark_weight': 0.3290032849156329}. Best is trial 13 with value: 15.432421830487609.\n",
      "[I 2024-12-01 16:48:17,172] Trial 19 finished with value: 56.993684302397945 and parameters: {'park_weight': 0.6303491449351671, 'school_weight': 0.17386272870911074, 'supermarket_weight': 0.43634441200279206, 'landmark_weight': 0.1456874504106068}. Best is trial 13 with value: 15.432421830487609.\n",
      "[I 2024-12-01 16:48:39,716] Trial 20 finished with value: 96.62238026878671 and parameters: {'park_weight': 0.11404089508447708, 'school_weight': 0.5684684405100646, 'supermarket_weight': 0.6658736519421011, 'landmark_weight': 0.3401231254345112}. Best is trial 13 with value: 15.432421830487609.\n",
      "[I 2024-12-01 16:49:02,362] Trial 21 finished with value: 22.329463393854105 and parameters: {'park_weight': 0.21345460690123552, 'school_weight': 0.07946324438284173, 'supermarket_weight': 0.3107052804344569, 'landmark_weight': 0.10198067614756125}. Best is trial 13 with value: 15.432421830487609.\n",
      "[I 2024-12-01 16:49:24,892] Trial 22 finished with value: 24.30488972792555 and parameters: {'park_weight': 0.12799088811320283, 'school_weight': 0.08294979825659898, 'supermarket_weight': 0.1505588242850963, 'landmark_weight': 0.18412415879417224}. Best is trial 13 with value: 15.432421830487609.\n",
      "[I 2024-12-01 16:49:47,503] Trial 23 finished with value: 16.99303760311577 and parameters: {'park_weight': 0.23403389407115688, 'school_weight': 5.017998293241864e-05, 'supermarket_weight': 0.3884563768515851, 'landmark_weight': 0.28673952103881184}. Best is trial 13 with value: 15.432421830487609.\n",
      "[I 2024-12-01 16:50:10,107] Trial 24 finished with value: 28.793726371923857 and parameters: {'park_weight': 0.39226299927946123, 'school_weight': 0.10131162400298355, 'supermarket_weight': 0.26280576624380436, 'landmark_weight': 0.03217082808410947}. Best is trial 13 with value: 15.432421830487609.\n",
      "[I 2024-12-01 16:50:32,729] Trial 25 finished with value: 56.61873699113213 and parameters: {'park_weight': 0.11157819667423433, 'school_weight': 0.3103133592179527, 'supermarket_weight': 0.32886716130553206, 'landmark_weight': 0.517538556302023}. Best is trial 13 with value: 15.432421830487609.\n",
      "[I 2024-12-01 16:50:55,494] Trial 26 finished with value: 27.061253249131006 and parameters: {'park_weight': 0.25928068874763144, 'school_weight': 0.05786418302129773, 'supermarket_weight': 0.47156268618873953, 'landmark_weight': 0.15376397819825194}. Best is trial 13 with value: 15.432421830487609.\n",
      "[I 2024-12-01 16:51:18,152] Trial 27 finished with value: 24.51511948775222 and parameters: {'park_weight': 0.009871479312770909, 'school_weight': 0.1892426195884054, 'supermarket_weight': 0.1795075465530071, 'landmark_weight': 0.33238607879922233}. Best is trial 13 with value: 15.432421830487609.\n",
      "[I 2024-12-01 16:51:40,729] Trial 28 finished with value: 51.341118455562636 and parameters: {'park_weight': 0.48748807454954757, 'school_weight': 0.14553269675337271, 'supermarket_weight': 0.632984252671044, 'landmark_weight': 0.009675560625050983}. Best is trial 13 with value: 15.432421830487609.\n",
      "[I 2024-12-01 16:52:03,617] Trial 29 finished with value: 64.12686580865775 and parameters: {'park_weight': 0.3001826830655624, 'school_weight': 0.32229645602458185, 'supermarket_weight': 0.2659502695035138, 'landmark_weight': 0.45484114813880655}. Best is trial 13 with value: 15.432421830487609.\n",
      "[I 2024-12-01 16:52:26,379] Trial 30 finished with value: 37.769030736219555 and parameters: {'park_weight': 0.10821328061043478, 'school_weight': 0.224385694836311, 'supermarket_weight': 0.08704901291390785, 'landmark_weight': 0.08671933267313034}. Best is trial 13 with value: 15.432421830487609.\n",
      "[I 2024-12-01 16:52:49,215] Trial 31 finished with value: 19.493647464173932 and parameters: {'park_weight': 0.22749683582825042, 'school_weight': 0.004294111069475, 'supermarket_weight': 0.438030776572632, 'landmark_weight': 0.28000064430414784}. Best is trial 13 with value: 15.432421830487609.\n",
      "[I 2024-12-01 16:53:11,964] Trial 32 finished with value: 21.33721863184358 and parameters: {'park_weight': 0.17188769662536746, 'school_weight': 0.05167740269348208, 'supermarket_weight': 0.39245795538107986, 'landmark_weight': 0.2958464965112316}. Best is trial 13 with value: 15.432421830487609.\n",
      "[I 2024-12-01 16:53:34,815] Trial 33 finished with value: 40.66191821886592 and parameters: {'park_weight': 0.263406888698983, 'school_weight': 0.12596098783129012, 'supermarket_weight': 0.426097100975927, 'landmark_weight': 0.3760823482784568}. Best is trial 13 with value: 15.432421830487609.\n",
      "[I 2024-12-01 16:53:57,766] Trial 34 finished with value: 114.1973042559119 and parameters: {'park_weight': 0.3416526148684813, 'school_weight': 0.8008184221674427, 'supermarket_weight': 0.3181229623577616, 'landmark_weight': 0.1953746665288546}. Best is trial 13 with value: 15.432421830487609.\n",
      "[I 2024-12-01 16:54:20,951] Trial 35 finished with value: 23.16100829199673 and parameters: {'park_weight': 0.085896015287931, 'school_weight': 0.052881403408200356, 'supermarket_weight': 0.5015177181012774, 'landmark_weight': 0.16809351017406193}. Best is trial 13 with value: 15.432421830487609.\n",
      "[I 2024-12-01 16:54:44,867] Trial 36 finished with value: 21.553579475477118 and parameters: {'park_weight': 0.44321186474587027, 'school_weight': 0.0037413404037785203, 'supermarket_weight': 0.22758122953549925, 'landmark_weight': 0.2592403438537678}. Best is trial 13 with value: 15.432421830487609.\n",
      "[I 2024-12-01 16:55:08,866] Trial 37 finished with value: 97.66841282130501 and parameters: {'park_weight': 0.5364691142671194, 'school_weight': 0.27138964982487196, 'supermarket_weight': 0.5663917312140919, 'landmark_weight': 0.47635312192749896}. Best is trial 13 with value: 15.432421830487609.\n",
      "[I 2024-12-01 16:55:31,939] Trial 38 finished with value: 34.95966031322743 and parameters: {'park_weight': 0.17687798594430404, 'school_weight': 0.17969842066218855, 'supermarket_weight': 0.10944127788939306, 'landmark_weight': 0.07959305531517852}. Best is trial 13 with value: 15.432421830487609.\n",
      "[I 2024-12-01 16:55:55,310] Trial 39 finished with value: 120.56060078051651 and parameters: {'park_weight': 7.116998940848163e-05, 'school_weight': 0.9662565405603745, 'supermarket_weight': 0.20754363083110283, 'landmark_weight': 0.37394717618031337}. Best is trial 13 with value: 15.432421830487609.\n",
      "[I 2024-12-01 16:56:21,212] Trial 40 finished with value: 80.0561406919335 and parameters: {'park_weight': 0.2475533205000712, 'school_weight': 0.33394016955420547, 'supermarket_weight': 0.3199684314275739, 'landmark_weight': 0.6196124191328364}. Best is trial 13 with value: 15.432421830487609.\n",
      "[I 2024-12-01 16:56:45,994] Trial 41 finished with value: 24.534227255899715 and parameters: {'park_weight': 0.3672707129598224, 'school_weight': 0.01048724027891539, 'supermarket_weight': 0.2871976834020667, 'landmark_weight': 0.3220581155670466}. Best is trial 13 with value: 15.432421830487609.\n",
      "[I 2024-12-01 16:57:09,866] Trial 42 finished with value: 26.169120378986673 and parameters: {'park_weight': 0.31416891154631366, 'school_weight': 0.05425719773462179, 'supermarket_weight': 0.14047262140062167, 'landmark_weight': 0.38949589322686795}. Best is trial 13 with value: 15.432421830487609.\n",
      "[I 2024-12-01 16:57:35,265] Trial 43 finished with value: 34.111993344469205 and parameters: {'park_weight': 0.3439510381372757, 'school_weight': 0.11047413031054916, 'supermarket_weight': 0.37590697509661897, 'landmark_weight': 0.20767890560397165}. Best is trial 13 with value: 15.432421830487609.\n",
      "[I 2024-12-01 16:57:59,763] Trial 44 finished with value: 13.076741636621822 and parameters: {'park_weight': 0.1462172919855216, 'school_weight': 0.005310765648356242, 'supermarket_weight': 0.033638381559567915, 'landmark_weight': 0.28821573823350666}. Best is trial 44 with value: 13.076741636621822.\n",
      "[I 2024-12-01 16:58:23,409] Trial 45 finished with value: 37.54863029202519 and parameters: {'park_weight': 0.056426787090345265, 'school_weight': 0.2326068349494255, 'supermarket_weight': 0.016283713967009502, 'landmark_weight': 0.1334043880501304}. Best is trial 44 with value: 13.076741636621822.\n",
      "[I 2024-12-01 16:58:46,449] Trial 46 finished with value: 55.89746229985756 and parameters: {'park_weight': 0.169614687356008, 'school_weight': 0.46791543957221327, 'supermarket_weight': 0.05362504133645685, 'landmark_weight': 0.22412009248641457}. Best is trial 44 with value: 13.076741636621822.\n",
      "[I 2024-12-01 16:59:10,274] Trial 47 finished with value: 40.53135342000763 and parameters: {'park_weight': 0.14402574221546116, 'school_weight': 0.03899487075850426, 'supermarket_weight': 0.8101465402171335, 'landmark_weight': 0.2872087023048937}. Best is trial 44 with value: 13.076741636621822.\n",
      "[I 2024-12-01 16:59:33,687] Trial 48 finished with value: 89.17473686758596 and parameters: {'park_weight': 0.6845810134525798, 'school_weight': 0.14607017703654226, 'supermarket_weight': 0.4856965212383995, 'landmark_weight': 0.43587516402990073}. Best is trial 44 with value: 13.076741636621822.\n",
      "[I 2024-12-01 16:59:56,650] Trial 49 finished with value: 67.31510029322341 and parameters: {'park_weight': 0.07704151378225346, 'school_weight': 0.08953962985020666, 'supermarket_weight': 0.5354880698841853, 'landmark_weight': 0.7958563831771224}. Best is trial 44 with value: 13.076741636621822.\n",
      "[I 2024-12-01 17:00:20,681] Trial 50 finished with value: 43.872544452720376 and parameters: {'park_weight': 0.20818182612510897, 'school_weight': 0.27492372196037035, 'supermarket_weight': 0.3988125468488323, 'landmark_weight': 0.062078870872883746}. Best is trial 44 with value: 13.076741636621822.\n",
      "[I 2024-12-01 17:00:45,382] Trial 51 finished with value: 13.037534606804206 and parameters: {'park_weight': 0.29169081752992554, 'school_weight': 0.015851282347386753, 'supermarket_weight': 0.1937767742766221, 'landmark_weight': 0.24661356291450554}. Best is trial 51 with value: 13.037534606804206.\n",
      "[I 2024-12-01 17:01:10,356] Trial 52 finished with value: 15.413244067345266 and parameters: {'park_weight': 0.2842057329035151, 'school_weight': 0.03451669108383468, 'supermarket_weight': 0.11051384617124746, 'landmark_weight': 0.21935612121984754}. Best is trial 51 with value: 13.037534606804206.\n",
      "[I 2024-12-01 17:01:36,307] Trial 53 finished with value: 19.338196999147176 and parameters: {'park_weight': 0.2754007423614628, 'school_weight': 0.07945256712591829, 'supermarket_weight': 0.10462018645624607, 'landmark_weight': 0.23307353035900683}. Best is trial 51 with value: 13.037534606804206.\n",
      "[I 2024-12-01 17:02:02,073] Trial 54 finished with value: 25.232568371127186 and parameters: {'park_weight': 0.15268368400888438, 'school_weight': 0.0484449902027509, 'supermarket_weight': 0.0010341046140443094, 'landmark_weight': 0.173679695627562}. Best is trial 51 with value: 13.037534606804206.\n",
      "[I 2024-12-01 17:02:27,202] Trial 55 finished with value: 30.37795097722418 and parameters: {'park_weight': 0.43407582024580027, 'school_weight': 0.125294971639213, 'supermarket_weight': 0.20316762431425003, 'landmark_weight': 0.11751292541441924}. Best is trial 51 with value: 13.037534606804206.\n",
      "[I 2024-12-01 17:02:53,342] Trial 56 finished with value: 30.604599155431305 and parameters: {'park_weight': 0.2919094448702708, 'school_weight': 0.17756100467781014, 'supermarket_weight': 0.04501523835381782, 'landmark_weight': 0.2089931143773812}. Best is trial 51 with value: 13.037534606804206.\n",
      "[I 2024-12-01 17:03:20,435] Trial 57 finished with value: 14.485178312389952 and parameters: {'park_weight': 0.19865438030139937, 'school_weight': 0.03534686081634969, 'supermarket_weight': 0.1316453637264401, 'landmark_weight': 0.2562325454374288}. Best is trial 51 with value: 13.037534606804206.\n",
      "[I 2024-12-01 17:03:48,363] Trial 58 finished with value: 14.307709305984972 and parameters: {'park_weight': 0.19911727253165584, 'school_weight': 0.030015129353982983, 'supermarket_weight': 0.14009473349996254, 'landmark_weight': 0.2562556278885224}. Best is trial 51 with value: 13.037534606804206.\n",
      "[I 2024-12-01 17:04:15,576] Trial 59 finished with value: 72.33643275602977 and parameters: {'park_weight': 0.937758587003729, 'school_weight': 0.09958098045380515, 'supermarket_weight': 0.1251660127517272, 'landmark_weight': 0.2599631348900757}. Best is trial 51 with value: 13.037534606804206.\n",
      "[I 2024-12-01 17:04:40,785] Trial 60 finished with value: 17.036961259754072 and parameters: {'park_weight': 0.19920466062421155, 'school_weight': 0.036418767965306215, 'supermarket_weight': 0.0769260608638181, 'landmark_weight': 0.4072896130286626}. Best is trial 51 with value: 13.037534606804206.\n",
      "[I 2024-12-01 17:05:06,070] Trial 61 finished with value: 13.583441492455446 and parameters: {'park_weight': 0.12671760235331947, 'school_weight': 0.07671441393676491, 'supermarket_weight': 0.18194887049312716, 'landmark_weight': 0.3466171505150456}. Best is trial 51 with value: 13.037534606804206.\n",
      "[I 2024-12-01 17:05:30,261] Trial 62 finished with value: 13.756524789156424 and parameters: {'park_weight': 0.12563222966539844, 'school_weight': 0.07866466169167115, 'supermarket_weight': 0.17480445868524203, 'landmark_weight': 0.3493657067157619}. Best is trial 51 with value: 13.037534606804206.\n",
      "[I 2024-12-01 17:05:56,004] Trial 63 finished with value: 20.432448338179103 and parameters: {'park_weight': 0.06227255338794836, 'school_weight': 0.13933691346560192, 'supermarket_weight': 0.18224769404974628, 'landmark_weight': 0.3560075059020038}. Best is trial 51 with value: 13.037534606804206.\n",
      "[I 2024-12-01 17:06:18,724] Trial 64 finished with value: 13.321500322839299 and parameters: {'park_weight': 0.09304601551060561, 'school_weight': 0.07921747435484894, 'supermarket_weight': 0.15855235137381443, 'landmark_weight': 0.3186375107941017}. Best is trial 51 with value: 13.037534606804206.\n",
      "[I 2024-12-01 17:06:41,422] Trial 65 finished with value: 15.392511418787908 and parameters: {'park_weight': 0.09513431152204713, 'school_weight': 0.08504064178501922, 'supermarket_weight': 0.15370097652145306, 'landmark_weight': 0.3155882890083149}. Best is trial 51 with value: 13.037534606804206.\n",
      "[I 2024-12-01 17:07:04,024] Trial 66 finished with value: 77.74217488319798 and parameters: {'park_weight': 0.0327548554357886, 'school_weight': 0.6701931978365863, 'supermarket_weight': 0.05329360500688496, 'landmark_weight': 0.4295398461630188}. Best is trial 51 with value: 13.037534606804206.\n",
      "[I 2024-12-01 17:07:26,775] Trial 67 finished with value: 40.215484060374614 and parameters: {'park_weight': 0.13656554145179767, 'school_weight': 0.1977423216014349, 'supermarket_weight': 0.21215189708676901, 'landmark_weight': 0.5252295287851654}. Best is trial 51 with value: 13.037534606804206.\n",
      "[I 2024-12-01 17:07:49,556] Trial 68 finished with value: 61.419579611202195 and parameters: {'park_weight': 0.11747188180453291, 'school_weight': 0.15490514939465347, 'supermarket_weight': 0.9842427911409058, 'landmark_weight': 0.2696064464002295}. Best is trial 51 with value: 13.037534606804206.\n",
      "[I 2024-12-01 17:08:12,257] Trial 69 finished with value: 16.16540528336406 and parameters: {'park_weight': 0.21906146922063735, 'school_weight': 0.0726181717153297, 'supermarket_weight': 0.18098617677214784, 'landmark_weight': 0.3046616087044419}. Best is trial 51 with value: 13.037534606804206.\n",
      "[I 2024-12-01 17:08:35,143] Trial 70 finished with value: 14.92243593510043 and parameters: {'park_weight': 0.030881385375154155, 'school_weight': 0.09935318978916438, 'supermarket_weight': 0.08456334199683577, 'landmark_weight': 0.3566341393407698}. Best is trial 51 with value: 13.037534606804206.\n",
      "[I 2024-12-01 17:08:57,774] Trial 71 finished with value: 17.81025159210345 and parameters: {'park_weight': 0.03828345142129162, 'school_weight': 0.1189924011809933, 'supermarket_weight': 0.08084132570989776, 'landmark_weight': 0.35313587140923897}. Best is trial 51 with value: 13.037534606804206.\n",
      "[I 2024-12-01 17:09:20,535] Trial 72 finished with value: 15.193036963823687 and parameters: {'park_weight': 0.09702784930220955, 'school_weight': 0.02511082326002031, 'supermarket_weight': 0.14354218935824484, 'landmark_weight': 0.2502102648314174}. Best is trial 51 with value: 13.037534606804206.\n",
      "[I 2024-12-01 17:09:43,220] Trial 73 finished with value: 9.60467657612217 and parameters: {'park_weight': 0.020631719954328415, 'school_weight': 0.07250701185901248, 'supermarket_weight': 0.040608633921670405, 'landmark_weight': 0.3900940448686944}. Best is trial 73 with value: 9.60467657612217.\n",
      "[I 2024-12-01 17:10:06,233] Trial 74 finished with value: 16.046134689281196 and parameters: {'park_weight': 0.13127032068553499, 'school_weight': 0.06794862963826372, 'supermarket_weight': 0.02993904251235807, 'landmark_weight': 0.40116361280706647}. Best is trial 73 with value: 9.60467657612217.\n",
      "[I 2024-12-01 17:10:29,008] Trial 75 finished with value: 114.10096173906973 and parameters: {'park_weight': 0.19524393375168486, 'school_weight': 0.8101833974170207, 'supermarket_weight': 0.2511586959132536, 'landmark_weight': 0.4747980170898246}. Best is trial 73 with value: 9.60467657612217.\n",
      "[I 2024-12-01 17:10:51,846] Trial 76 finished with value: 23.3106029524196 and parameters: {'park_weight': 0.07087362011424356, 'school_weight': 0.15531958935058157, 'supermarket_weight': 0.13447709114028206, 'landmark_weight': 0.3083235392404287}. Best is trial 73 with value: 9.60467657612217.\n",
      "[I 2024-12-01 17:11:14,423] Trial 77 finished with value: 73.65965703147012 and parameters: {'park_weight': 0.23506702130670254, 'school_weight': 0.023760920125012033, 'supermarket_weight': 0.16966228025598787, 'landmark_weight': 0.9608161595791032}. Best is trial 73 with value: 9.60467657612217.\n",
      "[I 2024-12-01 17:11:37,119] Trial 78 finished with value: 29.694376557198314 and parameters: {'park_weight': 0.01342844957732065, 'school_weight': 0.2093404346171112, 'supermarket_weight': 0.2824521940582261, 'landmark_weight': 0.33794187828416233}. Best is trial 73 with value: 9.60467657612217.\n",
      "[I 2024-12-01 17:11:59,846] Trial 79 finished with value: 12.99655074182644 and parameters: {'park_weight': 0.1562382278278523, 'school_weight': 0.0008823099917014549, 'supermarket_weight': 0.06300607165795434, 'landmark_weight': 0.3695525073697014}. Best is trial 73 with value: 9.60467657612217.\n",
      "[I 2024-12-01 17:12:22,611] Trial 80 finished with value: 10.667598505117269 and parameters: {'park_weight': 0.08861687721485115, 'school_weight': 0.0073068393661176664, 'supermarket_weight': 0.051530450588558874, 'landmark_weight': 0.3865341221394473}. Best is trial 73 with value: 9.60467657612217.\n",
      "[I 2024-12-01 17:12:45,186] Trial 81 finished with value: 11.86050940722582 and parameters: {'park_weight': 0.09365928658095585, 'school_weight': 0.0665917569947767, 'supermarket_weight': 0.04905077924932778, 'landmark_weight': 0.37416590037404024}. Best is trial 73 with value: 9.60467657612217.\n",
      "[I 2024-12-01 17:13:08,042] Trial 82 finished with value: 14.197832591913874 and parameters: {'park_weight': 0.08786094146189134, 'school_weight': 0.0013344303495088925, 'supermarket_weight': 0.001962105120471229, 'landmark_weight': 0.44664900386070633}. Best is trial 73 with value: 9.60467657612217.\n",
      "[I 2024-12-01 17:13:30,758] Trial 83 finished with value: 14.291337392091574 and parameters: {'park_weight': 0.12706778628983745, 'school_weight': 0.06869944458365843, 'supermarket_weight': 0.05029062165676265, 'landmark_weight': 0.3837010285466099}. Best is trial 73 with value: 9.60467657612217.\n",
      "[I 2024-12-01 17:13:53,521] Trial 84 finished with value: 26.00540451131899 and parameters: {'park_weight': 0.05489184020206837, 'school_weight': 0.1256090738808702, 'supermarket_weight': 0.06471156510161785, 'landmark_weight': 0.574442889533407}. Best is trial 73 with value: 9.60467657612217.\n",
      "[I 2024-12-01 17:14:16,159] Trial 85 finished with value: 21.154187950394075 and parameters: {'park_weight': 0.15303120552246766, 'school_weight': 0.1018253323801066, 'supermarket_weight': 0.029712925598365716, 'landmark_weight': 0.4731328781078524}. Best is trial 73 with value: 9.60467657612217.\n",
      "[I 2024-12-01 17:14:38,888] Trial 86 finished with value: 7.114105135236945 and parameters: {'park_weight': 0.019823643216561757, 'school_weight': 0.06029548715845428, 'supermarket_weight': 0.09366122514991514, 'landmark_weight': 0.40729966171451554}. Best is trial 86 with value: 7.114105135236945.\n",
      "[I 2024-12-01 17:15:01,707] Trial 87 finished with value: 7.342706934638377 and parameters: {'park_weight': 0.024899885726875834, 'school_weight': 0.05498254667805349, 'supermarket_weight': 0.10211961385272918, 'landmark_weight': 0.4171786662641791}. Best is trial 86 with value: 7.114105135236945.\n",
      "[I 2024-12-01 17:15:24,462] Trial 88 finished with value: 63.745427153273134 and parameters: {'park_weight': 0.0024629421922382905, 'school_weight': 0.5491529981354071, 'supermarket_weight': 0.09699712399978162, 'landmark_weight': 0.42127535470296296}. Best is trial 86 with value: 7.114105135236945.\n",
      "[I 2024-12-01 17:15:47,348] Trial 89 finished with value: 14.777905881969772 and parameters: {'park_weight': 0.0419943047566977, 'school_weight': 0.05287466719795757, 'supermarket_weight': 0.025765561894161963, 'landmark_weight': 0.5100236063192504}. Best is trial 86 with value: 7.114105135236945.\n",
      "[I 2024-12-01 17:16:10,181] Trial 90 finished with value: 13.091643765839398 and parameters: {'park_weight': 0.021114744228905774, 'school_weight': 0.003944416942567086, 'supermarket_weight': 0.06964287387178203, 'landmark_weight': 0.3767039738030865}. Best is trial 86 with value: 7.114105135236945.\n",
      "[I 2024-12-01 17:16:32,998] Trial 91 finished with value: 9.370805864904941 and parameters: {'park_weight': 0.023575130196336457, 'school_weight': 0.000469639469435755, 'supermarket_weight': 0.11096038656564941, 'landmark_weight': 0.3735241188618262}. Best is trial 86 with value: 7.114105135236945.\n",
      "[I 2024-12-01 17:16:55,890] Trial 92 finished with value: 9.679448146683743 and parameters: {'park_weight': 0.06434886328773919, 'school_weight': 0.0021969261119102147, 'supermarket_weight': 0.06868262691089916, 'landmark_weight': 0.3826948739202027}. Best is trial 86 with value: 7.114105135236945.\n",
      "[I 2024-12-01 17:17:18,684] Trial 93 finished with value: 7.320593245382739 and parameters: {'park_weight': 0.07573937101740617, 'school_weight': 0.02122237546684121, 'supermarket_weight': 0.09788276499441662, 'landmark_weight': 0.40654911806867483}. Best is trial 86 with value: 7.114105135236945.\n",
      "[I 2024-12-01 17:17:41,445] Trial 94 finished with value: 8.790434877690952 and parameters: {'park_weight': 0.06832042385829445, 'school_weight': 0.0482725881343045, 'supermarket_weight': 0.12211423406050893, 'landmark_weight': 0.4489968035210098}. Best is trial 86 with value: 7.114105135236945.\n",
      "[I 2024-12-01 17:18:04,352] Trial 95 finished with value: 13.971093260731744 and parameters: {'park_weight': 0.07034541423374387, 'school_weight': 0.04758548468710311, 'supermarket_weight': 0.10315697407057473, 'landmark_weight': 0.49366603921247876}. Best is trial 86 with value: 7.114105135236945.\n",
      "[I 2024-12-01 17:18:27,409] Trial 96 finished with value: 10.075463612533998 and parameters: {'park_weight': 0.04984157492596118, 'school_weight': 0.02694438415638066, 'supermarket_weight': 0.06275221832493524, 'landmark_weight': 0.41044831298263235}. Best is trial 86 with value: 7.114105135236945.\n",
      "[I 2024-12-01 17:18:50,091] Trial 97 finished with value: 48.09551930035407 and parameters: {'park_weight': 0.04721321100747665, 'school_weight': 0.37877376429778076, 'supermarket_weight': 0.11635301885804275, 'landmark_weight': 0.45080090105145104}. Best is trial 86 with value: 7.114105135236945.\n",
      "[I 2024-12-01 17:19:12,859] Trial 98 finished with value: 13.72014390532251 and parameters: {'park_weight': 0.019392681417489073, 'school_weight': 0.02964716413004778, 'supermarket_weight': 0.013242945157378977, 'landmark_weight': 0.54548764251061}. Best is trial 86 with value: 7.114105135236945.\n",
      "[I 2024-12-01 17:19:35,630] Trial 99 finished with value: 10.12569973589317 and parameters: {'park_weight': 0.06475034622157141, 'school_weight': 0.05690926183112784, 'supermarket_weight': 0.08757841924576974, 'landmark_weight': 0.40797914753434905}. Best is trial 86 with value: 7.114105135236945.\n",
      "[I 2024-12-01 17:19:35,631] A new study created in memory with name: no-name-d693701f-4680-4ad4-86d4-11bf22d2f9f1\n"
     ]
    },
    {
     "name": "stdout",
     "output_type": "stream",
     "text": [
      "Year 2017 Best Parameters: {'park_weight': 0.019823643216561757, 'school_weight': 0.06029548715845428, 'supermarket_weight': 0.09366122514991514, 'landmark_weight': 0.40729966171451554}\n",
      "Year 2017 Best MAPE: 7.114105135236945\n",
      "Running Optuna study for year index: 4\n"
     ]
    },
    {
     "name": "stderr",
     "output_type": "stream",
     "text": [
      "[I 2024-12-01 17:19:58,360] Trial 0 finished with value: 21.096018823919813 and parameters: {'park_weight': 0.2699819252080381, 'school_weight': 0.10902572977186031, 'supermarket_weight': 0.43112490809761017, 'landmark_weight': 0.22191882768167004}. Best is trial 0 with value: 21.096018823919813.\n",
      "[I 2024-12-01 17:20:20,976] Trial 1 finished with value: 100.3144428623822 and parameters: {'park_weight': 0.012033386756857611, 'school_weight': 0.7343117757329258, 'supermarket_weight': 0.8200155405245841, 'landmark_weight': 0.44975647404227603}. Best is trial 0 with value: 21.096018823919813.\n",
      "[I 2024-12-01 17:20:43,668] Trial 2 finished with value: 100.0766837164364 and parameters: {'park_weight': 0.7155673748131182, 'school_weight': 0.4544284812139058, 'supermarket_weight': 0.23423468059204577, 'landmark_weight': 0.4784758148105498}. Best is trial 0 with value: 21.096018823919813.\n",
      "[I 2024-12-01 17:21:06,496] Trial 3 finished with value: 129.60201003083546 and parameters: {'park_weight': 0.7280734355054868, 'school_weight': 0.8533616461850642, 'supermarket_weight': 0.7154597323619599, 'landmark_weight': 0.015242775759703231}. Best is trial 0 with value: 21.096018823919813.\n",
      "[I 2024-12-01 17:21:29,079] Trial 4 finished with value: 65.49186629938193 and parameters: {'park_weight': 0.26753498949058363, 'school_weight': 0.36879728943248247, 'supermarket_weight': 0.5003699597396737, 'landmark_weight': 0.4850941295941913}. Best is trial 0 with value: 21.096018823919813.\n",
      "[I 2024-12-01 17:21:51,912] Trial 5 finished with value: 166.5558785686824 and parameters: {'park_weight': 0.8285950266497739, 'school_weight': 0.754806078974648, 'supermarket_weight': 0.8653980875846067, 'landmark_weight': 0.430041769933603}. Best is trial 0 with value: 21.096018823919813.\n",
      "[I 2024-12-01 17:22:14,604] Trial 6 finished with value: 116.79335061482543 and parameters: {'park_weight': 0.06237965126756484, 'school_weight': 0.9553000326236193, 'supermarket_weight': 0.6624113010646338, 'landmark_weight': 0.12954436393360091}. Best is trial 0 with value: 21.096018823919813.\n",
      "[I 2024-12-01 17:22:37,108] Trial 7 finished with value: 120.83361688681664 and parameters: {'park_weight': 0.8862974790692107, 'school_weight': 0.23021983096102072, 'supermarket_weight': 0.7438240762957276, 'landmark_weight': 0.5528666542917742}. Best is trial 0 with value: 21.096018823919813.\n",
      "[I 2024-12-01 17:23:00,270] Trial 8 finished with value: 60.53883326443612 and parameters: {'park_weight': 0.42204499185976063, 'school_weight': 0.3387030795588324, 'supermarket_weight': 0.6917167940281784, 'landmark_weight': 0.12805255344930144}. Best is trial 0 with value: 21.096018823919813.\n",
      "[I 2024-12-01 17:23:22,973] Trial 9 finished with value: 157.98877971284548 and parameters: {'park_weight': 0.8551995935814137, 'school_weight': 0.5621457998656244, 'supermarket_weight': 0.589303370981603, 'landmark_weight': 0.6837802748655225}. Best is trial 0 with value: 21.096018823919813.\n",
      "[I 2024-12-01 17:23:45,747] Trial 10 finished with value: 69.99902443913253 and parameters: {'park_weight': 0.29003374457832054, 'school_weight': 0.02526887939859604, 'supermarket_weight': 0.25510761144390015, 'landmark_weight': 0.9916911890611749}. Best is trial 0 with value: 21.096018823919813.\n",
      "[I 2024-12-01 17:24:08,414] Trial 11 finished with value: 25.21380587936451 and parameters: {'park_weight': 0.46419543088621884, 'school_weight': 0.10508974190679182, 'supermarket_weight': 0.38902009685763506, 'landmark_weight': 0.20518729713746994}. Best is trial 0 with value: 21.096018823919813.\n",
      "[I 2024-12-01 17:24:31,255] Trial 12 finished with value: 30.80684417035037 and parameters: {'park_weight': 0.5097802810303707, 'school_weight': 0.006904480461760454, 'supermarket_weight': 0.04881247351671847, 'landmark_weight': 0.26223279257200915}. Best is trial 0 with value: 21.096018823919813.\n",
      "[I 2024-12-01 17:24:53,821] Trial 13 finished with value: 41.277067198958235 and parameters: {'park_weight': 0.51722533310602, 'school_weight': 0.15996014152766136, 'supermarket_weight': 0.3797193508102925, 'landmark_weight': 0.2847002422789976}. Best is trial 0 with value: 21.096018823919813.\n",
      "[I 2024-12-01 17:25:16,417] Trial 14 finished with value: 21.299571781275557 and parameters: {'park_weight': 0.1976089458208315, 'school_weight': 0.13848646351440785, 'supermarket_weight': 0.3742182396479612, 'landmark_weight': 0.2710931986840493}. Best is trial 0 with value: 21.096018823919813.\n",
      "[I 2024-12-01 17:25:39,053] Trial 15 finished with value: 55.932934768932704 and parameters: {'park_weight': 0.17977452000549238, 'school_weight': 0.24956468750682959, 'supermarket_weight': 0.09893411272605146, 'landmark_weight': 0.009595350997978036}. Best is trial 0 with value: 21.096018823919813.\n",
      "[I 2024-12-01 17:26:01,746] Trial 16 finished with value: 71.62598076280833 and parameters: {'park_weight': 0.20008076761402652, 'school_weight': 0.5717062286018786, 'supermarket_weight': 0.43149131000135577, 'landmark_weight': 0.3534847582682018}. Best is trial 0 with value: 21.096018823919813.\n",
      "[I 2024-12-01 17:26:24,499] Trial 17 finished with value: 86.2357883464701 and parameters: {'park_weight': 0.38055100534950764, 'school_weight': 0.1293842152101352, 'supermarket_weight': 0.9925504445968161, 'landmark_weight': 0.6281393844718837}. Best is trial 0 with value: 21.096018823919813.\n",
      "[I 2024-12-01 17:26:47,166] Trial 18 finished with value: 65.94597715752721 and parameters: {'park_weight': 0.14051731051348104, 'school_weight': 0.2992431744180668, 'supermarket_weight': 0.2657508627479511, 'landmark_weight': 0.797759628946526}. Best is trial 0 with value: 21.096018823919813.\n",
      "[I 2024-12-01 17:27:09,927] Trial 19 finished with value: 65.81446346488431 and parameters: {'park_weight': 0.3329268122998544, 'school_weight': 0.44183057565711104, 'supermarket_weight': 0.48797216044638403, 'landmark_weight': 0.3480376879806299}. Best is trial 0 with value: 21.096018823919813.\n",
      "[I 2024-12-01 17:27:32,672] Trial 20 finished with value: 40.5478514909431 and parameters: {'park_weight': 0.6464595456326343, 'school_weight': 0.18606925691791684, 'supermarket_weight': 0.16930700343034333, 'landmark_weight': 0.1625166587761943}. Best is trial 0 with value: 21.096018823919813.\n",
      "[I 2024-12-01 17:27:55,388] Trial 21 finished with value: 23.966089789613772 and parameters: {'park_weight': 0.4128686423158306, 'school_weight': 0.10986165087390139, 'supermarket_weight': 0.3567588093632833, 'landmark_weight': 0.22308904255578366}. Best is trial 0 with value: 21.096018823919813.\n",
      "[I 2024-12-01 17:28:18,109] Trial 22 finished with value: 75.01817689409624 and parameters: {'park_weight': 0.9990361763833527, 'school_weight': 0.06257393888433357, 'supermarket_weight': 0.3314546169559502, 'landmark_weight': 0.32957924259393906}. Best is trial 0 with value: 21.096018823919813.\n",
      "[I 2024-12-01 17:28:40,764] Trial 23 finished with value: 25.843614496038448 and parameters: {'park_weight': 0.25921537653501675, 'school_weight': 0.11669634622693384, 'supermarket_weight': 0.5495780051843279, 'landmark_weight': 0.22281271021364804}. Best is trial 0 with value: 21.096018823919813.\n",
      "[I 2024-12-01 17:29:03,486] Trial 24 finished with value: 37.11556931885269 and parameters: {'park_weight': 0.10631812175458183, 'school_weight': 0.2450373556616242, 'supermarket_weight': 0.3233212634268354, 'landmark_weight': 0.12644834093584192}. Best is trial 0 with value: 21.096018823919813.\n",
      "[I 2024-12-01 17:29:26,201] Trial 25 finished with value: 18.547397693078594 and parameters: {'park_weight': 0.5822306374969204, 'school_weight': 0.0030112577178857958, 'supermarket_weight': 0.4410502112732538, 'landmark_weight': 0.0792785946546872}. Best is trial 25 with value: 18.547397693078594.\n",
      "[I 2024-12-01 17:29:48,892] Trial 26 finished with value: 21.88927219394585 and parameters: {'park_weight': 0.5987577061124905, 'school_weight': 0.031201116171321597, 'supermarket_weight': 0.4542617565093494, 'landmark_weight': 0.07583932891049282}. Best is trial 25 with value: 18.547397693078594.\n",
      "[I 2024-12-01 17:30:11,551] Trial 27 finished with value: 44.362494836211646 and parameters: {'park_weight': 0.5896418610398316, 'school_weight': 0.18997668126806916, 'supermarket_weight': 0.5680737312017451, 'landmark_weight': 0.07270422200428467}. Best is trial 25 with value: 18.547397693078594.\n",
      "[I 2024-12-01 17:30:34,213] Trial 28 finished with value: 58.327357785947655 and parameters: {'park_weight': 0.21280127056671386, 'school_weight': 0.3898750315325902, 'supermarket_weight': 0.6088167234588854, 'landmark_weight': 0.2940371643289345}. Best is trial 25 with value: 18.547397693078594.\n",
      "[I 2024-12-01 17:30:56,982] Trial 29 finished with value: 62.08945275509198 and parameters: {'park_weight': 0.05157957764463014, 'school_weight': 0.6282167208163115, 'supermarket_weight': 0.14625598037169463, 'landmark_weight': 0.3989231139955974}. Best is trial 25 with value: 18.547397693078594.\n",
      "[I 2024-12-01 17:31:19,672] Trial 30 finished with value: 26.63307713522487 and parameters: {'park_weight': 0.3361674781827313, 'school_weight': 0.08104417644146435, 'supermarket_weight': 0.43445120853602315, 'landmark_weight': 0.06642144951663465}. Best is trial 25 with value: 18.547397693078594.\n",
      "[I 2024-12-01 17:31:42,405] Trial 31 finished with value: 19.27847656643947 and parameters: {'park_weight': 0.5934183731437315, 'school_weight': 0.005956250968898331, 'supermarket_weight': 0.4774696043384904, 'landmark_weight': 0.07066925519465071}. Best is trial 25 with value: 18.547397693078594.\n",
      "[I 2024-12-01 17:32:05,112] Trial 32 finished with value: 35.14250682600762 and parameters: {'park_weight': 0.6907955102269182, 'school_weight': 0.0016121832181330553, 'supermarket_weight': 0.4920041504345929, 'landmark_weight': 0.17940062755026953}. Best is trial 25 with value: 18.547397693078594.\n",
      "[I 2024-12-01 17:32:27,763] Trial 33 finished with value: 38.17733774068187 and parameters: {'park_weight': 0.5554904132999969, 'school_weight': 0.17413715269875774, 'supermarket_weight': 0.28885167669829204, 'landmark_weight': 0.001897402018174621}. Best is trial 25 with value: 18.547397693078594.\n",
      "[I 2024-12-01 17:32:50,425] Trial 34 finished with value: 38.17822954721113 and parameters: {'park_weight': 0.75790767272112, 'school_weight': 0.048022438556546254, 'supermarket_weight': 0.5310578467408161, 'landmark_weight': 0.08403256834994854}. Best is trial 25 with value: 18.547397693078594.\n",
      "[I 2024-12-01 17:33:13,069] Trial 35 finished with value: 53.69830314325909 and parameters: {'park_weight': 0.6362791680608976, 'school_weight': 0.27902896722212184, 'supermarket_weight': 0.22240369362303913, 'landmark_weight': 0.24721510569383445}. Best is trial 25 with value: 18.547397693078594.\n",
      "[I 2024-12-01 17:33:35,723] Trial 36 finished with value: 54.86169458073077 and parameters: {'park_weight': 0.7532743771349526, 'school_weight': 0.09589110819703764, 'supermarket_weight': 0.6183903376535399, 'landmark_weight': 0.17284443021067328}. Best is trial 25 with value: 18.547397693078594.\n",
      "[I 2024-12-01 17:33:58,370] Trial 37 finished with value: 147.9299480819007 and parameters: {'park_weight': 0.5359999298322178, 'school_weight': 0.735536129557073, 'supermarket_weight': 0.8123114874247716, 'landmark_weight': 0.5427345165487396}. Best is trial 25 with value: 18.547397693078594.\n",
      "[I 2024-12-01 17:34:21,075] Trial 38 finished with value: 126.71161049072916 and parameters: {'park_weight': 0.47702950326407534, 'school_weight': 0.859419048898696, 'supermarket_weight': 0.4046853608834673, 'landmark_weight': 0.41656283675136463}. Best is trial 25 with value: 18.547397693078594.\n",
      "[I 2024-12-01 17:34:43,758] Trial 39 finished with value: 43.87642535362655 and parameters: {'park_weight': 0.010459940558254499, 'school_weight': 0.32174378234951995, 'supermarket_weight': 0.204568477867082, 'landmark_weight': 0.11694752819191183}. Best is trial 25 with value: 18.547397693078594.\n",
      "[I 2024-12-01 17:35:06,436] Trial 40 finished with value: 52.67640752338775 and parameters: {'park_weight': 0.6789925538857396, 'school_weight': 0.20367950386734407, 'supermarket_weight': 0.660606962239813, 'landmark_weight': 0.04548642315809251}. Best is trial 25 with value: 18.547397693078594.\n",
      "[I 2024-12-01 17:35:29,121] Trial 41 finished with value: 23.88744078876009 and parameters: {'park_weight': 0.6088842521906089, 'school_weight': 0.045564982962310936, 'supermarket_weight': 0.4606873632524329, 'landmark_weight': 0.09619194805599832}. Best is trial 25 with value: 18.547397693078594.\n",
      "[I 2024-12-01 17:35:51,790] Trial 42 finished with value: 23.285578142108072 and parameters: {'park_weight': 0.5857241687921472, 'school_weight': 0.001863561479591012, 'supermarket_weight': 0.46411683835138895, 'landmark_weight': 0.15955052331217007}. Best is trial 25 with value: 18.547397693078594.\n",
      "[I 2024-12-01 17:36:14,633] Trial 43 finished with value: 39.78440320089798 and parameters: {'park_weight': 0.7918122677655585, 'school_weight': 0.1450806665997091, 'supermarket_weight': 0.3196446096343135, 'landmark_weight': 0.041965984275297255}. Best is trial 25 with value: 18.547397693078594.\n",
      "[I 2024-12-01 17:36:37,307] Trial 44 finished with value: 22.895135789889743 and parameters: {'park_weight': 0.41420762292950797, 'school_weight': 0.06183537832518404, 'supermarket_weight': 0.540210102258899, 'landmark_weight': 0.1323072430994302}. Best is trial 25 with value: 18.547397693078594.\n",
      "[I 2024-12-01 17:36:59,921] Trial 45 finished with value: 20.67769827110073 and parameters: {'park_weight': 0.467185880740439, 'school_weight': 0.04903550622358165, 'supermarket_weight': 0.40573170098696604, 'landmark_weight': 0.21321589110419836}. Best is trial 25 with value: 18.547397693078594.\n",
      "[I 2024-12-01 17:37:22,810] Trial 46 finished with value: 15.534336196875927 and parameters: {'park_weight': 0.24317894681127533, 'school_weight': 0.08383980819235211, 'supermarket_weight': 0.38762371158593095, 'landmark_weight': 0.3040301740530841}. Best is trial 46 with value: 15.534336196875927.\n",
      "[I 2024-12-01 17:37:45,446] Trial 47 finished with value: 23.287769737625144 and parameters: {'park_weight': 0.4510272020489605, 'school_weight': 0.09023978105973056, 'supermarket_weight': 0.4082595330977988, 'landmark_weight': 0.20225250337930473}. Best is trial 46 with value: 15.534336196875927.\n",
      "[I 2024-12-01 17:38:08,240] Trial 48 finished with value: 58.727491421637 and parameters: {'park_weight': 0.3407507343302199, 'school_weight': 0.3752667465094011, 'supermarket_weight': 0.5127524441997617, 'landmark_weight': 0.31911292177462997}. Best is trial 46 with value: 15.534336196875927.\n",
      "[I 2024-12-01 17:38:30,928] Trial 49 finished with value: 20.0666859209529 and parameters: {'park_weight': 0.2519947305994976, 'school_weight': 0.05577162018178022, 'supermarket_weight': 0.288684936266846, 'landmark_weight': 0.45240607175524095}. Best is trial 46 with value: 15.534336196875927.\n",
      "[I 2024-12-01 17:38:53,692] Trial 50 finished with value: 39.3021183846577 and parameters: {'park_weight': 0.2610772426041025, 'school_weight': 0.21585912589547698, 'supermarket_weight': 0.28358515830270004, 'landmark_weight': 0.48743352450702593}. Best is trial 46 with value: 15.534336196875927.\n",
      "[I 2024-12-01 17:39:16,399] Trial 51 finished with value: 13.134503655457115 and parameters: {'park_weight': 0.14432321031378045, 'school_weight': 0.044594918331403235, 'supermarket_weight': 0.3939315164719465, 'landmark_weight': 0.44045879492106804}. Best is trial 51 with value: 13.134503655457115.\n",
      "[I 2024-12-01 17:39:39,079] Trial 52 finished with value: 7.138757357058159 and parameters: {'park_weight': 0.11677104205051675, 'school_weight': 0.0401871294031589, 'supermarket_weight': 0.3555279769995604, 'landmark_weight': 0.3775873107294804}. Best is trial 52 with value: 7.138757357058159.\n",
      "[I 2024-12-01 17:40:01,800] Trial 53 finished with value: 21.14549310198211 and parameters: {'park_weight': 0.1179313445118001, 'school_weight': 0.14812028626672946, 'supermarket_weight': 0.35261319921405176, 'landmark_weight': 0.45114185657340733}. Best is trial 52 with value: 7.138757357058159.\n",
      "[I 2024-12-01 17:40:24,522] Trial 54 finished with value: 6.145324992926311 and parameters: {'park_weight': 0.0666895183580736, 'school_weight': 0.008553532106983786, 'supermarket_weight': 0.3015721635745168, 'landmark_weight': 0.38245346255095836}. Best is trial 54 with value: 6.145324992926311.\n",
      "[I 2024-12-01 17:40:47,351] Trial 55 finished with value: 4.889755695216653 and parameters: {'park_weight': 0.05883522641192948, 'school_weight': 0.0035937518624665583, 'supermarket_weight': 0.36686836356018404, 'landmark_weight': 0.37724374787548987}. Best is trial 55 with value: 4.889755695216653.\n",
      "[I 2024-12-01 17:41:10,126] Trial 56 finished with value: 13.130864116429834 and parameters: {'park_weight': 0.06882446928781294, 'school_weight': 0.0970640685447087, 'supermarket_weight': 0.24512593364467639, 'landmark_weight': 0.39188238285632343}. Best is trial 55 with value: 4.889755695216653.\n",
      "[I 2024-12-01 17:41:32,816] Trial 57 finished with value: 17.145931966906613 and parameters: {'park_weight': 0.0801128314256506, 'school_weight': 0.109660306507553, 'supermarket_weight': 0.17846879790609016, 'landmark_weight': 0.37997163633377595}. Best is trial 55 with value: 4.889755695216653.\n",
      "[I 2024-12-01 17:41:55,601] Trial 58 finished with value: 21.00808531319484 and parameters: {'park_weight': 0.16951404616130794, 'school_weight': 0.15314318440449293, 'supermarket_weight': 0.10577031726350317, 'landmark_weight': 0.37669451302149987}. Best is trial 55 with value: 4.889755695216653.\n",
      "[I 2024-12-01 17:42:18,319] Trial 59 finished with value: 9.887536447447342 and parameters: {'park_weight': 0.03903858999420165, 'school_weight': 0.07573020651414485, 'supermarket_weight': 0.2580883204863018, 'landmark_weight': 0.5274351510501075}. Best is trial 55 with value: 4.889755695216653.\n",
      "[I 2024-12-01 17:42:41,071] Trial 60 finished with value: 54.74432931167705 and parameters: {'park_weight': 0.034795401565572405, 'school_weight': 0.4999638326616085, 'supermarket_weight': 0.25358635950336644, 'landmark_weight': 0.5411622538548465}. Best is trial 55 with value: 4.889755695216653.\n",
      "[I 2024-12-01 17:43:03,692] Trial 61 finished with value: 22.34168521964865 and parameters: {'park_weight': 0.07935388265180576, 'school_weight': 0.07943413328528137, 'supermarket_weight': 0.3186573863796424, 'landmark_weight': 0.5958054223586524}. Best is trial 55 with value: 4.889755695216653.\n",
      "[I 2024-12-01 17:43:26,436] Trial 62 finished with value: 11.469453880538547 and parameters: {'park_weight': 0.15089292656718956, 'school_weight': 0.03407504351566558, 'supermarket_weight': 0.23032817480573714, 'landmark_weight': 0.4260108185131444}. Best is trial 55 with value: 4.889755695216653.\n",
      "[I 2024-12-01 17:43:49,150] Trial 63 finished with value: 14.093013184283103 and parameters: {'park_weight': 0.14880879274920966, 'school_weight': 0.03457529888054812, 'supermarket_weight': 0.23583536551945905, 'landmark_weight': 0.5073603893213576}. Best is trial 55 with value: 4.889755695216653.\n",
      "[I 2024-12-01 17:44:11,801] Trial 64 finished with value: 18.351292787806276 and parameters: {'park_weight': 0.007991832776157948, 'school_weight': 0.1317080735777915, 'supermarket_weight': 0.03236544682032841, 'landmark_weight': 0.4361727921511289}. Best is trial 55 with value: 4.889755695216653.\n",
      "[I 2024-12-01 17:44:34,368] Trial 65 finished with value: 23.7393294081298 and parameters: {'park_weight': 0.11281779016761506, 'school_weight': 0.02548098772822051, 'supermarket_weight': 0.1284498168171243, 'landmark_weight': 0.6790915651020693}. Best is trial 55 with value: 4.889755695216653.\n",
      "[I 2024-12-01 17:44:57,035] Trial 66 finished with value: 70.21547348372827 and parameters: {'park_weight': 0.04966822072316688, 'school_weight': 0.6647603909519453, 'supermarket_weight': 0.19299815783084476, 'landmark_weight': 0.5187740588780325}. Best is trial 55 with value: 4.889755695216653.\n",
      "[I 2024-12-01 17:45:19,649] Trial 67 finished with value: 27.20343009627188 and parameters: {'park_weight': 0.08330355453784057, 'school_weight': 0.12014074915174822, 'supermarket_weight': 0.35270892135543125, 'landmark_weight': 0.5879000724823775}. Best is trial 55 with value: 4.889755695216653.\n",
      "[I 2024-12-01 17:45:42,334] Trial 68 finished with value: 19.381980557947923 and parameters: {'park_weight': 0.14493481295677346, 'school_weight': 0.06735981823078366, 'supermarket_weight': 0.07225111839798182, 'landmark_weight': 0.35305091715054804}. Best is trial 55 with value: 4.889755695216653.\n",
      "[I 2024-12-01 17:46:05,258] Trial 69 finished with value: 18.952170020355023 and parameters: {'park_weight': 0.03720616296843829, 'school_weight': 0.17729707808178202, 'supermarket_weight': 0.261201544130628, 'landmark_weight': 0.46313964692000686}. Best is trial 55 with value: 4.889755695216653.\n",
      "[I 2024-12-01 17:46:27,915] Trial 70 finished with value: 33.34999444584863 and parameters: {'park_weight': 0.20431444132108914, 'school_weight': 0.26398375745525043, 'supermarket_weight': 0.16228028872196154, 'landmark_weight': 0.3952936652805147}. Best is trial 55 with value: 4.889755695216653.\n",
      "[I 2024-12-01 17:46:50,562] Trial 71 finished with value: 14.769683902245529 and parameters: {'park_weight': 0.15149350067206419, 'school_weight': 0.03266108576071744, 'supermarket_weight': 0.23149624248238562, 'landmark_weight': 0.4968303373329054}. Best is trial 55 with value: 4.889755695216653.\n",
      "[I 2024-12-01 17:47:13,231] Trial 72 finished with value: 8.698406732766085 and parameters: {'park_weight': 0.11308758237830073, 'school_weight': 0.02705289261824533, 'supermarket_weight': 0.22935011847869574, 'landmark_weight': 0.4319524642694007}. Best is trial 55 with value: 4.889755695216653.\n",
      "[I 2024-12-01 17:47:35,932] Trial 73 finished with value: 6.36103149038407 and parameters: {'park_weight': 0.109463791997209, 'school_weight': 0.02199832105097388, 'supermarket_weight': 0.30818007951010395, 'landmark_weight': 0.4174571808600115}. Best is trial 55 with value: 4.889755695216653.\n",
      "[I 2024-12-01 17:47:58,622] Trial 74 finished with value: 12.064867022126823 and parameters: {'park_weight': 0.1037629226466478, 'school_weight': 0.10023560651522882, 'supermarket_weight': 0.28774868881619586, 'landmark_weight': 0.40625914667133317}. Best is trial 55 with value: 4.889755695216653.\n",
      "[I 2024-12-01 17:48:21,323] Trial 75 finished with value: 9.394907933098557 and parameters: {'park_weight': 0.10451729113175844, 'school_weight': 0.005275867568386446, 'supermarket_weight': 0.3006998123948174, 'landmark_weight': 0.33854815996653104}. Best is trial 55 with value: 4.889755695216653.\n",
      "[I 2024-12-01 17:48:43,985] Trial 76 finished with value: 11.555778079824293 and parameters: {'park_weight': 0.02848082451385256, 'school_weight': 0.018224914620112803, 'supermarket_weight': 0.329614333076842, 'landmark_weight': 0.33646384971942384}. Best is trial 55 with value: 4.889755695216653.\n",
      "[I 2024-12-01 17:49:06,648] Trial 77 finished with value: 28.412431146924963 and parameters: {'park_weight': 0.0006600904586115397, 'school_weight': 0.0011016529276028086, 'supermarket_weight': 0.21161402006353813, 'landmark_weight': 0.24919161593319933}. Best is trial 55 with value: 4.889755695216653.\n",
      "[I 2024-12-01 17:49:29,366] Trial 78 finished with value: 13.79131452637939 and parameters: {'park_weight': 0.22646541444697382, 'school_weight': 0.06576020873614624, 'supermarket_weight': 0.3021056976652433, 'landmark_weight': 0.3668493784823068}. Best is trial 55 with value: 4.889755695216653.\n",
      "[I 2024-12-01 17:49:52,065] Trial 79 finished with value: 117.10375082157339 and parameters: {'park_weight': 0.18203372389927241, 'school_weight': 0.9994838787387725, 'supermarket_weight': 0.364252585438639, 'landmark_weight': 0.42404089264455447}. Best is trial 55 with value: 4.889755695216653.\n",
      "[I 2024-12-01 17:50:14,696] Trial 80 finished with value: 67.10101811422399 and parameters: {'park_weight': 0.3011883084819854, 'school_weight': 0.022082680273954748, 'supermarket_weight': 0.2676809598209319, 'landmark_weight': 0.9478732897148497}. Best is trial 55 with value: 4.889755695216653.\n",
      "[I 2024-12-01 17:50:37,479] Trial 81 finished with value: 10.84499556551437 and parameters: {'park_weight': 0.030232680710739583, 'school_weight': 0.026536921887497296, 'supermarket_weight': 0.33333595800403504, 'landmark_weight': 0.3342727857395205}. Best is trial 55 with value: 4.889755695216653.\n",
      "[I 2024-12-01 17:51:00,397] Trial 82 finished with value: 16.195103611679677 and parameters: {'park_weight': 0.09805612507968953, 'school_weight': 0.06672863340154891, 'supermarket_weight': 0.30504260521930526, 'landmark_weight': 0.29439601646918256}. Best is trial 55 with value: 4.889755695216653.\n",
      "[I 2024-12-01 17:51:23,098] Trial 83 finished with value: 8.697892436046345 and parameters: {'park_weight': 0.05200697897233798, 'school_weight': 0.025693082790494204, 'supermarket_weight': 0.3508306280448395, 'landmark_weight': 0.34193344710960366}. Best is trial 55 with value: 4.889755695216653.\n",
      "[I 2024-12-01 17:51:45,778] Trial 84 finished with value: 11.154508953325685 and parameters: {'park_weight': 0.06203580403905584, 'school_weight': 0.00011264667454434843, 'supermarket_weight': 0.3442163070044813, 'landmark_weight': 0.32328826512895575}. Best is trial 55 with value: 4.889755695216653.\n",
      "[I 2024-12-01 17:52:08,526] Trial 85 finished with value: 19.38698748671339 and parameters: {'park_weight': 0.12002313034133037, 'school_weight': 0.12265596354007667, 'supermarket_weight': 0.37575227183916804, 'landmark_weight': 0.2764379081918459}. Best is trial 55 with value: 4.889755695216653.\n",
      "[I 2024-12-01 17:52:31,296] Trial 86 finished with value: 10.780559947392772 and parameters: {'park_weight': 0.029655848173074595, 'school_weight': 0.07416701342646403, 'supermarket_weight': 0.4188817510158137, 'landmark_weight': 0.4754184266818565}. Best is trial 55 with value: 4.889755695216653.\n",
      "[I 2024-12-01 17:52:53,986] Trial 87 finished with value: 13.746089661866284 and parameters: {'park_weight': 0.06510586837083632, 'school_weight': 0.07711372099304757, 'supermarket_weight': 0.4067692904224365, 'landmark_weight': 0.47979954244089706}. Best is trial 55 with value: 4.889755695216653.\n",
      "[I 2024-12-01 17:53:16,703] Trial 88 finished with value: 36.54287382329457 and parameters: {'park_weight': 0.17315852418677624, 'school_weight': 0.16636688659627472, 'supermarket_weight': 0.4227547066211778, 'landmark_weight': 0.5262140161319528}. Best is trial 55 with value: 4.889755695216653.\n",
      "[I 2024-12-01 17:53:39,319] Trial 89 finished with value: 31.259055485296564 and parameters: {'park_weight': 0.0941450206633129, 'school_weight': 0.05671183149463077, 'supermarket_weight': 0.9298968546510114, 'landmark_weight': 0.36083104030978724}. Best is trial 55 with value: 4.889755695216653.\n",
      "[I 2024-12-01 17:54:02,059] Trial 90 finished with value: 11.874057275556723 and parameters: {'park_weight': 0.050068116706612, 'school_weight': 0.09846308596167626, 'supermarket_weight': 0.37371423271803406, 'landmark_weight': 0.4624061624179709}. Best is trial 55 with value: 4.889755695216653.\n",
      "[I 2024-12-01 17:54:24,718] Trial 91 finished with value: 10.883181916222867 and parameters: {'park_weight': 0.022799882179224885, 'school_weight': 0.03297272074112313, 'supermarket_weight': 0.34417444076494763, 'landmark_weight': 0.33094372690602747}. Best is trial 55 with value: 4.889755695216653.\n",
      "[I 2024-12-01 17:54:47,428] Trial 92 finished with value: 17.89983447012998 and parameters: {'park_weight': 0.11964711916181307, 'school_weight': 0.027131257088361005, 'supermarket_weight': 0.3158662978404525, 'landmark_weight': 0.5688159871142648}. Best is trial 55 with value: 4.889755695216653.\n",
      "[I 2024-12-01 17:55:10,058] Trial 93 finished with value: 12.453918131755737 and parameters: {'park_weight': 0.02945467255983232, 'school_weight': 0.015830682815311893, 'supermarket_weight': 0.2813890538213316, 'landmark_weight': 0.34996538343918715}. Best is trial 55 with value: 4.889755695216653.\n",
      "[I 2024-12-01 17:55:32,711] Trial 94 finished with value: 90.5717225515637 and parameters: {'park_weight': 0.12672268572671916, 'school_weight': 0.7861827589488892, 'supermarket_weight': 0.42840240138493163, 'landmark_weight': 0.30960448201644236}. Best is trial 55 with value: 4.889755695216653.\n",
      "[I 2024-12-01 17:55:55,439] Trial 95 finished with value: 8.850404931517732 and parameters: {'park_weight': 0.0037801275265322634, 'school_weight': 0.08288571891084225, 'supermarket_weight': 0.3330484125441177, 'landmark_weight': 0.4058990552794054}. Best is trial 55 with value: 4.889755695216653.\n",
      "[I 2024-12-01 17:56:18,288] Trial 96 finished with value: 9.756902517724956 and parameters: {'park_weight': 0.05831372072490291, 'school_weight': 0.08481493661970459, 'supermarket_weight': 0.27094895039905786, 'landmark_weight': 0.4153682717931828}. Best is trial 55 with value: 4.889755695216653.\n",
      "[I 2024-12-01 17:56:40,944] Trial 97 finished with value: 18.711245227827522 and parameters: {'park_weight': 0.08677324926404491, 'school_weight': 0.13670694352290105, 'supermarket_weight': 0.191127033661, 'landmark_weight': 0.3749261744444208}. Best is trial 55 with value: 4.889755695216653.\n",
      "[I 2024-12-01 17:57:03,835] Trial 98 finished with value: 7.333718304441732 and parameters: {'park_weight': 0.06302991468340638, 'school_weight': 0.04835962296125386, 'supermarket_weight': 0.30276259386942284, 'landmark_weight': 0.4048454516938535}. Best is trial 55 with value: 4.889755695216653.\n",
      "[I 2024-12-01 17:57:26,542] Trial 99 finished with value: 8.03018678764637 and parameters: {'park_weight': 0.06508294008105822, 'school_weight': 0.04788479377970008, 'supermarket_weight': 0.2743020727324475, 'landmark_weight': 0.4081968095677796}. Best is trial 55 with value: 4.889755695216653.\n",
      "[I 2024-12-01 17:57:26,544] A new study created in memory with name: no-name-e8156881-68d6-4d72-9e87-54ced90b6221\n"
     ]
    },
    {
     "name": "stdout",
     "output_type": "stream",
     "text": [
      "Year 2018 Best Parameters: {'park_weight': 0.05883522641192948, 'school_weight': 0.0035937518624665583, 'supermarket_weight': 0.36686836356018404, 'landmark_weight': 0.37724374787548987}\n",
      "Year 2018 Best MAPE: 4.889755695216653\n",
      "Running Optuna study for year index: 5\n"
     ]
    },
    {
     "name": "stderr",
     "output_type": "stream",
     "text": [
      "[I 2024-12-01 17:57:49,190] Trial 0 finished with value: 107.39767364976538 and parameters: {'park_weight': 0.9339867097848928, 'school_weight': 0.16284869685175485, 'supermarket_weight': 0.16717441923782872, 'landmark_weight': 0.737697379537694}. Best is trial 0 with value: 107.39767364976538.\n",
      "[I 2024-12-01 17:58:12,125] Trial 1 finished with value: 68.03181181782226 and parameters: {'park_weight': 0.0556520623482184, 'school_weight': 0.6258669608737907, 'supermarket_weight': 0.5388372784610639, 'landmark_weight': 0.4014255444210849}. Best is trial 1 with value: 68.03181181782226.\n",
      "[I 2024-12-01 17:58:34,758] Trial 2 finished with value: 67.39351570313475 and parameters: {'park_weight': 0.33860353824668, 'school_weight': 0.6873076088776391, 'supermarket_weight': 0.31175840673685973, 'landmark_weight': 0.2591350110232912}. Best is trial 2 with value: 67.39351570313475.\n",
      "[I 2024-12-01 17:58:57,382] Trial 3 finished with value: 143.68525180223597 and parameters: {'park_weight': 0.4875057346528562, 'school_weight': 0.3023647898602878, 'supermarket_weight': 0.7907277659851457, 'landmark_weight': 0.9963276871561096}. Best is trial 2 with value: 67.39351570313475.\n",
      "[I 2024-12-01 17:59:19,931] Trial 4 finished with value: 134.26441463885152 and parameters: {'park_weight': 0.5392490638732286, 'school_weight': 0.4835253231560017, 'supermarket_weight': 0.4227250958710719, 'landmark_weight': 0.9051128436515338}. Best is trial 2 with value: 67.39351570313475.\n",
      "[I 2024-12-01 17:59:42,535] Trial 5 finished with value: 56.02724372604266 and parameters: {'park_weight': 0.46179700904847376, 'school_weight': 0.3687596158670903, 'supermarket_weight': 0.7530957762098045, 'landmark_weight': 0.025525381051397678}. Best is trial 5 with value: 56.02724372604266.\n",
      "[I 2024-12-01 18:00:05,247] Trial 6 finished with value: 15.945203572265058 and parameters: {'park_weight': 0.5154670310559344, 'school_weight': 0.0953426396822763, 'supermarket_weight': 0.08876250053949442, 'landmark_weight': 0.22821513987832998}. Best is trial 6 with value: 15.945203572265058.\n",
      "[I 2024-12-01 18:00:27,860] Trial 7 finished with value: 33.4035305781636 and parameters: {'park_weight': 0.42062278747886106, 'school_weight': 0.3604347048189035, 'supermarket_weight': 0.234220270286855, 'landmark_weight': 0.17456934406320923}. Best is trial 6 with value: 15.945203572265058.\n",
      "[I 2024-12-01 18:00:50,479] Trial 8 finished with value: 104.6460635896296 and parameters: {'park_weight': 0.15735137577680236, 'school_weight': 0.5196274065047893, 'supermarket_weight': 0.47347623992696986, 'landmark_weight': 0.8505094394160997}. Best is trial 6 with value: 15.945203572265058.\n",
      "[I 2024-12-01 18:01:13,043] Trial 9 finished with value: 106.8772094181273 and parameters: {'park_weight': 0.8747209944444502, 'school_weight': 0.5791657303292278, 'supermarket_weight': 0.9220826474120745, 'landmark_weight': 0.029561018572560327}. Best is trial 6 with value: 15.945203572265058.\n",
      "[I 2024-12-01 18:01:35,570] Trial 10 finished with value: 141.6726645928139 and parameters: {'park_weight': 0.7277365270089663, 'school_weight': 0.9982505185973766, 'supermarket_weight': 0.06539356990774903, 'landmark_weight': 0.5505847107021232}. Best is trial 6 with value: 15.945203572265058.\n",
      "[I 2024-12-01 18:01:58,122] Trial 11 finished with value: 20.417722858412905 and parameters: {'park_weight': 0.6590294198967328, 'school_weight': 0.0016279270265728563, 'supermarket_weight': 0.03818967625985967, 'landmark_weight': 0.25019630051794817}. Best is trial 6 with value: 15.945203572265058.\n",
      "[I 2024-12-01 18:02:20,647] Trial 12 finished with value: 22.87307688755127 and parameters: {'park_weight': 0.671943926378393, 'school_weight': 0.02013916607975135, 'supermarket_weight': 0.020936109543946348, 'landmark_weight': 0.2920814832804814}. Best is trial 6 with value: 15.945203572265058.\n",
      "[I 2024-12-01 18:02:43,304] Trial 13 finished with value: 52.90124003769447 and parameters: {'park_weight': 0.7120193707897493, 'school_weight': 0.06909612573500998, 'supermarket_weight': 0.015760342892122914, 'landmark_weight': 0.5316319585565927}. Best is trial 6 with value: 15.945203572265058.\n",
      "[I 2024-12-01 18:03:05,833] Trial 14 finished with value: 18.14147195903889 and parameters: {'park_weight': 0.28031385316155144, 'school_weight': 0.18287225741462398, 'supermarket_weight': 0.175365667841018, 'landmark_weight': 0.1713548195256227}. Best is trial 6 with value: 15.945203572265058.\n",
      "[I 2024-12-01 18:03:28,420] Trial 15 finished with value: 19.595105856843652 and parameters: {'park_weight': 0.25737288296607036, 'school_weight': 0.2244164137041521, 'supermarket_weight': 0.2748327022289277, 'landmark_weight': 0.13782251463632245}. Best is trial 6 with value: 15.945203572265058.\n",
      "[I 2024-12-01 18:03:50,938] Trial 16 finished with value: 24.121904441243124 and parameters: {'park_weight': 0.31183314217684954, 'school_weight': 0.14599207217126084, 'supermarket_weight': 0.1582662383996523, 'landmark_weight': 0.41242652996240314}. Best is trial 6 with value: 15.945203572265058.\n",
      "[I 2024-12-01 18:04:13,842] Trial 17 finished with value: 109.88452681075596 and parameters: {'park_weight': 0.18020825233157478, 'school_weight': 0.808167222002516, 'supermarket_weight': 0.3703437878388527, 'landmark_weight': 0.6734778799107881}. Best is trial 6 with value: 15.945203572265058.\n",
      "[I 2024-12-01 18:04:36,381] Trial 18 finished with value: 66.83924838693541 and parameters: {'park_weight': 0.5480891328456838, 'school_weight': 0.2601275721095756, 'supermarket_weight': 0.5722757163010028, 'landmark_weight': 0.36447155601584447}. Best is trial 6 with value: 15.945203572265058.\n",
      "[I 2024-12-01 18:04:59,398] Trial 19 finished with value: 30.142893845247595 and parameters: {'park_weight': 0.08942555610461134, 'school_weight': 0.11290359179393974, 'supermarket_weight': 0.16002377167600226, 'landmark_weight': 0.13138660718576545}. Best is trial 6 with value: 15.945203572265058.\n",
      "[I 2024-12-01 18:05:22,228] Trial 20 finished with value: 57.55872743423672 and parameters: {'park_weight': 0.36654608561900415, 'school_weight': 0.4241419904437449, 'supermarket_weight': 0.6916237920663819, 'landmark_weight': 0.10546495850036952}. Best is trial 6 with value: 15.945203572265058.\n",
      "[I 2024-12-01 18:05:45,514] Trial 21 finished with value: 18.813720115118755 and parameters: {'park_weight': 0.26093128145733485, 'school_weight': 0.2235714972653193, 'supermarket_weight': 0.2743664793501624, 'landmark_weight': 0.1970808130367715}. Best is trial 6 with value: 15.945203572265058.\n",
      "[I 2024-12-01 18:06:08,389] Trial 22 finished with value: 18.62356811737974 and parameters: {'park_weight': 0.23509541790206095, 'school_weight': 0.20573581111919884, 'supermarket_weight': 0.12826946570535078, 'landmark_weight': 0.22082025305246766}. Best is trial 6 with value: 15.945203572265058.\n",
      "[I 2024-12-01 18:06:31,302] Trial 23 finished with value: 16.97278977647049 and parameters: {'park_weight': 0.1809141076499874, 'school_weight': 0.16731466951168864, 'supermarket_weight': 0.10597751144636508, 'landmark_weight': 0.322704952517604}. Best is trial 6 with value: 15.945203572265058.\n",
      "[I 2024-12-01 18:06:54,189] Trial 24 finished with value: 15.114021455977195 and parameters: {'park_weight': 0.11079082891775942, 'school_weight': 0.09225840626776649, 'supermarket_weight': 0.20815133243101958, 'landmark_weight': 0.3326390561801331}. Best is trial 24 with value: 15.114021455977195.\n",
      "[I 2024-12-01 18:07:17,043] Trial 25 finished with value: 19.429500494924138 and parameters: {'park_weight': 0.004590015108237838, 'school_weight': 0.07233479850158755, 'supermarket_weight': 0.10129658595570254, 'landmark_weight': 0.3563149988228421}. Best is trial 24 with value: 15.114021455977195.\n",
      "[I 2024-12-01 18:07:39,952] Trial 26 finished with value: 28.42209807021893 and parameters: {'park_weight': 0.13239858658420728, 'school_weight': 0.2898449773364471, 'supermarket_weight': 0.22347471019597173, 'landmark_weight': 0.4688115346770686}. Best is trial 24 with value: 15.114021455977195.\n",
      "[I 2024-12-01 18:08:02,777] Trial 27 finished with value: 72.42869723495365 and parameters: {'park_weight': 0.6039313374999902, 'school_weight': 0.09136458186876506, 'supermarket_weight': 0.36073838480301307, 'landmark_weight': 0.6203537915959407}. Best is trial 24 with value: 15.114021455977195.\n",
      "[I 2024-12-01 18:08:25,647] Trial 28 finished with value: 25.529775058845264 and parameters: {'park_weight': 0.005309909023420378, 'school_weight': 0.006745978462176297, 'supermarket_weight': 0.09435583250009595, 'landmark_weight': 0.30877782730867975}. Best is trial 24 with value: 15.114021455977195.\n",
      "[I 2024-12-01 18:08:48,924] Trial 29 finished with value: 93.0657861113784 and parameters: {'park_weight': 0.8247094869439804, 'school_weight': 0.38164089327574036, 'supermarket_weight': 0.21067362415292054, 'landmark_weight': 0.4844061179704966}. Best is trial 24 with value: 15.114021455977195.\n",
      "[I 2024-12-01 18:09:11,909] Trial 30 finished with value: 58.70771216386788 and parameters: {'park_weight': 0.9720840661189551, 'school_weight': 0.14476288186114813, 'supermarket_weight': 0.0005908871724076281, 'landmark_weight': 0.3342045678398279}. Best is trial 24 with value: 15.114021455977195.\n",
      "[I 2024-12-01 18:09:34,742] Trial 31 finished with value: 17.079956502130088 and parameters: {'park_weight': 0.409030542536461, 'school_weight': 0.16186486675223935, 'supermarket_weight': 0.1823702885547892, 'landmark_weight': 0.08303774418490503}. Best is trial 24 with value: 15.114021455977195.\n",
      "[I 2024-12-01 18:09:57,607] Trial 32 finished with value: 19.070341655904407 and parameters: {'park_weight': 0.4001207463254617, 'school_weight': 0.1635579792640159, 'supermarket_weight': 0.13279704761787517, 'landmark_weight': 0.0008493633895578778}. Best is trial 24 with value: 15.114021455977195.\n",
      "[I 2024-12-01 18:10:20,393] Trial 33 finished with value: 36.74706026790001 and parameters: {'park_weight': 0.20507331102413504, 'school_weight': 0.30699911043704603, 'supermarket_weight': 0.3256963815454498, 'landmark_weight': 0.42561871256495587}. Best is trial 24 with value: 15.114021455977195.\n",
      "[I 2024-12-01 18:10:43,334] Trial 34 finished with value: 31.509911138637488 and parameters: {'park_weight': 0.07596251840153234, 'school_weight': 0.07411879184214755, 'supermarket_weight': 0.2631330066404701, 'landmark_weight': 0.10519646347416531}. Best is trial 24 with value: 15.114021455977195.\n",
      "[I 2024-12-01 18:11:06,423] Trial 35 finished with value: 12.12367596366336 and parameters: {'park_weight': 0.5479906592134247, 'school_weight': 0.1265413670947553, 'supermarket_weight': 0.08450583518817067, 'landmark_weight': 0.07027624221462958}. Best is trial 35 with value: 12.12367596366336.\n",
      "[I 2024-12-01 18:11:29,533] Trial 36 finished with value: 75.06855031586463 and parameters: {'park_weight': 0.5255952568850185, 'school_weight': 0.7596853898034801, 'supermarket_weight': 0.06783281517178255, 'landmark_weight': 0.272212870881009}. Best is trial 35 with value: 12.12367596366336.\n",
      "[I 2024-12-01 18:11:52,752] Trial 37 finished with value: 17.819344698640695 and parameters: {'park_weight': 0.5903190248919465, 'school_weight': 0.054783037829427256, 'supermarket_weight': 0.09482350308859702, 'landmark_weight': 0.23251510277434065}. Best is trial 35 with value: 12.12367596366336.\n",
      "[I 2024-12-01 18:12:15,739] Trial 38 finished with value: 28.18477720840783 and parameters: {'park_weight': 0.4554261975791758, 'school_weight': 0.2421159810734094, 'supermarket_weight': 0.4171934403691018, 'landmark_weight': 0.05845417892063311}. Best is trial 35 with value: 12.12367596366336.\n",
      "[I 2024-12-01 18:12:38,671] Trial 39 finished with value: 74.00399995435166 and parameters: {'park_weight': 0.7925890202833968, 'school_weight': 0.11827280267292362, 'supermarket_weight': 0.5489463715846511, 'landmark_weight': 0.3754978933816727}. Best is trial 35 with value: 12.12367596366336.\n",
      "[I 2024-12-01 18:13:01,528] Trial 40 finished with value: 31.43498903457084 and parameters: {'park_weight': 0.33903973386141345, 'school_weight': 0.3351979154681436, 'supermarket_weight': 0.31486745046908526, 'landmark_weight': 0.15787901722306774}. Best is trial 35 with value: 12.12367596366336.\n",
      "[I 2024-12-01 18:13:24,438] Trial 41 finished with value: 18.280052837551104 and parameters: {'park_weight': 0.4730137389608988, 'school_weight': 0.1877953708305144, 'supermarket_weight': 0.20054186361722753, 'landmark_weight': 0.05718429117638246}. Best is trial 35 with value: 12.12367596366336.\n",
      "[I 2024-12-01 18:13:47,513] Trial 42 finished with value: 16.346826598096527 and parameters: {'park_weight': 0.41211360003421194, 'school_weight': 0.11947212816872935, 'supermarket_weight': 0.0646621034547783, 'landmark_weight': 0.0687850392396821}. Best is trial 35 with value: 12.12367596366336.\n",
      "[I 2024-12-01 18:14:10,938] Trial 43 finished with value: 27.89387871826343 and parameters: {'park_weight': 0.12873980112532613, 'school_weight': 0.03444113381615257, 'supermarket_weight': 0.05479583605897588, 'landmark_weight': 0.195563498750023}. Best is trial 35 with value: 12.12367596366336.\n",
      "[I 2024-12-01 18:14:33,872] Trial 44 finished with value: 70.04317715689365 and parameters: {'park_weight': 0.5831648885408134, 'school_weight': 0.11532010423136281, 'supermarket_weight': 0.9560032369069043, 'landmark_weight': 0.29165654724183177}. Best is trial 35 with value: 12.12367596366336.\n",
      "[I 2024-12-01 18:14:57,055] Trial 45 finished with value: 45.056040977532106 and parameters: {'park_weight': 0.49596234872836287, 'school_weight': 0.4545848845108278, 'supermarket_weight': 0.12451766897249364, 'landmark_weight': 0.25244059689959397}. Best is trial 35 with value: 12.12367596366336.\n",
      "[I 2024-12-01 18:15:19,980] Trial 46 finished with value: 94.05129478198252 and parameters: {'park_weight': 0.6536007686835447, 'school_weight': 0.2511199082701537, 'supermarket_weight': 0.05998485575029986, 'landmark_weight': 0.7949323443491881}. Best is trial 35 with value: 12.12367596366336.\n",
      "[I 2024-12-01 18:15:43,006] Trial 47 finished with value: 46.11716257331316 and parameters: {'park_weight': 0.3663665020906546, 'school_weight': 0.6121196274799113, 'supermarket_weight': 0.00944594391017417, 'landmark_weight': 0.04517223865235688}. Best is trial 35 with value: 12.12367596366336.\n",
      "[I 2024-12-01 18:16:06,452] Trial 48 finished with value: 106.80976632585097 and parameters: {'park_weight': 0.44029618107495594, 'school_weight': 0.9810006383881342, 'supermarket_weight': 0.07653579444899247, 'landmark_weight': 0.43854175077406626}. Best is trial 35 with value: 12.12367596366336.\n",
      "[I 2024-12-01 18:16:29,532] Trial 49 finished with value: 71.19167659203126 and parameters: {'park_weight': 0.21028880650243056, 'school_weight': 0.050423137523759314, 'supermarket_weight': 0.16068757792805377, 'landmark_weight': 0.9634917406064701}. Best is trial 35 with value: 12.12367596366336.\n",
      "[I 2024-12-01 18:16:52,778] Trial 50 finished with value: 57.23725246490702 and parameters: {'park_weight': 0.6323702932338863, 'school_weight': 0.5277011840098027, 'supermarket_weight': 0.25751841125097996, 'landmark_weight': 0.13509974815790785}. Best is trial 35 with value: 12.12367596366336.\n",
      "[I 2024-12-01 18:17:15,685] Trial 51 finished with value: 15.29849663637527 and parameters: {'park_weight': 0.5303646410193343, 'school_weight': 0.15067532843859163, 'supermarket_weight': 0.20994811162183233, 'landmark_weight': 0.08781170486393675}. Best is trial 35 with value: 12.12367596366336.\n",
      "[I 2024-12-01 18:17:38,502] Trial 52 finished with value: 28.175256212327007 and parameters: {'park_weight': 0.5303014377437945, 'school_weight': 0.11863148353359164, 'supermarket_weight': 0.6160482033628465, 'landmark_weight': 0.014799963301720953}. Best is trial 35 with value: 12.12367596366336.\n",
      "[I 2024-12-01 18:18:01,424] Trial 53 finished with value: 50.88594019001626 and parameters: {'park_weight': 0.5536797805209553, 'school_weight': 0.19421883148280217, 'supermarket_weight': 0.8519263755240616, 'landmark_weight': 0.09807089352457378}. Best is trial 35 with value: 12.12367596366336.\n",
      "[I 2024-12-01 18:18:24,534] Trial 54 finished with value: 13.518952616735215 and parameters: {'park_weight': 0.49474900659327076, 'school_weight': 0.14461645019157518, 'supermarket_weight': 0.11735891756759287, 'landmark_weight': 0.18575112920481307}. Best is trial 35 with value: 12.12367596366336.\n",
      "[I 2024-12-01 18:18:47,487] Trial 55 finished with value: 56.89379741226778 and parameters: {'park_weight': 0.7006719560673829, 'school_weight': 0.27436217394434503, 'supermarket_weight': 0.4685981738237395, 'landmark_weight': 0.19598490322323647}. Best is trial 35 with value: 12.12367596366336.\n",
      "[I 2024-12-01 18:19:10,464] Trial 56 finished with value: 18.635271685021017 and parameters: {'park_weight': 0.49350978938710643, 'school_weight': 0.00420986337971524, 'supermarket_weight': 0.0322210336775926, 'landmark_weight': 0.15297641930567482}. Best is trial 35 with value: 12.12367596366336.\n",
      "[I 2024-12-01 18:19:33,412] Trial 57 finished with value: 20.802903317940412 and parameters: {'park_weight': 0.30853373151411345, 'school_weight': 0.09547855987312077, 'supermarket_weight': 0.13667198624393923, 'landmark_weight': 0.073935100981108}. Best is trial 35 with value: 12.12367596366336.\n",
      "[I 2024-12-01 18:19:56,390] Trial 58 finished with value: 28.331124763131452 and parameters: {'park_weight': 0.7437683146646997, 'school_weight': 0.13692504240203532, 'supermarket_weight': 0.23610491973609057, 'landmark_weight': 0.11820390651959611}. Best is trial 35 with value: 12.12367596366336.\n",
      "[I 2024-12-01 18:20:19,374] Trial 59 finished with value: 32.443352856820624 and parameters: {'park_weight': 0.6213583575882962, 'school_weight': 0.22281502612841947, 'supermarket_weight': 0.18132613263938938, 'landmark_weight': 0.21192759804673011}. Best is trial 35 with value: 12.12367596366336.\n",
      "[I 2024-12-01 18:20:42,244] Trial 60 finished with value: 15.9478016903265 and parameters: {'park_weight': 0.38327461713509653, 'school_weight': 0.04165239510128613, 'supermarket_weight': 0.04146635696719243, 'landmark_weight': 0.15924136004265638}. Best is trial 35 with value: 12.12367596366336.\n",
      "[I 2024-12-01 18:21:05,614] Trial 61 finished with value: 14.636561984872515 and parameters: {'park_weight': 0.5719790421117854, 'school_weight': 0.060261710553753664, 'supermarket_weight': 0.04432676195732698, 'landmark_weight': 0.1579896503437972}. Best is trial 35 with value: 12.12367596366336.\n",
      "[I 2024-12-01 18:21:28,631] Trial 62 finished with value: 17.02695975362782 and parameters: {'park_weight': 0.5704738549428372, 'school_weight': 0.031039779303657374, 'supermarket_weight': 0.02632539708375125, 'landmark_weight': 0.17196557069449547}. Best is trial 35 with value: 12.12367596366336.\n",
      "[I 2024-12-01 18:21:51,639] Trial 63 finished with value: 16.889011261507086 and parameters: {'park_weight': 0.5107453473679321, 'school_weight': 0.07537153935285612, 'supermarket_weight': 0.11344146219399459, 'landmark_weight': 0.24894600515456017}. Best is trial 35 with value: 12.12367596366336.\n",
      "[I 2024-12-01 18:22:14,998] Trial 64 finished with value: 16.103780090412652 and parameters: {'park_weight': 0.4543279331194682, 'school_weight': 0.041283125535986065, 'supermarket_weight': 0.036068664345807605, 'landmark_weight': 0.1786709838732257}. Best is trial 35 with value: 12.12367596366336.\n",
      "[I 2024-12-01 18:22:37,893] Trial 65 finished with value: 17.955021067729554 and parameters: {'park_weight': 0.6886154155341253, 'school_weight': 0.08859651263319811, 'supermarket_weight': 0.1494666291671664, 'landmark_weight': 0.12829178002545435}. Best is trial 35 with value: 12.12367596366336.\n",
      "[I 2024-12-01 18:23:00,933] Trial 66 finished with value: 27.473561645441343 and parameters: {'park_weight': 0.5390549654153513, 'school_weight': 0.1520611054254336, 'supermarket_weight': 0.19060735449642374, 'landmark_weight': 0.27221342215974675}. Best is trial 35 with value: 12.12367596366336.\n",
      "[I 2024-12-01 18:23:23,805] Trial 67 finished with value: 20.259764741805785 and parameters: {'park_weight': 0.6296783455715683, 'school_weight': 0.19955318846308295, 'supermarket_weight': 0.09568739327102922, 'landmark_weight': 0.02747802733086019}. Best is trial 35 with value: 12.12367596366336.\n",
      "[I 2024-12-01 18:23:46,846] Trial 68 finished with value: 30.30454267542033 and parameters: {'park_weight': 0.3787596179191493, 'school_weight': 0.0038502427927512295, 'supermarket_weight': 0.0026338272140085314, 'landmark_weight': 0.5325200310617131}. Best is trial 35 with value: 12.12367596366336.\n",
      "[I 2024-12-01 18:24:09,708] Trial 69 finished with value: 18.317866122857076 and parameters: {'park_weight': 0.4892347993056174, 'school_weight': 0.06834198264747515, 'supermarket_weight': 0.23836707014477015, 'landmark_weight': 0.2368756693094884}. Best is trial 35 with value: 12.12367596366336.\n",
      "[I 2024-12-01 18:24:32,818] Trial 70 finished with value: 23.632908633757374 and parameters: {'park_weight': 0.5668567922425584, 'school_weight': 0.16705511919256302, 'supermarket_weight': 0.3497220511960001, 'landmark_weight': 0.09950043342218805}. Best is trial 35 with value: 12.12367596366336.\n",
      "[I 2024-12-01 18:24:55,601] Trial 71 finished with value: 15.618066099585993 and parameters: {'park_weight': 0.4494338366704097, 'school_weight': 0.03866808525774598, 'supermarket_weight': 0.051027069311627773, 'landmark_weight': 0.18205764140586125}. Best is trial 35 with value: 12.12367596366336.\n",
      "[I 2024-12-01 18:25:18,667] Trial 72 finished with value: 13.88852103551748 and parameters: {'park_weight': 0.43249845598060754, 'school_weight': 0.03982191415048719, 'supermarket_weight': 0.0838571631140255, 'landmark_weight': 0.1634979325381811}. Best is trial 35 with value: 12.12367596366336.\n",
      "[I 2024-12-01 18:25:41,483] Trial 73 finished with value: 13.615489869429789 and parameters: {'park_weight': 0.44341002073199304, 'school_weight': 0.09717314197791954, 'supermarket_weight': 0.08331640150083894, 'landmark_weight': 0.21781627475597293}. Best is trial 35 with value: 12.12367596366336.\n",
      "[I 2024-12-01 18:26:04,851] Trial 74 finished with value: 13.141428456569576 and parameters: {'park_weight': 0.4343784770170994, 'school_weight': 0.09524457893390975, 'supermarket_weight': 0.08497980909493758, 'landmark_weight': 0.2146451833704902}. Best is trial 35 with value: 12.12367596366336.\n",
      "[I 2024-12-01 18:26:27,840] Trial 75 finished with value: 19.55171682686219 and parameters: {'park_weight': 0.31983478654431263, 'school_weight': 0.10630556074388324, 'supermarket_weight': 0.29467679318160744, 'landmark_weight': 0.29935119226831025}. Best is trial 35 with value: 12.12367596366336.\n",
      "[I 2024-12-01 18:26:50,744] Trial 76 finished with value: 22.015712961933414 and parameters: {'park_weight': 0.43760132983547945, 'school_weight': 0.13422623136998052, 'supermarket_weight': 0.11961602678960573, 'landmark_weight': 0.33603367222478603}. Best is trial 35 with value: 12.12367596366336.\n",
      "[I 2024-12-01 18:27:14,064] Trial 77 finished with value: 20.576306892585315 and parameters: {'park_weight': 0.598346303603278, 'school_weight': 0.08512529145104883, 'supermarket_weight': 0.1587218478423948, 'landmark_weight': 0.2232857868078338}. Best is trial 35 with value: 12.12367596366336.\n",
      "[I 2024-12-01 18:27:37,735] Trial 78 finished with value: 16.23478452248953 and parameters: {'park_weight': 0.47328876106380624, 'school_weight': 0.17547508694385655, 'supermarket_weight': 0.20278548238991706, 'landmark_weight': 0.14220818148381503}. Best is trial 35 with value: 12.12367596366336.\n",
      "[I 2024-12-01 18:28:00,627] Trial 79 finished with value: 24.003427831693386 and parameters: {'park_weight': 0.3426758431558249, 'school_weight': 0.2252667741618471, 'supermarket_weight': 0.0842002164945335, 'landmark_weight': 0.37998959937968213}. Best is trial 35 with value: 12.12367596366336.\n",
      "[I 2024-12-01 18:28:23,594] Trial 80 finished with value: 50.571872944304616 and parameters: {'park_weight': 0.8883104020313815, 'school_weight': 0.14434714848082564, 'supermarket_weight': 0.09203090752377048, 'landmark_weight': 0.2740060161630946}. Best is trial 35 with value: 12.12367596366336.\n",
      "[I 2024-12-01 18:28:46,612] Trial 81 finished with value: 14.84297454135554 and parameters: {'park_weight': 0.4199073166716922, 'school_weight': 0.054153042585667194, 'supermarket_weight': 0.05211330834932914, 'landmark_weight': 0.19213591584171033}. Best is trial 35 with value: 12.12367596366336.\n",
      "[I 2024-12-01 18:29:10,193] Trial 82 finished with value: 12.539291528875141 and parameters: {'park_weight': 0.4229992296179544, 'school_weight': 0.06549675053150603, 'supermarket_weight': 0.12561339038560748, 'landmark_weight': 0.2079895015794224}. Best is trial 35 with value: 12.12367596366336.\n",
      "[I 2024-12-01 18:29:33,133] Trial 83 finished with value: 12.708548795942951 and parameters: {'park_weight': 0.4286659951381544, 'school_weight': 0.058680058182369085, 'supermarket_weight': 0.12926723273362453, 'landmark_weight': 0.21470514434575116}. Best is trial 35 with value: 12.12367596366336.\n",
      "[I 2024-12-01 18:29:56,073] Trial 84 finished with value: 11.936775783653484 and parameters: {'park_weight': 0.418645547692619, 'school_weight': 0.06337868866466478, 'supermarket_weight': 0.13480298987588907, 'landmark_weight': 0.19953890676722214}. Best is trial 84 with value: 11.936775783653484.\n",
      "[I 2024-12-01 18:30:19,100] Trial 85 finished with value: 14.547745962378846 and parameters: {'park_weight': 0.3898243808266146, 'school_weight': 0.017954573395218512, 'supermarket_weight': 0.1351937181563887, 'landmark_weight': 0.21840070514609453}. Best is trial 84 with value: 11.936775783653484.\n",
      "[I 2024-12-01 18:30:42,486] Trial 86 finished with value: 12.829805570641543 and parameters: {'park_weight': 0.3981349787415124, 'school_weight': 0.02080657721867235, 'supermarket_weight': 0.14576772054089854, 'landmark_weight': 0.21830540730813383}. Best is trial 84 with value: 11.936775783653484.\n",
      "[I 2024-12-01 18:31:05,440] Trial 87 finished with value: 40.96835146535654 and parameters: {'park_weight': 0.3554686282970202, 'school_weight': 0.0003086843695834923, 'supermarket_weight': 0.11524230525578145, 'landmark_weight': 0.603870811708502}. Best is trial 84 with value: 11.936775783653484.\n",
      "[I 2024-12-01 18:31:28,310] Trial 88 finished with value: 14.086922775472521 and parameters: {'park_weight': 0.42650490366681726, 'school_weight': 0.10098203743327651, 'supermarket_weight': 0.16617340545896425, 'landmark_weight': 0.24704417950743338}. Best is trial 84 with value: 11.936775783653484.\n",
      "[I 2024-12-01 18:31:51,627] Trial 89 finished with value: 16.059143371913784 and parameters: {'park_weight': 0.2823959003288445, 'school_weight': 0.02683818237720451, 'supermarket_weight': 0.07800854910115845, 'landmark_weight': 0.2176612942309768}. Best is trial 84 with value: 11.936775783653484.\n",
      "[I 2024-12-01 18:32:14,493] Trial 90 finished with value: 22.82697970188942 and parameters: {'park_weight': 0.4778765475513332, 'school_weight': 0.12331635250768251, 'supermarket_weight': 0.14629369576773127, 'landmark_weight': 0.31318177435582134}. Best is trial 84 with value: 11.936775783653484.\n",
      "[I 2024-12-01 18:32:37,467] Trial 91 finished with value: 14.562365566217574 and parameters: {'park_weight': 0.4362628481118609, 'school_weight': 0.08234723107545115, 'supermarket_weight': 0.1610414038783761, 'landmark_weight': 0.2515564727125629}. Best is trial 84 with value: 11.936775783653484.\n",
      "[I 2024-12-01 18:33:00,265] Trial 92 finished with value: 18.276457237456402 and parameters: {'park_weight': 0.4085960493342106, 'school_weight': 0.10037994690762633, 'supermarket_weight': 0.17998537417527838, 'landmark_weight': 0.2914687519695425}. Best is trial 84 with value: 11.936775783653484.\n",
      "[I 2024-12-01 18:33:23,340] Trial 93 finished with value: 12.6413937542307 and parameters: {'park_weight': 0.4274107050201651, 'school_weight': 0.060912196684357864, 'supermarket_weight': 0.1106878213472037, 'landmark_weight': 0.20849943165860885}. Best is trial 84 with value: 11.936775783653484.\n",
      "[I 2024-12-01 18:33:46,200] Trial 94 finished with value: 14.311205754434216 and parameters: {'park_weight': 0.5103798500767626, 'school_weight': 0.05645851037480592, 'supermarket_weight': 0.10668708225751622, 'landmark_weight': 0.1977177430373412}. Best is trial 84 with value: 11.936775783653484.\n",
      "[I 2024-12-01 18:34:09,194] Trial 95 finished with value: 12.242039293075678 and parameters: {'park_weight': 0.46378112630441093, 'school_weight': 0.022594879986603172, 'supermarket_weight': 0.13053436615961594, 'landmark_weight': 0.11567421676775591}. Best is trial 84 with value: 11.936775783653484.\n",
      "[I 2024-12-01 18:34:32,055] Trial 96 finished with value: 11.877882326734408 and parameters: {'park_weight': 0.46669574203382685, 'school_weight': 0.02248870071345073, 'supermarket_weight': 0.13424903875305438, 'landmark_weight': 0.1177970109600006}. Best is trial 96 with value: 11.877882326734408.\n",
      "[I 2024-12-01 18:34:55,104] Trial 97 finished with value: 62.08259247964336 and parameters: {'park_weight': 0.4648237343924311, 'school_weight': 0.6815725043040309, 'supermarket_weight': 0.2228686791232699, 'landmark_weight': 0.11571588284346757}. Best is trial 96 with value: 11.877882326734408.\n",
      "[I 2024-12-01 18:35:18,746] Trial 98 finished with value: 15.654366974833021 and parameters: {'park_weight': 0.36098300885094803, 'school_weight': 0.020630590279547778, 'supermarket_weight': 0.12432234112953106, 'landmark_weight': 0.13474944393329844}. Best is trial 96 with value: 11.877882326734408.\n",
      "[I 2024-12-01 18:35:42,332] Trial 99 finished with value: 10.7066005527595 and parameters: {'park_weight': 0.49883406445985656, 'school_weight': 0.07216582227967956, 'supermarket_weight': 0.13814332395907367, 'landmark_weight': 0.05172926183385128}. Best is trial 99 with value: 10.7066005527595.\n",
      "[I 2024-12-01 18:35:42,333] A new study created in memory with name: no-name-e6f062b1-cad7-4541-aaf1-08aae167832d\n"
     ]
    },
    {
     "name": "stdout",
     "output_type": "stream",
     "text": [
      "Year 2019 Best Parameters: {'park_weight': 0.49883406445985656, 'school_weight': 0.07216582227967956, 'supermarket_weight': 0.13814332395907367, 'landmark_weight': 0.05172926183385128}\n",
      "Year 2019 Best MAPE: 10.7066005527595\n",
      "Running Optuna study for year index: 6\n"
     ]
    },
    {
     "name": "stderr",
     "output_type": "stream",
     "text": [
      "[I 2024-12-01 18:36:06,434] Trial 0 finished with value: 79.87538988138115 and parameters: {'park_weight': 0.5214980503560781, 'school_weight': 0.28027173334458255, 'supermarket_weight': 0.006977579994563388, 'landmark_weight': 0.3636265471112553}. Best is trial 0 with value: 79.87538988138115.\n",
      "[I 2024-12-01 18:36:30,053] Trial 1 finished with value: 131.88123472609396 and parameters: {'park_weight': 0.030818803107387938, 'school_weight': 0.6230596719651984, 'supermarket_weight': 0.9587932188617595, 'landmark_weight': 0.1738695593119287}. Best is trial 0 with value: 79.87538988138115.\n",
      "[I 2024-12-01 18:36:53,740] Trial 2 finished with value: 163.51274612015686 and parameters: {'park_weight': 0.884054020179692, 'school_weight': 0.5279927374493014, 'supermarket_weight': 0.7505960509553425, 'landmark_weight': 0.04025414094413393}. Best is trial 0 with value: 79.87538988138115.\n",
      "[I 2024-12-01 18:37:17,339] Trial 3 finished with value: 73.54836547405512 and parameters: {'park_weight': 0.7875297671884328, 'school_weight': 0.2720134423376145, 'supermarket_weight': 0.08293285555970487, 'landmark_weight': 0.05462624694241258}. Best is trial 3 with value: 73.54836547405512.\n",
      "[I 2024-12-01 18:37:41,138] Trial 4 finished with value: 177.6645510081832 and parameters: {'park_weight': 0.5304789661695998, 'school_weight': 0.8885447451288082, 'supermarket_weight': 0.44328471542650205, 'landmark_weight': 0.19540200454591805}. Best is trial 3 with value: 73.54836547405512.\n",
      "[I 2024-12-01 18:38:04,677] Trial 5 finished with value: 226.07349480331897 and parameters: {'park_weight': 0.6342576775958096, 'school_weight': 0.48066372462135043, 'supermarket_weight': 0.937915638033629, 'landmark_weight': 0.7212710513853606}. Best is trial 3 with value: 73.54836547405512.\n",
      "[I 2024-12-01 18:38:28,567] Trial 6 finished with value: 127.61216383277466 and parameters: {'park_weight': 0.7945202049481196, 'school_weight': 0.04244337914626228, 'supermarket_weight': 0.1041201806735278, 'landmark_weight': 0.7226038352099619}. Best is trial 3 with value: 73.54836547405512.\n",
      "[I 2024-12-01 18:38:52,523] Trial 7 finished with value: 142.72716580563537 and parameters: {'park_weight': 0.2990166691493744, 'school_weight': 0.6454532375703758, 'supermarket_weight': 0.08467900953815721, 'landmark_weight': 0.6061079186782471}. Best is trial 3 with value: 73.54836547405512.\n",
      "[I 2024-12-01 18:39:15,240] Trial 8 finished with value: 88.6017056827694 and parameters: {'park_weight': 0.5713267986458209, 'school_weight': 0.269722772995026, 'supermarket_weight': 0.5432789700082109, 'landmark_weight': 0.09932458563014157}. Best is trial 3 with value: 73.54836547405512.\n",
      "[I 2024-12-01 18:39:37,861] Trial 9 finished with value: 202.50783428723565 and parameters: {'park_weight': 0.9237482992111101, 'school_weight': 0.8914969239792242, 'supermarket_weight': 0.046297690934133384, 'landmark_weight': 0.25674374040108516}. Best is trial 3 with value: 73.54836547405512.\n",
      "[I 2024-12-01 18:40:00,749] Trial 10 finished with value: 104.72501625030301 and parameters: {'park_weight': 0.25546843088363425, 'school_weight': 0.018839153989140822, 'supermarket_weight': 0.31340952868438543, 'landmark_weight': 0.9325226640092633}. Best is trial 3 with value: 73.54836547405512.\n",
      "[I 2024-12-01 18:40:23,358] Trial 11 finished with value: 120.48153491755245 and parameters: {'park_weight': 0.7635030337625509, 'school_weight': 0.28001434167209505, 'supermarket_weight': 0.2084349864624216, 'landmark_weight': 0.3723644567906595}. Best is trial 3 with value: 73.54836547405512.\n",
      "[I 2024-12-01 18:40:46,042] Trial 12 finished with value: 80.44578340095788 and parameters: {'park_weight': 0.366694399808306, 'school_weight': 0.2637351983567296, 'supermarket_weight': 0.28964774776632574, 'landmark_weight': 0.3865786271493977}. Best is trial 3 with value: 73.54836547405512.\n",
      "[I 2024-12-01 18:41:08,792] Trial 13 finished with value: 51.1310314717058 and parameters: {'park_weight': 0.6943600791952156, 'school_weight': 0.16750075371833317, 'supermarket_weight': 0.00769815312642928, 'landmark_weight': 0.004845648330259064}. Best is trial 13 with value: 51.1310314717058.\n",
      "[I 2024-12-01 18:41:31,473] Trial 14 finished with value: 69.29070514881144 and parameters: {'park_weight': 0.747921901727062, 'school_weight': 0.1019358685609496, 'supermarket_weight': 0.5025988050861023, 'landmark_weight': 0.019695587430766603}. Best is trial 13 with value: 51.1310314717058.\n",
      "[I 2024-12-01 18:41:54,230] Trial 15 finished with value: 105.28321035957515 and parameters: {'park_weight': 0.9968918629718784, 'school_weight': 0.12361385028228908, 'supermarket_weight': 0.6359505775495881, 'landmark_weight': 0.00830526597245667}. Best is trial 13 with value: 51.1310314717058.\n",
      "[I 2024-12-01 18:42:16,806] Trial 16 finished with value: 89.69776650488329 and parameters: {'park_weight': 0.671507709603392, 'school_weight': 0.133856877878881, 'supermarket_weight': 0.4232258722121657, 'landmark_weight': 0.2651977965687332}. Best is trial 13 with value: 51.1310314717058.\n",
      "[I 2024-12-01 18:42:39,353] Trial 17 finished with value: 153.9584737829563 and parameters: {'park_weight': 0.40203389821425484, 'school_weight': 0.43456051217615627, 'supermarket_weight': 0.7309211588122349, 'landmark_weight': 0.5130460106294794}. Best is trial 13 with value: 51.1310314717058.\n",
      "[I 2024-12-01 18:43:01,950] Trial 18 finished with value: 197.07335149088894 and parameters: {'park_weight': 0.6993859145306432, 'school_weight': 0.15755135652484592, 'supermarket_weight': 0.600876499815969, 'landmark_weight': 0.9816718966159499}. Best is trial 13 with value: 51.1310314717058.\n",
      "[I 2024-12-01 18:43:24,474] Trial 19 finished with value: 68.12409106527328 and parameters: {'park_weight': 0.13284764023362172, 'school_weight': 0.40780112455948214, 'supermarket_weight': 0.2791183489869363, 'landmark_weight': 0.18977858459185443}. Best is trial 13 with value: 51.1310314717058.\n",
      "[I 2024-12-01 18:43:47,201] Trial 20 finished with value: 52.85011395932988 and parameters: {'park_weight': 0.025109483620278747, 'school_weight': 0.3944134863657436, 'supermarket_weight': 0.1949025914657524, 'landmark_weight': 0.153852261260781}. Best is trial 13 with value: 51.1310314717058.\n",
      "[I 2024-12-01 18:44:09,807] Trial 21 finished with value: 52.27332608581935 and parameters: {'park_weight': 0.00648015442658376, 'school_weight': 0.39584672493742673, 'supermarket_weight': 0.2085092222665177, 'landmark_weight': 0.16453237206705257}. Best is trial 13 with value: 51.1310314717058.\n",
      "[I 2024-12-01 18:44:32,450] Trial 22 finished with value: 46.8841229738943 and parameters: {'park_weight': 0.006605420795316112, 'school_weight': 0.3532163534702308, 'supermarket_weight': 0.16844242929169229, 'landmark_weight': 0.1381655210171216}. Best is trial 22 with value: 46.8841229738943.\n",
      "[I 2024-12-01 18:44:55,129] Trial 23 finished with value: 96.8890670104626 and parameters: {'park_weight': 0.1269298972172398, 'school_weight': 0.6158358880590801, 'supermarket_weight': 0.162210249888056, 'landmark_weight': 0.28865938151816106}. Best is trial 22 with value: 46.8841229738943.\n",
      "[I 2024-12-01 18:45:17,700] Trial 24 finished with value: 125.54256434447976 and parameters: {'park_weight': 0.14944707049956182, 'school_weight': 0.7497485496960301, 'supermarket_weight': 0.36438007891348195, 'landmark_weight': 0.11915608613523324}. Best is trial 22 with value: 46.8841229738943.\n",
      "[I 2024-12-01 18:45:40,237] Trial 25 finished with value: 100.64003615718418 and parameters: {'park_weight': 0.4349307398794055, 'school_weight': 0.36438819420371993, 'supermarket_weight': 0.1691663295244471, 'landmark_weight': 0.43515415451664075}. Best is trial 22 with value: 46.8841229738943.\n",
      "[I 2024-12-01 18:46:02,925] Trial 26 finished with value: 39.82695561251596 and parameters: {'park_weight': 0.19475063987843153, 'school_weight': 0.186471508993648, 'supermarket_weight': 0.0066370261511576045, 'landmark_weight': 0.09883294204272719}. Best is trial 26 with value: 39.82695561251596.\n",
      "[I 2024-12-01 18:46:25,718] Trial 27 finished with value: 42.09802106431639 and parameters: {'park_weight': 0.19292151182062678, 'school_weight': 0.22687634938910017, 'supermarket_weight': 0.014825169382066562, 'landmark_weight': 0.09363488387704817}. Best is trial 26 with value: 39.82695561251596.\n",
      "[I 2024-12-01 18:46:48,307] Trial 28 finished with value: 59.717486754893095 and parameters: {'park_weight': 0.21921147865330384, 'school_weight': 0.3329515858152782, 'supermarket_weight': 0.12434565818839194, 'landmark_weight': 0.29424940968995367}. Best is trial 26 with value: 39.82695561251596.\n",
      "[I 2024-12-01 18:47:11,140] Trial 29 finished with value: 42.693346252151244 and parameters: {'park_weight': 0.21491636318273216, 'school_weight': 0.23280725562027849, 'supermarket_weight': 0.024266534633345636, 'landmark_weight': 0.09337756803317512}. Best is trial 26 with value: 39.82695561251596.\n",
      "[I 2024-12-01 18:47:33,834] Trial 30 finished with value: 67.66091930928992 and parameters: {'park_weight': 0.3367552727753059, 'school_weight': 0.2167583148693024, 'supermarket_weight': 0.006758677624672425, 'landmark_weight': 0.49397315194230174}. Best is trial 26 with value: 39.82695561251596.\n",
      "[I 2024-12-01 18:47:56,503] Trial 31 finished with value: 40.92176031388583 and parameters: {'park_weight': 0.18575239978002187, 'school_weight': 0.20093636999155523, 'supermarket_weight': 0.00593911222432263, 'landmark_weight': 0.08098944375337037}. Best is trial 26 with value: 39.82695561251596.\n",
      "[I 2024-12-01 18:48:19,117] Trial 32 finished with value: 40.02745675952361 and parameters: {'park_weight': 0.2096339832752891, 'school_weight': 0.1979823479983399, 'supermarket_weight': 0.00018780646527720955, 'landmark_weight': 0.10669494186015206}. Best is trial 26 with value: 39.82695561251596.\n",
      "[I 2024-12-01 18:48:41,783] Trial 33 finished with value: 23.592830557481584 and parameters: {'park_weight': 0.0949546776222484, 'school_weight': 0.06366625121689962, 'supermarket_weight': 0.08665694321891886, 'landmark_weight': 0.23043879211622376}. Best is trial 33 with value: 23.592830557481584.\n",
      "[I 2024-12-01 18:49:04,448] Trial 34 finished with value: 23.19641344440342 and parameters: {'park_weight': 0.08169257016524978, 'school_weight': 0.062267071569829455, 'supermarket_weight': 0.07563042896482876, 'landmark_weight': 0.2256520254157676}. Best is trial 34 with value: 23.19641344440342.\n",
      "[I 2024-12-01 18:49:27,175] Trial 35 finished with value: 22.719712730738785 and parameters: {'park_weight': 0.07776100190207072, 'school_weight': 0.06534426998358478, 'supermarket_weight': 0.10972982991615787, 'landmark_weight': 0.22343681358738166}. Best is trial 35 with value: 22.719712730738785.\n",
      "[I 2024-12-01 18:49:49,765] Trial 36 finished with value: 20.332148815327365 and parameters: {'park_weight': 0.07226948632340376, 'school_weight': 0.07345141102966596, 'supermarket_weight': 0.24850653194644276, 'landmark_weight': 0.21697962453436598}. Best is trial 36 with value: 20.332148815327365.\n",
      "[I 2024-12-01 18:50:12,519] Trial 37 finished with value: 20.362652052923956 and parameters: {'park_weight': 0.08276898294915978, 'school_weight': 0.06822470702767484, 'supermarket_weight': 0.2551173571110501, 'landmark_weight': 0.22754496680572509}. Best is trial 36 with value: 20.332148815327365.\n",
      "[I 2024-12-01 18:50:35,192] Trial 38 finished with value: 26.343570264141352 and parameters: {'park_weight': 0.07554402447403759, 'school_weight': 0.07350791253925293, 'supermarket_weight': 0.34557429250882293, 'landmark_weight': 0.3242185425729477}. Best is trial 36 with value: 20.332148815327365.\n",
      "[I 2024-12-01 18:50:57,847] Trial 39 finished with value: 16.54023839150256 and parameters: {'park_weight': 0.07663008398976004, 'school_weight': 0.007695076630174567, 'supermarket_weight': 0.2558234712060068, 'landmark_weight': 0.21597904864852294}. Best is trial 39 with value: 16.54023839150256.\n",
      "[I 2024-12-01 18:51:20,516] Trial 40 finished with value: 37.74293452856638 and parameters: {'park_weight': 0.2659086023575033, 'school_weight': 0.015893521632994626, 'supermarket_weight': 0.4139039891150891, 'landmark_weight': 0.3467973880063147}. Best is trial 39 with value: 16.54023839150256.\n",
      "[I 2024-12-01 18:51:43,251] Trial 41 finished with value: 17.838371112700496 and parameters: {'park_weight': 0.07279119593443063, 'school_weight': 0.0016889476501142989, 'supermarket_weight': 0.2311960604321549, 'landmark_weight': 0.22254609914657686}. Best is trial 39 with value: 16.54023839150256.\n",
      "[I 2024-12-01 18:52:05,961] Trial 42 finished with value: 18.054584678877234 and parameters: {'park_weight': 0.05283829748870141, 'school_weight': 0.0008026831157301274, 'supermarket_weight': 0.26601182601741735, 'landmark_weight': 0.21766530494121328}. Best is trial 39 with value: 16.54023839150256.\n",
      "[I 2024-12-01 18:52:28,578] Trial 43 finished with value: 17.590884073976802 and parameters: {'park_weight': 0.050967702534264095, 'school_weight': 0.018896864081172148, 'supermarket_weight': 0.263305872032284, 'landmark_weight': 0.40523047528042416}. Best is trial 39 with value: 16.54023839150256.\n",
      "[I 2024-12-01 18:52:51,163] Trial 44 finished with value: 17.24285074967891 and parameters: {'park_weight': 0.035024640445089725, 'school_weight': 0.021400123681936885, 'supermarket_weight': 0.24802826359809646, 'landmark_weight': 0.4306113518781591}. Best is trial 39 with value: 16.54023839150256.\n",
      "[I 2024-12-01 18:53:13,786] Trial 45 finished with value: 50.99505911498075 and parameters: {'park_weight': 0.14457107638374012, 'school_weight': 0.0035525732872928872, 'supermarket_weight': 0.3589894565639366, 'landmark_weight': 0.6020957807289771}. Best is trial 39 with value: 16.54023839150256.\n",
      "[I 2024-12-01 18:53:36,464] Trial 46 finished with value: 159.3718690092734 and parameters: {'park_weight': 0.04565441606852336, 'school_weight': 0.961068626331709, 'supermarket_weight': 0.3145269377077504, 'landmark_weight': 0.42619445453571403}. Best is trial 39 with value: 16.54023839150256.\n",
      "[I 2024-12-01 18:53:59,107] Trial 47 finished with value: 60.77285359623264 and parameters: {'park_weight': 0.001947127982908775, 'school_weight': 0.003233819417087999, 'supermarket_weight': 0.9215077210626732, 'landmark_weight': 0.5088501606326905}. Best is trial 39 with value: 16.54023839150256.\n",
      "[I 2024-12-01 18:54:21,841] Trial 48 finished with value: 76.15504243298135 and parameters: {'park_weight': 0.2763148376757568, 'school_weight': 0.11489999123023875, 'supermarket_weight': 0.23878647162865785, 'landmark_weight': 0.6195972146405799}. Best is trial 39 with value: 16.54023839150256.\n",
      "[I 2024-12-01 18:54:44,595] Trial 49 finished with value: 47.57612580054596 and parameters: {'park_weight': 0.11732728437503026, 'school_weight': 0.11428073937773812, 'supermarket_weight': 0.4639847529811624, 'landmark_weight': 0.39864120105421597}. Best is trial 39 with value: 16.54023839150256.\n",
      "[I 2024-12-01 18:55:07,234] Trial 50 finished with value: 70.64286374430193 and parameters: {'park_weight': 0.04399483278151939, 'school_weight': 0.027316082686727333, 'supermarket_weight': 0.3841764550092246, 'landmark_weight': 0.8072229075363837}. Best is trial 39 with value: 16.54023839150256.\n",
      "[I 2024-12-01 18:55:29,970] Trial 51 finished with value: 29.722460624934747 and parameters: {'park_weight': 0.05853807171674196, 'school_weight': 0.09724942454051688, 'supermarket_weight': 0.24478531184444266, 'landmark_weight': 0.44821342708042367}. Best is trial 39 with value: 16.54023839150256.\n",
      "[I 2024-12-01 18:55:52,653] Trial 52 finished with value: 40.3911229566988 and parameters: {'park_weight': 0.16177079590147225, 'school_weight': 0.1536295385661047, 'supermarket_weight': 0.27032491434629136, 'landmark_weight': 0.32138965807683206}. Best is trial 39 with value: 16.54023839150256.\n",
      "[I 2024-12-01 18:56:15,252] Trial 53 finished with value: 62.586474628046986 and parameters: {'park_weight': 0.5788801517260629, 'school_weight': 0.05256536042598837, 'supermarket_weight': 0.32148368264107957, 'landmark_weight': 0.27422407477453314}. Best is trial 39 with value: 16.54023839150256.\n",
      "[I 2024-12-01 18:56:38,013] Trial 54 finished with value: 19.464638776784557 and parameters: {'park_weight': 0.04345625017543509, 'school_weight': 0.024659954616349934, 'supermarket_weight': 0.22275372013460765, 'landmark_weight': 0.19420466585504848}. Best is trial 39 with value: 16.54023839150256.\n",
      "[I 2024-12-01 18:57:00,676] Trial 55 finished with value: 31.705101093749327 and parameters: {'park_weight': 0.10866435674361641, 'school_weight': 0.0025101389791591204, 'supermarket_weight': 0.1450768417121532, 'landmark_weight': 0.5611708894422609}. Best is trial 39 with value: 16.54023839150256.\n",
      "[I 2024-12-01 18:57:23,361] Trial 56 finished with value: 84.98459589396995 and parameters: {'park_weight': 0.03178359052411323, 'school_weight': 0.5328143890353342, 'supermarket_weight': 0.20872204694943203, 'landmark_weight': 0.3578744027789368}. Best is trial 39 with value: 16.54023839150256.\n",
      "[I 2024-12-01 18:57:46,088] Trial 57 finished with value: 31.846683496736546 and parameters: {'park_weight': 0.15647022998671217, 'school_weight': 0.14187820073451846, 'supermarket_weight': 0.2980289014795225, 'landmark_weight': 0.18665103874220534}. Best is trial 39 with value: 16.54023839150256.\n",
      "[I 2024-12-01 18:58:08,765] Trial 58 finished with value: 88.83398540212941 and parameters: {'park_weight': 0.8498544656386638, 'school_weight': 0.029255456790580118, 'supermarket_weight': 0.20963241607641847, 'landmark_weight': 0.32212932715032083}. Best is trial 39 with value: 16.54023839150256.\n",
      "[I 2024-12-01 18:58:31,508] Trial 59 finished with value: 29.179669480326417 and parameters: {'park_weight': 0.03010424532015924, 'school_weight': 0.11348899671060811, 'supermarket_weight': 0.48535008877505886, 'landmark_weight': 0.15808731411489962}. Best is trial 39 with value: 16.54023839150256.\n",
      "[I 2024-12-01 18:58:54,186] Trial 60 finished with value: 144.04465404349236 and parameters: {'park_weight': 0.4535358957484338, 'school_weight': 0.7490416451927381, 'supermarket_weight': 0.403342161396796, 'landmark_weight': 0.06439833985721233}. Best is trial 39 with value: 16.54023839150256.\n",
      "[I 2024-12-01 18:59:17,216] Trial 61 finished with value: 24.264906187242502 and parameters: {'park_weight': 0.10840564108140083, 'school_weight': 0.09123867203356135, 'supermarket_weight': 0.2532183039611635, 'landmark_weight': 0.25379178182174744}. Best is trial 39 with value: 16.54023839150256.\n",
      "[I 2024-12-01 18:59:41,019] Trial 62 finished with value: 20.939365767406574 and parameters: {'park_weight': 0.00019268526792062118, 'school_weight': 0.04278675079672915, 'supermarket_weight': 0.22194304100468565, 'landmark_weight': 0.20843585960562325}. Best is trial 39 with value: 16.54023839150256.\n",
      "[I 2024-12-01 19:00:04,775] Trial 63 finished with value: 36.87599638206213 and parameters: {'park_weight': 0.05612124000160885, 'school_weight': 0.039921457996641915, 'supermarket_weight': 0.18353369969999528, 'landmark_weight': 0.044274244761480896}. Best is trial 39 with value: 16.54023839150256.\n",
      "[I 2024-12-01 19:00:28,853] Trial 64 finished with value: 47.81530176171396 and parameters: {'park_weight': 0.11246544563604938, 'school_weight': 0.1663362409162734, 'supermarket_weight': 0.33761828035064123, 'landmark_weight': 0.4012856296478019}. Best is trial 39 with value: 16.54023839150256.\n",
      "[I 2024-12-01 19:00:52,686] Trial 65 finished with value: 28.103330652373053 and parameters: {'park_weight': 0.2428481979792279, 'school_weight': 0.08492192330890576, 'supermarket_weight': 0.30646163459974013, 'landmark_weight': 0.1400913002364731}. Best is trial 39 with value: 16.54023839150256.\n",
      "[I 2024-12-01 19:01:16,464] Trial 66 finished with value: 23.0674874762591 and parameters: {'park_weight': 0.17015196291754386, 'school_weight': 0.03577963717827988, 'supermarket_weight': 0.12267466972597608, 'landmark_weight': 0.1784486582100066}. Best is trial 39 with value: 16.54023839150256.\n",
      "[I 2024-12-01 19:01:40,597] Trial 67 finished with value: 17.243363661845542 and parameters: {'park_weight': 0.05900101139627813, 'school_weight': 0.0002523961028763552, 'supermarket_weight': 0.2836420262427909, 'landmark_weight': 0.2985692018621845}. Best is trial 39 with value: 16.54023839150256.\n",
      "[I 2024-12-01 19:02:04,318] Trial 68 finished with value: 54.80537559079645 and parameters: {'park_weight': 0.033480179676658395, 'school_weight': 0.30208058331077564, 'supermarket_weight': 0.1483945587658902, 'landmark_weight': 0.47095334570732716}. Best is trial 39 with value: 16.54023839150256.\n",
      "[I 2024-12-01 19:02:28,082] Trial 69 finished with value: 17.52818692008588 and parameters: {'park_weight': 0.11983588390711977, 'school_weight': 0.0013617487586516097, 'supermarket_weight': 0.2848041921070952, 'landmark_weight': 0.3039873782985488}. Best is trial 39 with value: 16.54023839150256.\n",
      "[I 2024-12-01 19:02:51,865] Trial 70 finished with value: 18.212198328783295 and parameters: {'park_weight': 0.1353719642642851, 'school_weight': 0.002552900114958751, 'supermarket_weight': 0.2724260771254906, 'landmark_weight': 0.3066319284960548}. Best is trial 39 with value: 16.54023839150256.\n",
      "[I 2024-12-01 19:03:18,396] Trial 71 finished with value: 18.381936600979117 and parameters: {'park_weight': 0.13789632949928016, 'school_weight': 0.0024058758704838144, 'supermarket_weight': 0.2930541331164618, 'landmark_weight': 0.29144058180034454}. Best is trial 39 with value: 16.54023839150256.\n",
      "[I 2024-12-01 19:03:43,320] Trial 72 finished with value: 29.27959647509408 and parameters: {'park_weight': 0.09811152844299989, 'school_weight': 0.13214726355076817, 'supermarket_weight': 0.2740373333018096, 'landmark_weight': 0.25951365700794876}. Best is trial 39 with value: 16.54023839150256.\n",
      "[I 2024-12-01 19:04:07,447] Trial 73 finished with value: 21.536514350891746 and parameters: {'park_weight': 0.13326652325819066, 'school_weight': 0.05066596256223088, 'supermarket_weight': 0.18746371446879384, 'landmark_weight': 0.3518369927943157}. Best is trial 39 with value: 16.54023839150256.\n",
      "[I 2024-12-01 19:04:31,081] Trial 74 finished with value: 47.32285400673042 and parameters: {'park_weight': 0.23436407631958894, 'school_weight': 0.09633918735873645, 'supermarket_weight': 0.37509880150895947, 'landmark_weight': 0.3817718888597048}. Best is trial 39 with value: 16.54023839150256.\n",
      "[I 2024-12-01 19:04:54,863] Trial 75 finished with value: 33.79645844888367 and parameters: {'park_weight': 0.32575259744551294, 'school_weight': 0.002213207113458557, 'supermarket_weight': 0.34000356528217474, 'landmark_weight': 0.3162549612462885}. Best is trial 39 with value: 16.54023839150256.\n",
      "[I 2024-12-01 19:05:18,527] Trial 76 finished with value: 36.976416214424674 and parameters: {'park_weight': 0.18363628509576413, 'school_weight': 0.03924496965240207, 'supermarket_weight': 0.541121068439, 'landmark_weight': 0.25707808682026984}. Best is trial 39 with value: 16.54023839150256.\n",
      "[I 2024-12-01 19:05:42,307] Trial 77 finished with value: 38.08277605635651 and parameters: {'park_weight': 0.06026964923005483, 'school_weight': 0.08185863288553005, 'supermarket_weight': 0.4477228737656581, 'landmark_weight': 0.4164278695947657}. Best is trial 39 with value: 16.54023839150256.\n",
      "[I 2024-12-01 19:06:06,419] Trial 78 finished with value: 27.39333674506339 and parameters: {'park_weight': 0.08766685982708888, 'school_weight': 0.05068607026497198, 'supermarket_weight': 0.27526546185160455, 'landmark_weight': 0.4541146712766603}. Best is trial 39 with value: 16.54023839150256.\n",
      "[I 2024-12-01 19:06:30,309] Trial 79 finished with value: 29.79537056745786 and parameters: {'park_weight': 0.011635514926564249, 'school_weight': 0.18177928181367756, 'supermarket_weight': 0.06837680343166419, 'landmark_weight': 0.2984970511175197}. Best is trial 39 with value: 16.54023839150256.\n",
      "[I 2024-12-01 19:06:54,106] Trial 80 finished with value: 22.631570495251655 and parameters: {'park_weight': 0.1323330845768294, 'school_weight': 0.025260241658872515, 'supermarket_weight': 0.32147768645464325, 'landmark_weight': 0.35069631731043394}. Best is trial 39 with value: 16.54023839150256.\n",
      "[I 2024-12-01 19:07:17,936] Trial 81 finished with value: 18.33294598425796 and parameters: {'park_weight': 0.1427608960393098, 'school_weight': 0.0006511302813183588, 'supermarket_weight': 0.297865675002194, 'landmark_weight': 0.28150539723744344}. Best is trial 39 with value: 16.54023839150256.\n",
      "[I 2024-12-01 19:07:41,900] Trial 82 finished with value: 21.618630662058155 and parameters: {'park_weight': 0.07694219119593983, 'school_weight': 0.07123280823544241, 'supermarket_weight': 0.286159996296494, 'landmark_weight': 0.24306276858038356}. Best is trial 39 with value: 16.54023839150256.\n",
      "[I 2024-12-01 19:08:05,653] Trial 83 finished with value: 20.018362531375608 and parameters: {'park_weight': 0.16552564352978405, 'school_weight': 0.024935347530159576, 'supermarket_weight': 0.23575297459131575, 'landmark_weight': 0.2791276603495486}. Best is trial 39 with value: 16.54023839150256.\n",
      "[I 2024-12-01 19:08:29,524] Trial 84 finished with value: 29.769998572995245 and parameters: {'park_weight': 0.10846937860836212, 'school_weight': 0.11901982863541266, 'supermarket_weight': 0.19285195359194213, 'landmark_weight': 0.3815830631151149}. Best is trial 39 with value: 16.54023839150256.\n",
      "[I 2024-12-01 19:08:53,406] Trial 85 finished with value: 18.05392325520461 and parameters: {'park_weight': 0.0280301407878895, 'school_weight': 0.004065179004824226, 'supermarket_weight': 0.26819736757610707, 'landmark_weight': 0.30615357682915784}. Best is trial 39 with value: 16.54023839150256.\n",
      "[I 2024-12-01 19:09:17,379] Trial 86 finished with value: 39.82821214242152 and parameters: {'park_weight': 0.022200841928563555, 'school_weight': 0.05762469245960668, 'supermarket_weight': 0.39237594646152835, 'landmark_weight': 0.5414408630654401}. Best is trial 39 with value: 16.54023839150256.\n",
      "[I 2024-12-01 19:09:42,969] Trial 87 finished with value: 24.266033628471348 and parameters: {'park_weight': 0.05841678280813412, 'school_weight': 0.09245397216265386, 'supermarket_weight': 0.26203091832769476, 'landmark_weight': 0.33937943290843253}. Best is trial 39 with value: 16.54023839150256.\n",
      "[I 2024-12-01 19:10:08,375] Trial 88 finished with value: 27.19085364888117 and parameters: {'park_weight': 0.08711407590368163, 'school_weight': 0.14228785632044022, 'supermarket_weight': 0.1654403419468896, 'landmark_weight': 0.30703255881123653}. Best is trial 39 with value: 16.54023839150256.\n",
      "[I 2024-12-01 19:10:33,114] Trial 89 finished with value: 26.686368182836485 and parameters: {'park_weight': 0.024882378546678734, 'school_weight': 0.019538944287088942, 'supermarket_weight': 0.3640813075517797, 'landmark_weight': 0.49067022064741905}. Best is trial 39 with value: 16.54023839150256.\n",
      "[I 2024-12-01 19:11:00,983] Trial 90 finished with value: 80.43550142247008 and parameters: {'park_weight': 0.05823984128981896, 'school_weight': 0.5390897697061303, 'supermarket_weight': 0.22321947797489314, 'landmark_weight': 0.20556650365917373}. Best is trial 39 with value: 16.54023839150256.\n",
      "[I 2024-12-01 19:11:28,367] Trial 91 finished with value: 16.83279100144724 and parameters: {'park_weight': 0.12064659139158836, 'school_weight': 3.0979615057543514e-05, 'supermarket_weight': 0.32827357279358027, 'landmark_weight': 0.241183163752044}. Best is trial 39 with value: 16.54023839150256.\n",
      "[I 2024-12-01 19:11:56,955] Trial 92 finished with value: 25.70287135842732 and parameters: {'park_weight': 0.20162976643915295, 'school_weight': 0.05154037553150878, 'supermarket_weight': 0.3262847247530085, 'landmark_weight': 0.23999503216973245}. Best is trial 39 with value: 16.54023839150256.\n",
      "[I 2024-12-01 19:12:27,467] Trial 93 finished with value: 18.337713497333286 and parameters: {'park_weight': 0.11662704034439726, 'school_weight': 0.022080873051581594, 'supermarket_weight': 0.2589584336405271, 'landmark_weight': 0.1363230920706987}. Best is trial 39 with value: 16.54023839150256.\n",
      "[I 2024-12-01 19:12:54,841] Trial 94 finished with value: 22.858988646219675 and parameters: {'park_weight': 0.09330133619983143, 'school_weight': 0.08247727635338563, 'supermarket_weight': 0.2336029476585702, 'landmark_weight': 0.17564673551418739}. Best is trial 39 with value: 16.54023839150256.\n",
      "[I 2024-12-01 19:13:21,452] Trial 95 finished with value: 35.28759111166661 and parameters: {'park_weight': 0.048429240768458205, 'school_weight': 0.000508786935390924, 'supermarket_weight': 0.6995667691587562, 'landmark_weight': 0.3359704088405923}. Best is trial 39 with value: 16.54023839150256.\n",
      "[I 2024-12-01 19:13:50,041] Trial 96 finished with value: 87.63941858218263 and parameters: {'park_weight': 0.030995666801068383, 'school_weight': 0.47394847000659657, 'supermarket_weight': 0.34527021949695136, 'landmark_weight': 0.4086156009664125}. Best is trial 39 with value: 16.54023839150256.\n",
      "[I 2024-12-01 19:14:18,359] Trial 97 finished with value: 56.9713909396295 and parameters: {'park_weight': 0.00017928065354633205, 'school_weight': 0.06620589218195923, 'supermarket_weight': 0.9924452072494693, 'landmark_weight': 0.2738274505188855}. Best is trial 39 with value: 16.54023839150256.\n",
      "[I 2024-12-01 19:14:44,873] Trial 98 finished with value: 104.48734311640814 and parameters: {'park_weight': 0.9878410312475285, 'school_weight': 0.03271800639423834, 'supermarket_weight': 0.42398005450999005, 'landmark_weight': 0.2164512767254601}. Best is trial 39 with value: 16.54023839150256.\n",
      "[I 2024-12-01 19:15:10,957] Trial 99 finished with value: 25.026182615697707 and parameters: {'park_weight': 0.06868839848819498, 'school_weight': 0.10383303518490981, 'supermarket_weight': 0.20131195281453537, 'landmark_weight': 0.36893520037293237}. Best is trial 39 with value: 16.54023839150256.\n",
      "[I 2024-12-01 19:15:10,959] A new study created in memory with name: no-name-38731af7-e884-47f1-b2b8-f8d28ad994e1\n"
     ]
    },
    {
     "name": "stdout",
     "output_type": "stream",
     "text": [
      "Year 2020 Best Parameters: {'park_weight': 0.07663008398976004, 'school_weight': 0.007695076630174567, 'supermarket_weight': 0.2558234712060068, 'landmark_weight': 0.21597904864852294}\n",
      "Year 2020 Best MAPE: 16.54023839150256\n",
      "Running Optuna study for year index: 7\n"
     ]
    },
    {
     "name": "stderr",
     "output_type": "stream",
     "text": [
      "[I 2024-12-01 19:15:37,935] Trial 0 finished with value: 151.85836065356915 and parameters: {'park_weight': 0.9823585714569204, 'school_weight': 0.9848585087227647, 'supermarket_weight': 0.14917526282886606, 'landmark_weight': 0.10362903198945417}. Best is trial 0 with value: 151.85836065356915.\n",
      "[I 2024-12-01 19:16:04,145] Trial 1 finished with value: 156.92071055363363 and parameters: {'park_weight': 0.8020034411129285, 'school_weight': 0.355563033039085, 'supermarket_weight': 0.44622885556682934, 'landmark_weight': 0.9859202428216987}. Best is trial 0 with value: 151.85836065356915.\n",
      "[I 2024-12-01 19:16:34,221] Trial 2 finished with value: 161.84023913830774 and parameters: {'park_weight': 0.4972287411216897, 'school_weight': 0.9784055778187172, 'supermarket_weight': 0.8683009411201665, 'landmark_weight': 0.37293005988672046}. Best is trial 0 with value: 151.85836065356915.\n",
      "[I 2024-12-01 19:17:01,099] Trial 3 finished with value: 106.01664944027615 and parameters: {'park_weight': 0.6093091124278053, 'school_weight': 0.6431948707495344, 'supermarket_weight': 0.8484372159277076, 'landmark_weight': 0.053993795190591665}. Best is trial 3 with value: 106.01664944027615.\n",
      "[I 2024-12-01 19:17:27,677] Trial 4 finished with value: 36.80914285777336 and parameters: {'park_weight': 0.07534404278231355, 'school_weight': 0.15048062036942722, 'supermarket_weight': 0.24323452413958646, 'landmark_weight': 0.08961617536082978}. Best is trial 4 with value: 36.80914285777336.\n",
      "[I 2024-12-01 19:17:55,496] Trial 5 finished with value: 78.74511316020406 and parameters: {'park_weight': 0.007973803979067662, 'school_weight': 0.3692426116484375, 'supermarket_weight': 0.8040333585056649, 'landmark_weight': 0.7206568517519801}. Best is trial 4 with value: 36.80914285777336.\n",
      "[I 2024-12-01 19:18:22,686] Trial 6 finished with value: 148.0901909063574 and parameters: {'park_weight': 0.3091129527912305, 'school_weight': 0.9163658737104284, 'supermarket_weight': 0.09129397111526916, 'landmark_weight': 0.8488824035515242}. Best is trial 4 with value: 36.80914285777336.\n",
      "[I 2024-12-01 19:18:49,411] Trial 7 finished with value: 32.68729339536155 and parameters: {'park_weight': 0.039351577072975985, 'school_weight': 0.16676638659282716, 'supermarket_weight': 0.8079293086479766, 'landmark_weight': 0.1302048542851041}. Best is trial 7 with value: 32.68729339536155.\n",
      "[I 2024-12-01 19:19:15,378] Trial 8 finished with value: 81.03538777025092 and parameters: {'park_weight': 0.34180090470962743, 'school_weight': 0.5079597566693208, 'supermarket_weight': 0.8989612119178245, 'landmark_weight': 0.09444523604214572}. Best is trial 7 with value: 32.68729339536155.\n",
      "[I 2024-12-01 19:19:41,701] Trial 9 finished with value: 106.36726611865038 and parameters: {'park_weight': 0.2112837456025558, 'school_weight': 0.6261422779181262, 'supermarket_weight': 0.23575794554574747, 'landmark_weight': 0.7743618979650765}. Best is trial 7 with value: 32.68729339536155.\n",
      "[I 2024-12-01 19:20:07,789] Trial 10 finished with value: 47.23441812443086 and parameters: {'park_weight': 0.5502076019472397, 'school_weight': 0.009268618978229837, 'supermarket_weight': 0.6220703377982866, 'landmark_weight': 0.3542711123417745}. Best is trial 7 with value: 32.68729339536155.\n",
      "[I 2024-12-01 19:20:33,856] Trial 11 finished with value: 21.578493581038142 and parameters: {'park_weight': 0.050241644881787936, 'school_weight': 0.033492964618229926, 'supermarket_weight': 0.36627236176686234, 'landmark_weight': 0.27073733485262463}. Best is trial 11 with value: 21.578493581038142.\n",
      "[I 2024-12-01 19:21:01,497] Trial 12 finished with value: 17.951529508786003 and parameters: {'park_weight': 0.17046748202009998, 'school_weight': 0.022558598705440264, 'supermarket_weight': 0.5007182499535269, 'landmark_weight': 0.3099982306102784}. Best is trial 12 with value: 17.951529508786003.\n",
      "[I 2024-12-01 19:21:28,092] Trial 13 finished with value: 17.749368242669853 and parameters: {'park_weight': 0.1833825721670903, 'school_weight': 0.0035875608535498316, 'supermarket_weight': 0.42449619557198814, 'landmark_weight': 0.30694911637563965}. Best is trial 13 with value: 17.749368242669853.\n",
      "[I 2024-12-01 19:21:55,968] Trial 14 finished with value: 53.69808130344215 and parameters: {'park_weight': 0.2263392598156716, 'school_weight': 0.1910180019088239, 'supermarket_weight': 0.6130026594025779, 'landmark_weight': 0.5484751797584132}. Best is trial 13 with value: 17.749368242669853.\n",
      "[I 2024-12-01 19:22:21,764] Trial 15 finished with value: 78.63068707427122 and parameters: {'park_weight': 0.40981653460387557, 'school_weight': 0.30926138213696397, 'supermarket_weight': 0.594546171999447, 'landmark_weight': 0.5240548691316868}. Best is trial 13 with value: 17.749368242669853.\n",
      "[I 2024-12-01 19:22:48,439] Trial 16 finished with value: 25.52238535069416 and parameters: {'park_weight': 0.19109839265027917, 'school_weight': 0.07721743044859083, 'supermarket_weight': 0.3887442521345891, 'landmark_weight': 0.2376395707001934}. Best is trial 13 with value: 17.749368242669853.\n",
      "[I 2024-12-01 19:23:14,503] Trial 17 finished with value: 87.88476302100139 and parameters: {'park_weight': 0.6795002958738432, 'school_weight': 0.2652903843716222, 'supermarket_weight': 0.49225068355543317, 'landmark_weight': 0.4644838954287358}. Best is trial 13 with value: 17.749368242669853.\n",
      "[I 2024-12-01 19:23:40,414] Trial 18 finished with value: 65.96998695296523 and parameters: {'park_weight': 0.147174085271204, 'school_weight': 0.44226084204240707, 'supermarket_weight': 0.7161548902653474, 'landmark_weight': 0.2355494190039105}. Best is trial 13 with value: 17.749368242669853.\n",
      "[I 2024-12-01 19:24:06,646] Trial 19 finished with value: 127.50572511811258 and parameters: {'park_weight': 0.38223257071995764, 'school_weight': 0.7914454613025578, 'supermarket_weight': 0.3021329943820844, 'landmark_weight': 0.6175903223773345}. Best is trial 13 with value: 17.749368242669853.\n",
      "[I 2024-12-01 19:24:32,413] Trial 20 finished with value: 34.22783320245146 and parameters: {'park_weight': 0.2662199489357002, 'school_weight': 0.10169417373440055, 'supermarket_weight': 0.030908889615930746, 'landmark_weight': 0.3858614820025156}. Best is trial 13 with value: 17.749368242669853.\n",
      "[I 2024-12-01 19:24:59,179] Trial 21 finished with value: 20.355367510906564 and parameters: {'park_weight': 0.11853778230484513, 'school_weight': 0.020476322846321664, 'supermarket_weight': 0.36487877730430224, 'landmark_weight': 0.23877796998686515}. Best is trial 13 with value: 17.749368242669853.\n",
      "[I 2024-12-01 19:25:26,297] Trial 22 finished with value: 17.242555801828352 and parameters: {'park_weight': 0.1423793019252151, 'school_weight': 0.0032467195049331356, 'supermarket_weight': 0.5309794804757011, 'landmark_weight': 0.20381286859292252}. Best is trial 22 with value: 17.242555801828352.\n",
      "[I 2024-12-01 19:25:52,971] Trial 23 finished with value: 57.17000088795576 and parameters: {'park_weight': 0.4584614751690903, 'school_weight': 0.23321660377929215, 'supermarket_weight': 0.5446209210978109, 'landmark_weight': 0.311936606986458}. Best is trial 22 with value: 17.242555801828352.\n",
      "[I 2024-12-01 19:26:19,265] Trial 24 finished with value: 36.31965880081727 and parameters: {'park_weight': 0.12746140636131606, 'school_weight': 0.11392797504566686, 'supermarket_weight': 0.7279575219875133, 'landmark_weight': 0.0014479541401304918}. Best is trial 22 with value: 17.242555801828352.\n",
      "[I 2024-12-01 19:26:46,837] Trial 25 finished with value: 28.93936466014312 and parameters: {'park_weight': 0.29548015899374813, 'school_weight': 0.08144129961840754, 'supermarket_weight': 0.4708674157348382, 'landmark_weight': 0.16885168550757057}. Best is trial 22 with value: 17.242555801828352.\n",
      "[I 2024-12-01 19:27:12,744] Trial 26 finished with value: 54.20856746427641 and parameters: {'park_weight': 0.15454314345524994, 'school_weight': 0.21221357273308245, 'supermarket_weight': 0.9916034163945158, 'landmark_weight': 0.43204797880299123}. Best is trial 22 with value: 17.242555801828352.\n",
      "[I 2024-12-01 19:27:39,178] Trial 27 finished with value: 22.08256650916555 and parameters: {'park_weight': 0.25755700660412784, 'school_weight': 0.008595775422084864, 'supermarket_weight': 0.6839764477325949, 'landmark_weight': 0.17593479611700358}. Best is trial 22 with value: 17.242555801828352.\n",
      "[I 2024-12-01 19:28:05,636] Trial 28 finished with value: 41.75200371309016 and parameters: {'park_weight': 0.39945011839496103, 'school_weight': 0.13239078794392056, 'supermarket_weight': 0.5405635759438634, 'landmark_weight': 0.30676795456931905}. Best is trial 22 with value: 17.242555801828352.\n",
      "[I 2024-12-01 19:28:31,199] Trial 29 finished with value: 86.360797992026 and parameters: {'park_weight': 0.948966705904366, 'school_weight': 0.29991685205479834, 'supermarket_weight': 0.17616435633323857, 'landmark_weight': 0.18647847590285876}. Best is trial 22 with value: 17.242555801828352.\n",
      "[I 2024-12-01 19:28:57,581] Trial 30 finished with value: 30.385526249345027 and parameters: {'park_weight': 0.09735312570129961, 'school_weight': 0.07174345121445938, 'supermarket_weight': 0.4088720107233366, 'landmark_weight': 0.5863027223402634}. Best is trial 22 with value: 17.242555801828352.\n",
      "[I 2024-12-01 19:29:23,633] Trial 31 finished with value: 21.363395623344417 and parameters: {'park_weight': 0.162219257965661, 'school_weight': 0.005263356746518016, 'supermarket_weight': 0.2841888845851878, 'landmark_weight': 0.23930043612839907}. Best is trial 22 with value: 17.242555801828352.\n",
      "[I 2024-12-01 19:29:49,821] Trial 32 finished with value: 16.58297024617259 and parameters: {'park_weight': 0.09617736874993804, 'school_weight': 0.004821494748572925, 'supermarket_weight': 0.32380160671963515, 'landmark_weight': 0.4138167445158556}. Best is trial 32 with value: 16.58297024617259.\n",
      "[I 2024-12-01 19:30:15,780] Trial 33 finished with value: 37.44122838512135 and parameters: {'park_weight': 0.2088164300206185, 'school_weight': 0.16236817156616073, 'supermarket_weight': 0.45935923859587635, 'landmark_weight': 0.42008895420862313}. Best is trial 32 with value: 16.58297024617259.\n",
      "[I 2024-12-01 19:30:42,124] Trial 34 finished with value: 20.897180850836357 and parameters: {'park_weight': 0.009811588028672158, 'school_weight': 0.06704872557755295, 'supermarket_weight': 0.3092836200511583, 'landmark_weight': 0.33865959982032073}. Best is trial 32 with value: 16.58297024617259.\n",
      "[I 2024-12-01 19:31:08,520] Trial 35 finished with value: 31.544166108683548 and parameters: {'park_weight': 0.0941921021541549, 'school_weight': 0.13955279879716376, 'supermarket_weight': 0.5216318741082918, 'landmark_weight': 0.48182387810809885}. Best is trial 32 with value: 16.58297024617259.\n",
      "[I 2024-12-01 19:31:34,630] Trial 36 finished with value: 93.96019662274719 and parameters: {'park_weight': 0.656313162336402, 'school_weight': 0.41067421959899464, 'supermarket_weight': 0.40247664816567297, 'landmark_weight': 0.39006507400252766}. Best is trial 32 with value: 16.58297024617259.\n",
      "[I 2024-12-01 19:32:01,354] Trial 37 finished with value: 81.34842035259244 and parameters: {'park_weight': 0.31352378801342196, 'school_weight': 0.5641288974580795, 'supermarket_weight': 0.43462569423314634, 'landmark_weight': 0.29583765334580314}. Best is trial 32 with value: 16.58297024617259.\n",
      "[I 2024-12-01 19:32:27,062] Trial 38 finished with value: 47.318993152898635 and parameters: {'park_weight': 0.07468578503881662, 'school_weight': 0.2348164586605899, 'supermarket_weight': 0.13441245623710432, 'landmark_weight': 0.6767614146065797}. Best is trial 32 with value: 16.58297024617259.\n",
      "[I 2024-12-01 19:33:01,302] Trial 39 finished with value: 116.05859869545763 and parameters: {'park_weight': 0.0010391738291070651, 'school_weight': 0.7468928385824061, 'supermarket_weight': 0.21285378157428947, 'landmark_weight': 0.943014574234801}. Best is trial 32 with value: 16.58297024617259.\n",
      "[I 2024-12-01 19:33:27,865] Trial 40 finished with value: 32.55425221249127 and parameters: {'park_weight': 0.23965924228408947, 'school_weight': 0.05543334714891233, 'supermarket_weight': 0.3366859093730876, 'landmark_weight': 0.03599148926674428}. Best is trial 32 with value: 16.58297024617259.\n",
      "[I 2024-12-01 19:33:52,624] Trial 41 finished with value: 31.373984150696828 and parameters: {'park_weight': 0.11744741199790068, 'school_weight': 0.004524686364118586, 'supermarket_weight': 0.3489038424555141, 'landmark_weight': 0.1274984647605289}. Best is trial 32 with value: 16.58297024617259.\n",
      "[I 2024-12-01 19:34:16,969] Trial 42 finished with value: 30.510493604246356 and parameters: {'park_weight': 0.177845528831648, 'school_weight': 0.11781374212044286, 'supermarket_weight': 0.568506613784206, 'landmark_weight': 0.21890016103234133}. Best is trial 32 with value: 16.58297024617259.\n",
      "[I 2024-12-01 19:34:41,466] Trial 43 finished with value: 19.985966709507 and parameters: {'park_weight': 0.055735894038991596, 'school_weight': 0.052082723433318864, 'supermarket_weight': 0.658778287709612, 'landmark_weight': 0.34642632115855293}. Best is trial 32 with value: 16.58297024617259.\n",
      "[I 2024-12-01 19:35:06,356] Trial 44 finished with value: 34.09698836268124 and parameters: {'park_weight': 0.06756542474840127, 'school_weight': 0.16937414335761533, 'supermarket_weight': 0.6469894005230324, 'landmark_weight': 0.3447285436118787}. Best is trial 32 with value: 16.58297024617259.\n",
      "[I 2024-12-01 19:35:37,271] Trial 45 finished with value: 19.226179100332782 and parameters: {'park_weight': 0.06273925562300299, 'school_weight': 0.03828277215695319, 'supermarket_weight': 0.662270428852895, 'landmark_weight': 0.44034273718023714}. Best is trial 32 with value: 16.58297024617259.\n",
      "[I 2024-12-01 19:36:05,178] Trial 46 finished with value: 42.36141242879951 and parameters: {'park_weight': 0.34343597373352885, 'school_weight': 0.10036357274583382, 'supermarket_weight': 0.5008259077198991, 'landmark_weight': 0.4167832654983166}. Best is trial 32 with value: 16.58297024617259.\n",
      "[I 2024-12-01 19:36:30,888] Trial 47 finished with value: 37.26878469432186 and parameters: {'park_weight': 0.19055055509647698, 'school_weight': 0.047513772537118554, 'supermarket_weight': 0.7847004685330483, 'landmark_weight': 0.5071810303366683}. Best is trial 32 with value: 16.58297024617259.\n",
      "[I 2024-12-01 19:36:57,048] Trial 48 finished with value: 38.6112497675928 and parameters: {'park_weight': 0.044113458029579056, 'school_weight': 0.19401902176372846, 'supermarket_weight': 0.5692097489408685, 'landmark_weight': 0.5571955683246635}. Best is trial 32 with value: 16.58297024617259.\n",
      "[I 2024-12-01 19:37:23,724] Trial 49 finished with value: 74.27989101721275 and parameters: {'park_weight': 0.533158459362502, 'school_weight': 0.2717035841262264, 'supermarket_weight': 0.4377509175396458, 'landmark_weight': 0.4401721911411759}. Best is trial 32 with value: 16.58297024617259.\n",
      "[I 2024-12-01 19:37:49,375] Trial 50 finished with value: 167.9233373073736 and parameters: {'park_weight': 0.7739980864917764, 'school_weight': 0.9465327514505717, 'supermarket_weight': 0.7552365704446253, 'landmark_weight': 0.2774008696051792}. Best is trial 32 with value: 16.58297024617259.\n",
      "[I 2024-12-01 19:38:15,576] Trial 51 finished with value: 18.65198269382268 and parameters: {'park_weight': 0.05485915305813232, 'school_weight': 0.04194111735913364, 'supermarket_weight': 0.6509461153241092, 'landmark_weight': 0.3686237857529245}. Best is trial 32 with value: 16.58297024617259.\n",
      "[I 2024-12-01 19:38:43,211] Trial 52 finished with value: 14.71302173903008 and parameters: {'park_weight': 0.025999737061456293, 'school_weight': 0.0008824746921874968, 'supermarket_weight': 0.6160458715582053, 'landmark_weight': 0.47216515915306034}. Best is trial 52 with value: 14.71302173903008.\n",
      "[I 2024-12-01 19:39:12,753] Trial 53 finished with value: 29.474690089125613 and parameters: {'park_weight': 0.13410376959499834, 'school_weight': 0.10235245649161967, 'supermarket_weight': 0.6262949030278694, 'landmark_weight': 0.3840983168013097}. Best is trial 52 with value: 14.71302173903008.\n",
      "[I 2024-12-01 19:39:39,958] Trial 54 finished with value: 15.873567903431143 and parameters: {'park_weight': 0.020020237176115147, 'school_weight': 0.002040406908466817, 'supermarket_weight': 0.5791738955239748, 'landmark_weight': 0.49543595984348365}. Best is trial 52 with value: 14.71302173903008.\n",
      "[I 2024-12-01 19:40:05,568] Trial 55 finished with value: 14.587152416837062 and parameters: {'park_weight': 0.001979256187844447, 'school_weight': 0.007688737737375006, 'supermarket_weight': 0.5040193555006731, 'landmark_weight': 0.4761043718858155}. Best is trial 55 with value: 14.587152416837062.\n",
      "[I 2024-12-01 19:40:32,383] Trial 56 finished with value: 22.203998928226902 and parameters: {'park_weight': 0.004553290483036966, 'school_weight': 0.0062719888257075935, 'supermarket_weight': 0.5792313631328124, 'landmark_weight': 0.6066680023200506}. Best is trial 55 with value: 14.587152416837062.\n",
      "[I 2024-12-01 19:40:56,374] Trial 57 finished with value: 29.189581182507347 and parameters: {'park_weight': 0.022813936790054383, 'school_weight': 0.14756476774780783, 'supermarket_weight': 0.4808643279362819, 'landmark_weight': 0.4873586297061364}. Best is trial 55 with value: 14.587152416837062.\n",
      "[I 2024-12-01 19:41:21,497] Trial 58 finished with value: 38.49325108519006 and parameters: {'park_weight': 0.09904163742676697, 'school_weight': 0.08263453508202175, 'supermarket_weight': 0.5295220157771302, 'landmark_weight': 0.6469679313641339}. Best is trial 55 with value: 14.587152416837062.\n",
      "[I 2024-12-01 19:41:46,383] Trial 59 finished with value: 54.02787364279918 and parameters: {'park_weight': 0.030718458257912987, 'school_weight': 0.3392961717472803, 'supermarket_weight': 0.691507476177732, 'landmark_weight': 0.5302060831011582}. Best is trial 55 with value: 14.587152416837062.\n",
      "[I 2024-12-01 19:42:12,045] Trial 60 finished with value: 32.340351044946374 and parameters: {'park_weight': 0.09502493078652434, 'school_weight': 0.0023290181249476915, 'supermarket_weight': 0.25541436752831753, 'landmark_weight': 0.7337167977226078}. Best is trial 55 with value: 14.587152416837062.\n",
      "[I 2024-12-01 19:42:37,062] Trial 61 finished with value: 33.01591439783966 and parameters: {'park_weight': 0.16663005295906042, 'school_weight': 0.04464686138696153, 'supermarket_weight': 0.5154531901892248, 'landmark_weight': 0.5551691003443118}. Best is trial 55 with value: 14.587152416837062.\n",
      "[I 2024-12-01 19:43:02,283] Trial 62 finished with value: 37.40016985331366 and parameters: {'park_weight': 0.22352595080347887, 'school_weight': 0.08529338690322052, 'supermarket_weight': 0.5945492770538002, 'landmark_weight': 0.47816246802005996}. Best is trial 55 with value: 14.587152416837062.\n",
      "[I 2024-12-01 19:43:27,996] Trial 63 finished with value: 21.291261940267542 and parameters: {'park_weight': 0.15015814094394414, 'school_weight': 0.03323949806978521, 'supermarket_weight': 0.4175192183951765, 'landmark_weight': 0.45716302175743473}. Best is trial 55 with value: 14.587152416837062.\n",
      "[I 2024-12-01 19:43:52,949] Trial 64 finished with value: 36.110965248701405 and parameters: {'park_weight': 0.27655051440554035, 'school_weight': 0.10724247260397055, 'supermarket_weight': 0.4640757806260084, 'landmark_weight': 0.4055618998390147}. Best is trial 55 with value: 14.587152416837062.\n",
      "[I 2024-12-01 19:44:17,855] Trial 65 finished with value: 23.230453327204323 and parameters: {'park_weight': 0.10948770300503755, 'school_weight': 0.06741538994458104, 'supermarket_weight': 0.6117687295181302, 'landmark_weight': 0.3179181730335834}. Best is trial 55 with value: 14.587152416837062.\n",
      "[I 2024-12-01 19:44:42,967] Trial 66 finished with value: 26.23948670440573 and parameters: {'park_weight': 0.037312280398072745, 'school_weight': 0.13723233721430889, 'supermarket_weight': 0.547808333473417, 'landmark_weight': 0.21163966643900806}. Best is trial 55 with value: 14.587152416837062.\n",
      "[I 2024-12-01 19:45:08,735] Trial 67 finished with value: 31.624603860319475 and parameters: {'park_weight': 0.45693313501564725, 'school_weight': 0.029333692052940234, 'supermarket_weight': 0.38318835261867507, 'landmark_weight': 0.27698496998031763}. Best is trial 55 with value: 14.587152416837062.\n",
      "[I 2024-12-01 19:45:33,564] Trial 68 finished with value: 35.60017158250182 and parameters: {'park_weight': 0.1988181021481748, 'school_weight': 0.17558137552521508, 'supermarket_weight': 0.49644783341145987, 'landmark_weight': 0.12724697878242924}. Best is trial 55 with value: 14.587152416837062.\n",
      "[I 2024-12-01 19:45:57,326] Trial 69 finished with value: 98.969104781994 and parameters: {'park_weight': 0.13066626014637894, 'school_weight': 0.7799106308094261, 'supermarket_weight': 0.32072383270947663, 'landmark_weight': 0.5178373845596784}. Best is trial 55 with value: 14.587152416837062.\n",
      "[I 2024-12-01 19:46:22,713] Trial 70 finished with value: 33.05076763509658 and parameters: {'park_weight': 0.0761444207845451, 'school_weight': 0.07828326808816037, 'supermarket_weight': 0.3733590578124556, 'landmark_weight': 0.07151092225645417}. Best is trial 55 with value: 14.587152416837062.\n",
      "[I 2024-12-01 19:46:47,562] Trial 71 finished with value: 18.081858746007903 and parameters: {'park_weight': 0.036488647239323574, 'school_weight': 0.0315771544225942, 'supermarket_weight': 0.7153176369273976, 'landmark_weight': 0.3652299915116653}. Best is trial 55 with value: 14.587152416837062.\n",
      "[I 2024-12-01 19:47:12,792] Trial 72 finished with value: 18.329799502835034 and parameters: {'park_weight': 0.03473095535094706, 'school_weight': 0.0246519519163772, 'supermarket_weight': 0.8449664881502257, 'landmark_weight': 0.2588938524481691}. Best is trial 55 with value: 14.587152416837062.\n",
      "[I 2024-12-01 19:47:37,604] Trial 73 finished with value: 19.447046095504692 and parameters: {'park_weight': 0.08204476951070683, 'school_weight': 0.003451194174027621, 'supermarket_weight': 0.7397923565424176, 'landmark_weight': 0.4603292634470661}. Best is trial 55 with value: 14.587152416837062.\n",
      "[I 2024-12-01 19:48:01,516] Trial 74 finished with value: 82.97539843702111 and parameters: {'park_weight': 0.9894057134763887, 'school_weight': 0.05768287191727792, 'supermarket_weight': 0.5560863805590406, 'landmark_weight': 0.32998834224049983}. Best is trial 55 with value: 14.587152416837062.\n",
      "[I 2024-12-01 19:48:25,881] Trial 75 finished with value: 23.036093040041976 and parameters: {'park_weight': 0.0016258089434068653, 'school_weight': 0.1211053614156044, 'supermarket_weight': 0.4422238363982628, 'landmark_weight': 0.37305355081968067}. Best is trial 55 with value: 14.587152416837062.\n",
      "[I 2024-12-01 19:48:50,041] Trial 76 finished with value: 85.43111817232827 and parameters: {'park_weight': 0.13052192991186407, 'school_weight': 0.6359635760882663, 'supermarket_weight': 0.7066255591590718, 'landmark_weight': 0.2934067471409882}. Best is trial 55 with value: 14.587152416837062.\n",
      "[I 2024-12-01 19:49:14,062] Trial 77 finished with value: 86.36777419012033 and parameters: {'park_weight': 0.15633818513052755, 'school_weight': 0.5069962646338124, 'supermarket_weight': 0.6323537069671766, 'landmark_weight': 0.5814254003136041}. Best is trial 55 with value: 14.587152416837062.\n",
      "[I 2024-12-01 19:49:38,427] Trial 78 finished with value: 20.30943797492136 and parameters: {'park_weight': 0.0285435537853713, 'school_weight': 0.029935715377977665, 'supermarket_weight': 0.5839398499943954, 'landmark_weight': 0.1906655047068307}. Best is trial 55 with value: 14.587152416837062.\n",
      "[I 2024-12-01 19:50:02,392] Trial 79 finished with value: 31.556284107434482 and parameters: {'park_weight': 0.2529112765870873, 'school_weight': 0.08326825317959095, 'supermarket_weight': 0.4777297500711921, 'landmark_weight': 0.3992128563447201}. Best is trial 55 with value: 14.587152416837062.\n",
      "[I 2024-12-01 19:50:26,660] Trial 80 finished with value: 107.86200056533849 and parameters: {'park_weight': 0.08240756499391312, 'school_weight': 0.8826483593623411, 'supermarket_weight': 0.5153517369363668, 'landmark_weight': 0.16035762394787523}. Best is trial 55 with value: 14.587152416837062.\n",
      "[I 2024-12-01 19:50:51,234] Trial 81 finished with value: 19.13564181382842 and parameters: {'park_weight': 0.044634994758901925, 'school_weight': 0.02733605676521071, 'supermarket_weight': 0.861669811643941, 'landmark_weight': 0.25756060738901676}. Best is trial 55 with value: 14.587152416837062.\n",
      "[I 2024-12-01 19:51:16,382] Trial 82 finished with value: 23.350367944086763 and parameters: {'park_weight': 0.028350010540120915, 'school_weight': 0.00048685000717364063, 'supermarket_weight': 0.4167018671472466, 'landmark_weight': 0.2622380636894486}. Best is trial 55 with value: 14.587152416837062.\n",
      "[I 2024-12-01 19:51:40,696] Trial 83 finished with value: 29.76617639853281 and parameters: {'park_weight': 0.10886654469161915, 'school_weight': 0.0645776362400142, 'supermarket_weight': 0.9489579324297628, 'landmark_weight': 0.36171554248938564}. Best is trial 55 with value: 14.587152416837062.\n",
      "[I 2024-12-01 19:52:05,040] Trial 84 finished with value: 99.33226161798048 and parameters: {'park_weight': 0.06652842353454684, 'school_weight': 0.6817045437098465, 'supermarket_weight': 0.8989580917269858, 'landmark_weight': 0.4325571403156398}. Best is trial 55 with value: 14.587152416837062.\n",
      "[I 2024-12-01 19:52:29,346] Trial 85 finished with value: 25.133374601965023 and parameters: {'park_weight': 0.18323260160287394, 'school_weight': 0.026001661644256602, 'supermarket_weight': 0.8365365250271035, 'landmark_weight': 0.3261756678383825}. Best is trial 55 with value: 14.587152416837062.\n",
      "[I 2024-12-01 19:52:53,632] Trial 86 finished with value: 29.060133116264524 and parameters: {'park_weight': 0.04423018487646788, 'school_weight': 0.0984991902964507, 'supermarket_weight': 0.79272390277573, 'landmark_weight': 0.49440079883678306}. Best is trial 55 with value: 14.587152416837062.\n",
      "[I 2024-12-01 19:53:17,521] Trial 87 finished with value: 19.181136101483617 and parameters: {'park_weight': 0.0004775169143806761, 'school_weight': 0.054949015617069955, 'supermarket_weight': 0.7573454471361419, 'landmark_weight': 0.2962423526543322}. Best is trial 55 with value: 14.587152416837062.\n",
      "[I 2024-12-01 19:53:41,566] Trial 88 finished with value: 16.579744306775737 and parameters: {'park_weight': 0.11606521193915932, 'school_weight': 0.020737437489609985, 'supermarket_weight': 0.5996412982299584, 'landmark_weight': 0.2149859952030418}. Best is trial 55 with value: 14.587152416837062.\n",
      "[I 2024-12-01 19:54:05,959] Trial 89 finished with value: 32.98763575498192 and parameters: {'park_weight': 0.20882623169756598, 'school_weight': 0.12647709398166132, 'supermarket_weight': 0.5958820391601284, 'landmark_weight': 0.210685444516939}. Best is trial 55 with value: 14.587152416837062.\n",
      "[I 2024-12-01 19:54:29,886] Trial 90 finished with value: 85.52308277952163 and parameters: {'park_weight': 0.9507482762375058, 'school_weight': 0.00019022394626513634, 'supermarket_weight': 0.6858766407171053, 'landmark_weight': 0.4134265505250379}. Best is trial 55 with value: 14.587152416837062.\n",
      "[I 2024-12-01 19:54:54,091] Trial 91 finished with value: 17.940412471957217 and parameters: {'park_weight': 0.125009260186921, 'school_weight': 0.02459757794053774, 'supermarket_weight': 0.6111928305608982, 'landmark_weight': 0.1485699922409831}. Best is trial 55 with value: 14.587152416837062.\n",
      "[I 2024-12-01 19:55:17,969] Trial 92 finished with value: 23.760695772401995 and parameters: {'park_weight': 0.13676205478457698, 'school_weight': 0.055955292554409876, 'supermarket_weight': 0.5387309400758737, 'landmark_weight': 0.10144874677682908}. Best is trial 55 with value: 14.587152416837062.\n",
      "[I 2024-12-01 19:55:41,915] Trial 93 finished with value: 66.25995623232419 and parameters: {'park_weight': 0.10963337427850084, 'school_weight': 0.47386760593481797, 'supermarket_weight': 0.67121778783237, 'landmark_weight': 0.175067465762606}. Best is trial 55 with value: 14.587152416837062.\n",
      "[I 2024-12-01 19:56:06,086] Trial 94 finished with value: 16.188516923432466 and parameters: {'park_weight': 0.08502714234189744, 'school_weight': 0.025223489656828267, 'supermarket_weight': 0.6062851179315455, 'landmark_weight': 0.23106488974754186}. Best is trial 55 with value: 14.587152416837062.\n",
      "[I 2024-12-01 19:56:30,108] Trial 95 finished with value: 26.039723321109506 and parameters: {'park_weight': 0.16429418221808845, 'school_weight': 0.08880379595395706, 'supermarket_weight': 0.6067918921511595, 'landmark_weight': 0.13241402225653134}. Best is trial 55 with value: 14.587152416837062.\n",
      "[I 2024-12-01 19:56:54,096] Trial 96 finished with value: 30.929349206286446 and parameters: {'park_weight': 0.08981171606288603, 'school_weight': 0.04832942143324235, 'supermarket_weight': 0.27263400466597015, 'landmark_weight': 0.14749242581395605}. Best is trial 55 with value: 14.587152416837062.\n",
      "[I 2024-12-01 19:57:17,967] Trial 97 finished with value: 18.643637624437886 and parameters: {'park_weight': 0.1405919128148388, 'school_weight': 0.021272621737924245, 'supermarket_weight': 0.6380372888207124, 'landmark_weight': 0.2344077038114178}. Best is trial 55 with value: 14.587152416837062.\n",
      "[I 2024-12-01 19:57:41,909] Trial 98 finished with value: 47.9656725875049 and parameters: {'park_weight': 0.2210378382387597, 'school_weight': 0.1567748997721399, 'supermarket_weight': 0.5643100787710144, 'landmark_weight': 0.5355303516325806}. Best is trial 55 with value: 14.587152416837062.\n",
      "[I 2024-12-01 19:58:05,962] Trial 99 finished with value: 24.22421867759165 and parameters: {'park_weight': 0.18166900488095986, 'school_weight': 0.06972660904860806, 'supermarket_weight': 0.5013132066793736, 'landmark_weight': 0.2283964768805611}. Best is trial 55 with value: 14.587152416837062.\n",
      "[I 2024-12-01 19:58:05,963] A new study created in memory with name: no-name-ddb5b3a2-2f47-4272-a2d9-c1889849a219\n"
     ]
    },
    {
     "name": "stdout",
     "output_type": "stream",
     "text": [
      "Year 2021 Best Parameters: {'park_weight': 0.001979256187844447, 'school_weight': 0.007688737737375006, 'supermarket_weight': 0.5040193555006731, 'landmark_weight': 0.4761043718858155}\n",
      "Year 2021 Best MAPE: 14.587152416837062\n",
      "Running Optuna study for year index: 8\n"
     ]
    },
    {
     "name": "stderr",
     "output_type": "stream",
     "text": [
      "[I 2024-12-01 19:58:29,934] Trial 0 finished with value: 288.32607504499737 and parameters: {'park_weight': 0.38311572923069837, 'school_weight': 0.4195126213056528, 'supermarket_weight': 0.7288327519766629, 'landmark_weight': 0.6476194503476568}. Best is trial 0 with value: 288.32607504499737.\n",
      "[I 2024-12-01 19:58:53,858] Trial 1 finished with value: 457.8450974792524 and parameters: {'park_weight': 0.7071535374223987, 'school_weight': 0.7637039361549445, 'supermarket_weight': 0.6094646395967024, 'landmark_weight': 0.9221159935100368}. Best is trial 0 with value: 288.32607504499737.\n",
      "[I 2024-12-01 19:59:18,160] Trial 2 finished with value: 414.23496025402136 and parameters: {'park_weight': 0.8144061849144991, 'school_weight': 0.7443374997456969, 'supermarket_weight': 0.21382569324541956, 'landmark_weight': 0.8245002116246961}. Best is trial 0 with value: 288.32607504499737.\n",
      "[I 2024-12-01 19:59:42,014] Trial 3 finished with value: 258.25839586958904 and parameters: {'park_weight': 0.5203676770930388, 'school_weight': 0.14145890970440267, 'supermarket_weight': 0.14643500991035907, 'landmark_weight': 0.9611503727068831}. Best is trial 3 with value: 258.25839586958904.\n",
      "[I 2024-12-01 20:00:06,248] Trial 4 finished with value: 435.8935852733679 and parameters: {'park_weight': 0.6555285161781176, 'school_weight': 0.8512198864993598, 'supermarket_weight': 0.924255816048308, 'landmark_weight': 0.5916551150498096}. Best is trial 3 with value: 258.25839586958904.\n",
      "[I 2024-12-01 20:00:30,063] Trial 5 finished with value: 500.79950900350184 and parameters: {'park_weight': 0.800742991032296, 'school_weight': 0.9577661835395601, 'supermarket_weight': 0.9662924972897498, 'landmark_weight': 0.6613011289261719}. Best is trial 3 with value: 258.25839586958904.\n",
      "[I 2024-12-01 20:00:54,460] Trial 6 finished with value: 237.59662467049458 and parameters: {'park_weight': 0.94503353447374, 'school_weight': 0.13991748363966006, 'supermarket_weight': 0.7164250600421177, 'landmark_weight': 0.212219106528875}. Best is trial 6 with value: 237.59662467049458.\n",
      "[I 2024-12-01 20:01:18,270] Trial 7 finished with value: 179.56985941453894 and parameters: {'park_weight': 0.15166264354410763, 'school_weight': 0.26421493705060817, 'supermarket_weight': 0.3209044172061828, 'landmark_weight': 0.6631711223445643}. Best is trial 7 with value: 179.56985941453894.\n",
      "[I 2024-12-01 20:01:42,410] Trial 8 finished with value: 407.13915956845784 and parameters: {'park_weight': 0.71890589209796, 'school_weight': 0.9595835593284858, 'supermarket_weight': 0.734867324244403, 'landmark_weight': 0.3584021729035589}. Best is trial 7 with value: 179.56985941453894.\n",
      "[I 2024-12-01 20:02:06,648] Trial 9 finished with value: 459.5743899195114 and parameters: {'park_weight': 0.9369373590073232, 'school_weight': 0.5786490658918925, 'supermarket_weight': 0.9512525631760711, 'landmark_weight': 0.7651611952537948}. Best is trial 7 with value: 179.56985941453894.\n",
      "[I 2024-12-01 20:02:31,544] Trial 10 finished with value: 86.58359070812415 and parameters: {'park_weight': 0.017277002488151783, 'school_weight': 0.338615828590512, 'supermarket_weight': 0.35367254757400296, 'landmark_weight': 0.0039035398603961546}. Best is trial 10 with value: 86.58359070812415.\n",
      "[I 2024-12-01 20:02:54,592] Trial 11 finished with value: 77.1080438824959 and parameters: {'park_weight': 0.0028307652025926083, 'school_weight': 0.3126170052440802, 'supermarket_weight': 0.31728562423977075, 'landmark_weight': 0.08007713073637712}. Best is trial 11 with value: 77.1080438824959.\n",
      "[I 2024-12-01 20:03:17,653] Trial 12 finished with value: 92.09740392299219 and parameters: {'park_weight': 0.01886309219995643, 'school_weight': 0.3490677764930755, 'supermarket_weight': 0.3984990301982876, 'landmark_weight': 0.015256268355368773}. Best is trial 11 with value: 77.1080438824959.\n",
      "[I 2024-12-01 20:03:41,478] Trial 13 finished with value: 126.56905478782141 and parameters: {'park_weight': 0.2352465399507531, 'school_weight': 0.5608333063250259, 'supermarket_weight': 0.03997448529210751, 'landmark_weight': 0.005248074623198394}. Best is trial 11 with value: 77.1080438824959.\n",
      "[I 2024-12-01 20:04:05,797] Trial 14 finished with value: 41.23988074160742 and parameters: {'park_weight': 0.013286552740286835, 'school_weight': 0.050576228042507054, 'supermarket_weight': 0.46436530557342026, 'landmark_weight': 0.19509060456875404}. Best is trial 14 with value: 41.23988074160742.\n",
      "[I 2024-12-01 20:04:30,217] Trial 15 finished with value: 72.11704759868915 and parameters: {'park_weight': 0.2069150331237436, 'school_weight': 0.028799220506086298, 'supermarket_weight': 0.49930184343628614, 'landmark_weight': 0.2245264336029501}. Best is trial 14 with value: 41.23988074160742.\n",
      "[I 2024-12-01 20:04:53,413] Trial 16 finished with value: 99.75942210445298 and parameters: {'park_weight': 0.23691331419212325, 'school_weight': 0.00624848977060867, 'supermarket_weight': 0.5369649914234044, 'landmark_weight': 0.34641104693687835}. Best is trial 14 with value: 41.23988074160742.\n",
      "[I 2024-12-01 20:05:16,108] Trial 17 finished with value: 96.9351076616456 and parameters: {'park_weight': 0.3878194549163773, 'school_weight': 0.031171636113737848, 'supermarket_weight': 0.47204658665073257, 'landmark_weight': 0.20652500446646052}. Best is trial 14 with value: 41.23988074160742.\n",
      "[I 2024-12-01 20:05:39,203] Trial 18 finished with value: 140.87694374486273 and parameters: {'park_weight': 0.13388379552764273, 'school_weight': 0.17265256400801365, 'supermarket_weight': 0.5838283253431922, 'landmark_weight': 0.44717612967814657}. Best is trial 14 with value: 41.23988074160742.\n",
      "[I 2024-12-01 20:06:02,232] Trial 19 finished with value: 93.22727459551243 and parameters: {'park_weight': 0.34742537934541434, 'school_weight': 0.08169574466300503, 'supermarket_weight': 0.4553827444497651, 'landmark_weight': 0.17933218804775003}. Best is trial 14 with value: 41.23988074160742.\n",
      "[I 2024-12-01 20:06:25,157] Trial 20 finished with value: 152.20827028323154 and parameters: {'park_weight': 0.13737275793748666, 'school_weight': 0.22955429656763174, 'supermarket_weight': 0.8200742466686818, 'landmark_weight': 0.31815149576310253}. Best is trial 14 with value: 41.23988074160742.\n",
      "[I 2024-12-01 20:06:47,830] Trial 21 finished with value: 107.30494642070869 and parameters: {'park_weight': 0.007277410305502551, 'school_weight': 0.45254661337945457, 'supermarket_weight': 0.2788972662565572, 'landmark_weight': 0.1060289919805888}. Best is trial 14 with value: 41.23988074160742.\n",
      "[I 2024-12-01 20:07:10,667] Trial 22 finished with value: 87.26942870253825 and parameters: {'park_weight': 0.10022730761812587, 'school_weight': 0.26724735002825895, 'supermarket_weight': 0.4249697182368341, 'landmark_weight': 0.12362315271960311}. Best is trial 14 with value: 41.23988074160742.\n",
      "[I 2024-12-01 20:07:33,740] Trial 23 finished with value: 75.5460881637874 and parameters: {'park_weight': 0.2498312194034062, 'school_weight': 0.0807439254388241, 'supermarket_weight': 0.21601093037706326, 'landmark_weight': 0.28829260366991394}. Best is trial 14 with value: 41.23988074160742.\n",
      "[I 2024-12-01 20:07:57,115] Trial 24 finished with value: 101.92824710883289 and parameters: {'park_weight': 0.28175203646958435, 'school_weight': 0.07845189387487625, 'supermarket_weight': 0.08823370865184268, 'landmark_weight': 0.4519789996405311}. Best is trial 14 with value: 41.23988074160742.\n",
      "[I 2024-12-01 20:08:21,018] Trial 25 finished with value: 99.80372989576588 and parameters: {'park_weight': 0.48618026324716623, 'school_weight': 0.012783251813184557, 'supermarket_weight': 0.22527666570497312, 'landmark_weight': 0.27432524509274125}. Best is trial 14 with value: 41.23988074160742.\n",
      "[I 2024-12-01 20:08:44,886] Trial 26 finished with value: 118.17916577406682 and parameters: {'park_weight': 0.21371812702458015, 'school_weight': 0.147936421199092, 'supermarket_weight': 0.6280778253377766, 'landmark_weight': 0.26611888369076675}. Best is trial 14 with value: 41.23988074160742.\n",
      "[I 2024-12-01 20:09:09,171] Trial 27 finished with value: 193.87921361115073 and parameters: {'park_weight': 0.48291000720044874, 'school_weight': 0.21094630796556446, 'supermarket_weight': 0.5165539335668434, 'landmark_weight': 0.4098447535735378}. Best is trial 14 with value: 41.23988074160742.\n",
      "[I 2024-12-01 20:09:33,157] Trial 28 finished with value: 121.97621175347513 and parameters: {'park_weight': 0.33382502749298576, 'school_weight': 0.09538377984773622, 'supermarket_weight': 0.0004167322526456019, 'landmark_weight': 0.5335335655783964}. Best is trial 14 with value: 41.23988074160742.\n",
      "[I 2024-12-01 20:09:57,668] Trial 29 finished with value: 155.60179299713542 and parameters: {'park_weight': 0.09573264332888122, 'school_weight': 0.3844150735769679, 'supermarket_weight': 0.6881883897998498, 'landmark_weight': 0.2631922865801699}. Best is trial 14 with value: 41.23988074160742.\n",
      "[I 2024-12-01 20:10:21,609] Trial 30 finished with value: 160.58370388460318 and parameters: {'park_weight': 0.38876439383536276, 'school_weight': 0.5056712074192298, 'supermarket_weight': 0.16425712892996977, 'landmark_weight': 0.16809761203708068}. Best is trial 14 with value: 41.23988074160742.\n",
      "[I 2024-12-01 20:10:46,334] Trial 31 finished with value: 82.28984639516389 and parameters: {'park_weight': 0.06950867819444478, 'school_weight': 0.3028168291120098, 'supermarket_weight': 0.34283158431540206, 'landmark_weight': 0.09253500461256198}. Best is trial 14 with value: 41.23988074160742.\n",
      "[I 2024-12-01 20:11:10,285] Trial 32 finished with value: 38.62525473740559 and parameters: {'park_weight': 0.18223390763739883, 'school_weight': 0.07453658220761503, 'supermarket_weight': 0.2831627632321733, 'landmark_weight': 0.09116461978642174}. Best is trial 32 with value: 38.62525473740559.\n",
      "[I 2024-12-01 20:11:35,421] Trial 33 finished with value: 40.61656932139058 and parameters: {'park_weight': 0.19028628507607484, 'school_weight': 0.07123812897065919, 'supermarket_weight': 0.2508732530801317, 'landmark_weight': 0.1597972189976886}. Best is trial 32 with value: 38.62525473740559.\n",
      "[I 2024-12-01 20:11:58,997] Trial 34 finished with value: 75.01144829167222 and parameters: {'park_weight': 0.16477551676367314, 'school_weight': 0.18730053064763985, 'supermarket_weight': 0.38878945130136067, 'landmark_weight': 0.14760626756603423}. Best is trial 32 with value: 38.62525473740559.\n",
      "[I 2024-12-01 20:12:23,625] Trial 35 finished with value: 76.06055695319837 and parameters: {'park_weight': 0.2900380492413666, 'school_weight': 0.10191722035431915, 'supermarket_weight': 0.26151452186220797, 'landmark_weight': 0.21410385564273446}. Best is trial 32 with value: 38.62525473740559.\n",
      "[I 2024-12-01 20:12:47,631] Trial 36 finished with value: 51.6607971278201 and parameters: {'park_weight': 0.18595671719867693, 'school_weight': 0.035309104732156794, 'supermarket_weight': 0.540972450445563, 'landmark_weight': 0.06507689487844434}. Best is trial 32 with value: 38.62525473740559.\n",
      "[I 2024-12-01 20:13:12,185] Trial 37 finished with value: 150.0527544289917 and parameters: {'park_weight': 0.07154612745581941, 'school_weight': 0.6680928932174719, 'supermarket_weight': 0.15687616962761028, 'landmark_weight': 0.08902767683140865}. Best is trial 32 with value: 38.62525473740559.\n",
      "[I 2024-12-01 20:13:36,054] Trial 38 finished with value: 74.85402876815961 and parameters: {'park_weight': 0.17409154971926605, 'school_weight': 0.14668860699523428, 'supermarket_weight': 0.5650735760024409, 'landmark_weight': 0.04415281404399704}. Best is trial 32 with value: 38.62525473740559.\n",
      "[I 2024-12-01 20:14:00,021] Trial 39 finished with value: 161.39836082314508 and parameters: {'park_weight': 0.5628121231500962, 'school_weight': 0.23868634898807398, 'supermarket_weight': 0.6640003211742466, 'landmark_weight': 0.06630790617964544}. Best is trial 32 with value: 38.62525473740559.\n",
      "[I 2024-12-01 20:14:23,866] Trial 40 finished with value: 206.10457191180436 and parameters: {'park_weight': 0.06151644758164232, 'school_weight': 0.8052372962593913, 'supermarket_weight': 0.4516095215088355, 'landmark_weight': 0.1437132990398143}. Best is trial 32 with value: 38.62525473740559.\n",
      "[I 2024-12-01 20:14:47,924] Trial 41 finished with value: 73.6425845556412 and parameters: {'park_weight': 0.1945137919031441, 'school_weight': 0.039841478670855746, 'supermarket_weight': 0.5157693683837019, 'landmark_weight': 0.22506410159152182}. Best is trial 32 with value: 38.62525473740559.\n",
      "[I 2024-12-01 20:15:12,807] Trial 42 finished with value: 110.22943783023284 and parameters: {'park_weight': 0.3072707760940309, 'school_weight': 0.0534270193740851, 'supermarket_weight': 0.8029492970419346, 'landmark_weight': 0.15837198969598526}. Best is trial 32 with value: 38.62525473740559.\n",
      "[I 2024-12-01 20:15:35,673] Trial 43 finished with value: 74.92196767380526 and parameters: {'park_weight': 0.20253074087269685, 'school_weight': 0.11355560939010917, 'supermarket_weight': 0.6109492389735343, 'landmark_weight': 0.04763352537642716}. Best is trial 32 with value: 38.62525473740559.\n",
      "[I 2024-12-01 20:15:58,309] Trial 44 finished with value: 63.07260072034357 and parameters: {'park_weight': 0.11358640198949135, 'school_weight': 0.017783311234928198, 'supermarket_weight': 0.28610374853739495, 'landmark_weight': 0.3739403486366719}. Best is trial 32 with value: 38.62525473740559.\n",
      "[I 2024-12-01 20:16:21,156] Trial 45 finished with value: 64.82762062361559 and parameters: {'park_weight': 0.12077594400687565, 'school_weight': 0.002810901384713016, 'supermarket_weight': 0.2896913755905958, 'landmark_weight': 0.39124737550039324}. Best is trial 32 with value: 38.62525473740559.\n",
      "[I 2024-12-01 20:16:43,759] Trial 46 finished with value: 97.62906027137115 and parameters: {'park_weight': 0.4301454106307083, 'school_weight': 0.12682726415189854, 'supermarket_weight': 0.36946549255496824, 'landmark_weight': 0.1258501483648977}. Best is trial 32 with value: 38.62525473740559.\n",
      "[I 2024-12-01 20:17:06,670] Trial 47 finished with value: 87.01551139972212 and parameters: {'park_weight': 0.04968665658397731, 'school_weight': 0.0554322007653636, 'supermarket_weight': 0.10811082766704458, 'landmark_weight': 0.5878427540820672}. Best is trial 32 with value: 38.62525473740559.\n",
      "[I 2024-12-01 20:17:29,671] Trial 48 finished with value: 271.0001550018389 and parameters: {'park_weight': 0.6052007951661059, 'school_weight': 0.1837783379456806, 'supermarket_weight': 0.18893145597026673, 'landmark_weight': 0.8873742115372895}. Best is trial 32 with value: 38.62525473740559.\n",
      "[I 2024-12-01 20:17:52,776] Trial 49 finished with value: 301.6228639892186 and parameters: {'park_weight': 0.2636922753995881, 'school_weight': 0.6854362880488072, 'supermarket_weight': 0.24238733670926266, 'landmark_weight': 0.7684550121600439}. Best is trial 32 with value: 38.62525473740559.\n",
      "[I 2024-12-01 20:18:15,883] Trial 50 finished with value: 184.0585128558764 and parameters: {'park_weight': 0.741857214961591, 'school_weight': 0.14880605411886477, 'supermarket_weight': 0.29854005807327516, 'landmark_weight': 0.3064631704721609}. Best is trial 32 with value: 38.62525473740559.\n",
      "[I 2024-12-01 20:18:40,553] Trial 51 finished with value: 63.92143961755638 and parameters: {'park_weight': 0.11388114973137767, 'school_weight': 0.004930981700679189, 'supermarket_weight': 0.3175516837756158, 'landmark_weight': 0.376206154440619}. Best is trial 32 with value: 38.62525473740559.\n",
      "[I 2024-12-01 20:19:04,619] Trial 52 finished with value: 87.31080190838591 and parameters: {'park_weight': 0.15758439812011135, 'school_weight': 0.05560736549101941, 'supermarket_weight': 0.4107226921207977, 'landmark_weight': 0.3605195235106256}. Best is trial 32 with value: 38.62525473740559.\n",
      "[I 2024-12-01 20:19:28,963] Trial 53 finished with value: 95.41629079274855 and parameters: {'park_weight': 0.037377628927747014, 'school_weight': 0.1064424367610607, 'supermarket_weight': 0.3431196498203145, 'landmark_weight': 0.4863629867051773}. Best is trial 32 with value: 38.62525473740559.\n",
      "[I 2024-12-01 20:19:53,179] Trial 54 finished with value: 24.914234772141125 and parameters: {'park_weight': 0.10202769519481045, 'school_weight': 0.007979394744399383, 'supermarket_weight': 0.11420601235273062, 'landmark_weight': 0.03861303456123491}. Best is trial 54 with value: 24.914234772141125.\n",
      "[I 2024-12-01 20:20:16,858] Trial 55 finished with value: 31.911099810962355 and parameters: {'park_weight': 0.08209249134517806, 'school_weight': 0.05965288665203569, 'supermarket_weight': 0.05718053281825058, 'landmark_weight': 0.038330442131351214}. Best is trial 54 with value: 24.914234772141125.\n",
      "[I 2024-12-01 20:20:40,930] Trial 56 finished with value: 37.462206093528636 and parameters: {'park_weight': 0.0024594386720824812, 'school_weight': 0.05561920602900013, 'supermarket_weight': 0.0792425657373917, 'landmark_weight': 0.030227258284719324}. Best is trial 54 with value: 24.914234772141125.\n",
      "[I 2024-12-01 20:21:05,175] Trial 57 finished with value: 59.96168286337307 and parameters: {'park_weight': 0.0012717177542535024, 'school_weight': 0.18542953706828125, 'supermarket_weight': 0.08939009725336067, 'landmark_weight': 0.0018698842295770818}. Best is trial 54 with value: 24.914234772141125.\n",
      "[I 2024-12-01 20:21:29,406] Trial 58 finished with value: 33.55864328934308 and parameters: {'park_weight': 0.08415807234224396, 'school_weight': 0.07340486316338161, 'supermarket_weight': 0.04093040170861832, 'landmark_weight': 0.033961072224158326}. Best is trial 54 with value: 24.914234772141125.\n",
      "[I 2024-12-01 20:21:53,238] Trial 59 finished with value: 63.53924153086005 and parameters: {'park_weight': 0.05054073256176704, 'school_weight': 0.26651191116823253, 'supermarket_weight': 0.04227483702323241, 'landmark_weight': 0.021183531424686118}. Best is trial 54 with value: 24.914234772141125.\n",
      "[I 2024-12-01 20:22:17,633] Trial 60 finished with value: 30.32909219888284 and parameters: {'park_weight': 0.08689555369289625, 'school_weight': 0.07692440768473369, 'supermarket_weight': 0.025129767547771117, 'landmark_weight': 0.08119804279814839}. Best is trial 54 with value: 24.914234772141125.\n",
      "[I 2024-12-01 20:22:41,684] Trial 61 finished with value: 32.470971542403746 and parameters: {'park_weight': 0.09877420809883244, 'school_weight': 0.07771111114137882, 'supermarket_weight': 0.041280076013771, 'landmark_weight': 0.03934542992283309}. Best is trial 54 with value: 24.914234772141125.\n",
      "[I 2024-12-01 20:23:06,150] Trial 62 finished with value: 37.137756555962305 and parameters: {'park_weight': 0.088878930951267, 'school_weight': 0.1277629223590927, 'supermarket_weight': 0.0018221907436926643, 'landmark_weight': 0.04454535559580258}. Best is trial 54 with value: 24.914234772141125.\n",
      "[I 2024-12-01 20:23:30,323] Trial 63 finished with value: 186.15209172920532 and parameters: {'park_weight': 0.08529067428739907, 'school_weight': 0.9017023476795214, 'supermarket_weight': 0.0021700195874735477, 'landmark_weight': 0.06144874121354073}. Best is trial 54 with value: 24.914234772141125.\n",
      "[I 2024-12-01 20:23:54,426] Trial 64 finished with value: 126.5765565919451 and parameters: {'park_weight': 0.8747988752470282, 'school_weight': 0.1276051275170398, 'supermarket_weight': 0.052434370245321486, 'landmark_weight': 0.03200021898250573}. Best is trial 54 with value: 24.914234772141125.\n",
      "[I 2024-12-01 20:24:18,773] Trial 65 finished with value: 37.80035589518854 and parameters: {'park_weight': 0.03457322952322983, 'school_weight': 0.16342751865482746, 'supermarket_weight': 0.11825673096764722, 'landmark_weight': 0.11525519387780499}. Best is trial 54 with value: 24.914234772141125.\n",
      "[I 2024-12-01 20:24:42,724] Trial 66 finished with value: 59.47538587538308 and parameters: {'park_weight': 0.13456003835784275, 'school_weight': 0.22226630403311262, 'supermarket_weight': 0.0684328829536266, 'landmark_weight': 0.0030369235105334666}. Best is trial 54 with value: 24.914234772141125.\n",
      "[I 2024-12-01 20:25:06,953] Trial 67 finished with value: 35.33272252307928 and parameters: {'park_weight': 0.08462390815247904, 'school_weight': 0.09482857659111862, 'supermarket_weight': 0.021879012329014968, 'landmark_weight': 0.03211493208249154}. Best is trial 54 with value: 24.914234772141125.\n",
      "[I 2024-12-01 20:25:30,743] Trial 68 finished with value: 30.975026795530265 and parameters: {'park_weight': 0.09233137367942013, 'school_weight': 0.1085892402626794, 'supermarket_weight': 0.019768611534800678, 'landmark_weight': 0.11017608023723842}. Best is trial 54 with value: 24.914234772141125.\n",
      "[I 2024-12-01 20:25:55,140] Trial 69 finished with value: 31.55410906024688 and parameters: {'park_weight': 0.14397004582863443, 'school_weight': 0.09676292823517722, 'supermarket_weight': 0.12706951325432375, 'landmark_weight': 0.1119684805825875}. Best is trial 54 with value: 24.914234772141125.\n",
      "[I 2024-12-01 20:26:19,309] Trial 70 finished with value: 56.56571530895919 and parameters: {'park_weight': 0.15025688463769507, 'school_weight': 0.2030339546223634, 'supermarket_weight': 0.13071727890330442, 'landmark_weight': 0.183862100029557}. Best is trial 54 with value: 24.914234772141125.\n",
      "[I 2024-12-01 20:26:43,378] Trial 71 finished with value: 34.5551346538683 and parameters: {'park_weight': 0.22854749113637973, 'school_weight': 0.1012968969012778, 'supermarket_weight': 0.02593358196441673, 'landmark_weight': 0.09305493273132195}. Best is trial 54 with value: 24.914234772141125.\n",
      "[I 2024-12-01 20:27:07,206] Trial 72 finished with value: 33.220909895747674 and parameters: {'park_weight': 0.23385909661368365, 'school_weight': 0.08826384975426921, 'supermarket_weight': 0.03861066209433137, 'landmark_weight': 0.10483634983599657}. Best is trial 54 with value: 24.914234772141125.\n",
      "[I 2024-12-01 20:27:31,973] Trial 73 finished with value: 17.510982052742378 and parameters: {'park_weight': 0.12772436870215073, 'school_weight': 0.03504016452905262, 'supermarket_weight': 0.1843466889785601, 'landmark_weight': 0.12405186760270218}. Best is trial 73 with value: 17.510982052742378.\n",
      "[I 2024-12-01 20:27:55,922] Trial 74 finished with value: 33.25566796731015 and parameters: {'park_weight': 0.1403366917739731, 'school_weight': 0.03642712305716968, 'supermarket_weight': 0.16514218269083208, 'landmark_weight': 0.23665863547532168}. Best is trial 73 with value: 17.510982052742378.\n",
      "[I 2024-12-01 20:28:19,910] Trial 75 finished with value: 41.72180733058548 and parameters: {'park_weight': 0.11307249583470598, 'school_weight': 0.16134464899185486, 'supermarket_weight': 0.09684233662944464, 'landmark_weight': 0.12541928697591065}. Best is trial 73 with value: 17.510982052742378.\n",
      "[I 2024-12-01 20:28:44,079] Trial 76 finished with value: 158.73741594081565 and parameters: {'park_weight': 0.038134600942647506, 'school_weight': 0.021671734506290792, 'supermarket_weight': 0.14184902923458093, 'landmark_weight': 0.990577093707454}. Best is trial 73 with value: 17.510982052742378.\n",
      "[I 2024-12-01 20:29:08,127] Trial 77 finished with value: 32.45885764042047 and parameters: {'park_weight': 0.22238125780394202, 'school_weight': 0.0757809002169001, 'supermarket_weight': 0.18608439243478955, 'landmark_weight': 0.07489771191102144}. Best is trial 73 with value: 17.510982052742378.\n",
      "[I 2024-12-01 20:29:31,858] Trial 78 finished with value: 71.57586784582631 and parameters: {'park_weight': 0.16724345677439445, 'school_weight': 0.2428764056370757, 'supermarket_weight': 0.17227435831304963, 'landmark_weight': 0.19164484233972706}. Best is trial 73 with value: 17.510982052742378.\n",
      "[I 2024-12-01 20:29:55,899] Trial 79 finished with value: 17.841992427463587 and parameters: {'park_weight': 0.06005491474771496, 'school_weight': 0.00048399512877846194, 'supermarket_weight': 0.2045414013624888, 'landmark_weight': 0.07560539662640177}. Best is trial 73 with value: 17.510982052742378.\n",
      "[I 2024-12-01 20:30:19,734] Trial 80 finished with value: 15.408442650009897 and parameters: {'park_weight': 0.02702896371564889, 'school_weight': 0.03034723860314597, 'supermarket_weight': 0.22362233446709434, 'landmark_weight': 0.07476651176884036}. Best is trial 80 with value: 15.408442650009897.\n",
      "[I 2024-12-01 20:30:43,846] Trial 81 finished with value: 17.511024663893966 and parameters: {'park_weight': 0.057092430922813436, 'school_weight': 0.0004598409240482021, 'supermarket_weight': 0.2043260716843104, 'landmark_weight': 0.07567452341429647}. Best is trial 80 with value: 15.408442650009897.\n",
      "[I 2024-12-01 20:31:07,952] Trial 82 finished with value: 11.192642704181784 and parameters: {'park_weight': 0.06410720031964182, 'school_weight': 0.00457618055642024, 'supermarket_weight': 0.210045806713629, 'landmark_weight': 0.13557003176624383}. Best is trial 82 with value: 11.192642704181784.\n",
      "[I 2024-12-01 20:31:32,349] Trial 83 finished with value: 11.929605550195006 and parameters: {'park_weight': 0.05806005642170614, 'school_weight': 0.005754768880596835, 'supermarket_weight': 0.21145321359030653, 'landmark_weight': 0.1209891431233949}. Best is trial 82 with value: 11.192642704181784.\n",
      "[I 2024-12-01 20:31:56,482] Trial 84 finished with value: 13.98250952210283 and parameters: {'park_weight': 0.02834146892687318, 'school_weight': 0.004291802752956023, 'supermarket_weight': 0.22047260443941663, 'landmark_weight': 0.14143498629871054}. Best is trial 82 with value: 11.192642704181784.\n",
      "[I 2024-12-01 20:32:21,101] Trial 85 finished with value: 14.121176796509086 and parameters: {'park_weight': 0.026348971008339397, 'school_weight': 0.0005502574299165877, 'supermarket_weight': 0.20695199407633902, 'landmark_weight': 0.1447798973696159}. Best is trial 82 with value: 11.192642704181784.\n",
      "[I 2024-12-01 20:32:45,742] Trial 86 finished with value: 13.739083778563185 and parameters: {'park_weight': 0.02223767270602217, 'school_weight': 0.00801035790985757, 'supermarket_weight': 0.21067071486601577, 'landmark_weight': 0.1502982428906132}. Best is trial 82 with value: 11.192642704181784.\n",
      "[I 2024-12-01 20:33:10,208] Trial 87 finished with value: 13.984957205121963 and parameters: {'park_weight': 0.026534883082807117, 'school_weight': 0.0006919461379536624, 'supermarket_weight': 0.19815660762847684, 'landmark_weight': 0.14369783718179566}. Best is trial 82 with value: 11.192642704181784.\n",
      "[I 2024-12-01 20:33:34,277] Trial 88 finished with value: 19.2758547124728 and parameters: {'park_weight': 0.02572398667057673, 'school_weight': 0.031941719647636355, 'supermarket_weight': 0.22030505057217825, 'landmark_weight': 0.2438163061001018}. Best is trial 82 with value: 11.192642704181784.\n",
      "[I 2024-12-01 20:33:58,898] Trial 89 finished with value: 15.490544525342619 and parameters: {'park_weight': 0.022880645540457475, 'school_weight': 0.030663118001810888, 'supermarket_weight': 0.24163545277972626, 'landmark_weight': 0.16133263774128145}. Best is trial 82 with value: 11.192642704181784.\n",
      "[I 2024-12-01 20:34:22,901] Trial 90 finished with value: 14.958810405973768 and parameters: {'park_weight': 0.027522214323252425, 'school_weight': 0.031400465858531776, 'supermarket_weight': 0.2405773988116562, 'landmark_weight': 0.14592169179673628}. Best is trial 82 with value: 11.192642704181784.\n",
      "[I 2024-12-01 20:34:46,869] Trial 91 finished with value: 15.942174466308064 and parameters: {'park_weight': 0.02518852522616631, 'school_weight': 0.03529345401099755, 'supermarket_weight': 0.2395545360736089, 'landmark_weight': 0.15351244899685412}. Best is trial 82 with value: 11.192642704181784.\n",
      "[I 2024-12-01 20:35:11,052] Trial 92 finished with value: 15.045154984028065 and parameters: {'park_weight': 0.02121857166132176, 'school_weight': 0.029337254488242093, 'supermarket_weight': 0.24986930030144508, 'landmark_weight': 0.1492708751695509}. Best is trial 82 with value: 11.192642704181784.\n",
      "[I 2024-12-01 20:35:36,684] Trial 93 finished with value: 18.036454203102714 and parameters: {'park_weight': 0.020493024994144952, 'school_weight': 0.02583691702526726, 'supermarket_weight': 0.26616989874629443, 'landmark_weight': 0.20194876434725018}. Best is trial 82 with value: 11.192642704181784.\n",
      "[I 2024-12-01 20:36:03,008] Trial 94 finished with value: 18.153294972399323 and parameters: {'park_weight': 0.004638266973539005, 'school_weight': 0.04977884181272536, 'supermarket_weight': 0.2340030448026612, 'landmark_weight': 0.17079088696792086}. Best is trial 82 with value: 11.192642704181784.\n",
      "[I 2024-12-01 20:36:26,862] Trial 95 finished with value: 15.599534451258284 and parameters: {'park_weight': 0.04735931153266056, 'school_weight': 0.021867597970791255, 'supermarket_weight': 0.26202061225330725, 'landmark_weight': 0.137524821529565}. Best is trial 82 with value: 11.192642704181784.\n",
      "[I 2024-12-01 20:36:51,003] Trial 96 finished with value: 187.11157987082447 and parameters: {'park_weight': 0.9847469714820833, 'school_weight': 0.053362260687506984, 'supermarket_weight': 0.29874763786554936, 'landmark_weight': 0.21291126878348748}. Best is trial 82 with value: 11.192642704181784.\n",
      "[I 2024-12-01 20:37:15,470] Trial 97 finished with value: 113.49448597307045 and parameters: {'park_weight': 0.00020101184136705683, 'school_weight': 0.49814870292380536, 'supermarket_weight': 0.20885447666920107, 'landmark_weight': 0.14652503578609252}. Best is trial 82 with value: 11.192642704181784.\n",
      "[I 2024-12-01 20:37:39,740] Trial 98 finished with value: 23.045460680202552 and parameters: {'park_weight': 0.06398308376950262, 'school_weight': 0.019842044881241024, 'supermarket_weight': 0.315669071956515, 'landmark_weight': 0.17000386064002088}. Best is trial 82 with value: 11.192642704181784.\n",
      "[I 2024-12-01 20:38:03,983] Trial 99 finished with value: 15.856489348885793 and parameters: {'park_weight': 0.03063410809594719, 'school_weight': 0.00010361079270307296, 'supermarket_weight': 0.1573756281305313, 'landmark_weight': 0.25545649498049644}. Best is trial 82 with value: 11.192642704181784.\n"
     ]
    },
    {
     "name": "stdout",
     "output_type": "stream",
     "text": [
      "Year 2022 Best Parameters: {'park_weight': 0.06410720031964182, 'school_weight': 0.00457618055642024, 'supermarket_weight': 0.210045806713629, 'landmark_weight': 0.13557003176624383}\n",
      "Year 2022 Best MAPE: 11.192642704181784\n",
      "Best results per year: {2014: {'Best Parameters': {'park_weight': 0.056373111570424385, 'school_weight': 0.03911927186494138, 'supermarket_weight': 0.15195772312636746, 'landmark_weight': 0.2878565416043185}, 'Best MAPE': 3.5767226195329846}, 2015: {'Best Parameters': {'park_weight': 0.060272814176866446, 'school_weight': 0.0036574756761057967, 'supermarket_weight': 0.20692047386339846, 'landmark_weight': 0.2510987783922981}, 'Best MAPE': 6.203603195856375}, 2016: {'Best Parameters': {'park_weight': 0.1096024571192876, 'school_weight': 7.948303083316532e-05, 'supermarket_weight': 0.2311514961899984, 'landmark_weight': 0.1960065958674665}, 'Best MAPE': 10.310461595016536}, 2017: {'Best Parameters': {'park_weight': 0.019823643216561757, 'school_weight': 0.06029548715845428, 'supermarket_weight': 0.09366122514991514, 'landmark_weight': 0.40729966171451554}, 'Best MAPE': 7.114105135236945}, 2018: {'Best Parameters': {'park_weight': 0.05883522641192948, 'school_weight': 0.0035937518624665583, 'supermarket_weight': 0.36686836356018404, 'landmark_weight': 0.37724374787548987}, 'Best MAPE': 4.889755695216653}, 2019: {'Best Parameters': {'park_weight': 0.49883406445985656, 'school_weight': 0.07216582227967956, 'supermarket_weight': 0.13814332395907367, 'landmark_weight': 0.05172926183385128}, 'Best MAPE': 10.7066005527595}, 2020: {'Best Parameters': {'park_weight': 0.07663008398976004, 'school_weight': 0.007695076630174567, 'supermarket_weight': 0.2558234712060068, 'landmark_weight': 0.21597904864852294}, 'Best MAPE': 16.54023839150256}, 2021: {'Best Parameters': {'park_weight': 0.001979256187844447, 'school_weight': 0.007688737737375006, 'supermarket_weight': 0.5040193555006731, 'landmark_weight': 0.4761043718858155}, 'Best MAPE': 14.587152416837062}, 2022: {'Best Parameters': {'park_weight': 0.06410720031964182, 'school_weight': 0.00457618055642024, 'supermarket_weight': 0.210045806713629, 'landmark_weight': 0.13557003176624383}, 'Best MAPE': 11.192642704181784}}\n"
     ]
    }
   ],
   "source": [
    "import optuna\n",
    "\n",
    "# Define the objective function\n",
    "def objective_function(params, weight, model_agents, model_amenities, radius, yearly_prices, i, districts, hm, n_iterations, radius_amenity):\n",
    "    # Initialize prices\n",
    "    current_year = yearly_prices.index[i]\n",
    "    next_year = yearly_prices.index[i + 1]\n",
    "    initial_prices = hm.initial_price_dist(model_agents, current_year, yearly_prices)\n",
    "    med_price = np.median(yearly_prices.loc[current_year])\n",
    "    amenity_weights = {\n",
    "        'park': params[0] * med_price,\n",
    "        'school': params[1] * med_price,\n",
    "        'supermarket': params[2] * med_price,\n",
    "        'landmark': params[3] * med_price,\n",
    "    }\n",
    "\n",
    "    # Simulate over n_iterations\n",
    "    vals = initial_prices\n",
    "    for j in range(n_iterations):\n",
    "        vals, _, _ = hm.new_iteration(vals, weight, radius, model_amenities, amenity_weights, radius_amenity)\n",
    "\n",
    "    # Calculate final prices\n",
    "    prices_end = np.zeros(len(districts))\n",
    "    for n, district in enumerate(districts):\n",
    "        vals_district = vals[vals['District'] == district]\n",
    "        prices_end[n] = np.round(np.average(vals_district['price']))\n",
    "\n",
    "    # Calculate MAPE\n",
    "    ape = hm.calculate_ape(prices_end, np.array(yearly_prices.loc[next_year]))\n",
    "    mape = np.mean(ape)\n",
    "    return mape  # Objective is to minimize this value\n",
    "\n",
    "def objective(trial):\n",
    "    # Suggest parameter values\n",
    "    park_weight = trial.suggest_float('park_weight', 0.0, 1.0)\n",
    "    school_weight = trial.suggest_float('school_weight', 0.0, 1.0)\n",
    "    supermarket_weight = trial.suggest_float('supermarket_weight', 0.0, 1.0)\n",
    "    landmark_weight = trial.suggest_float('landmark_weight', 0.0, 1.0)\n",
    "    \n",
    "    params = [park_weight, school_weight, supermarket_weight, landmark_weight]\n",
    "    \n",
    "    # Evaluate MAPE for the specified year `i`\n",
    "    mape = objective_function(\n",
    "        params,\n",
    "        weight,\n",
    "        model_agents,\n",
    "        model_amenities,\n",
    "        radius,\n",
    "        yearly_prices,\n",
    "        current_year,\n",
    "        districts,\n",
    "        hm,\n",
    "        n_iterations,\n",
    "        radius_amenity\n",
    "    )\n",
    "    \n",
    "    return mape  # Minimize MAPE\n",
    "\n",
    "# Run trials for each year separately\n",
    "best_results = {}\n",
    "\n",
    "for i in range(len(yearly_prices.index) - 1):  # Loop through all years except the last\n",
    "    current_year = i  # Set the current year index for the trial\n",
    "    print(f\"Running Optuna study for year index: {current_year}\")\n",
    "    \n",
    "    # Create and optimize the study\n",
    "    study = optuna.create_study(direction='minimize')\n",
    "    study.optimize(objective, n_trials=100)\n",
    "    \n",
    "    # Save the results for the current year\n",
    "    best_results[yearly_prices.index[current_year]] = {\n",
    "        \"Best Parameters\": study.best_params,\n",
    "        \"Best MAPE\": study.best_value\n",
    "    }\n",
    "    print(f\"Year {yearly_prices.index[current_year]} Best Parameters: {study.best_params}\")\n",
    "    print(f\"Year {yearly_prices.index[current_year]} Best MAPE: {study.best_value}\")\n",
    "\n",
    "# Final results\n",
    "print(\"Best results per year:\", best_results)\n"
   ]
  },
  {
   "cell_type": "code",
   "execution_count": 31,
   "metadata": {},
   "outputs": [
    {
     "name": "stderr",
     "output_type": "stream",
     "text": [
      "c:\\Users\\stefa\\anaconda3\\lib\\site-packages\\plotly\\io\\_renderers.py:395: DeprecationWarning:\n",
      "\n",
      "distutils Version classes are deprecated. Use packaging.version instead.\n",
      "\n"
     ]
    },
    {
     "data": {
      "application/vnd.plotly.v1+json": {
       "config": {
        "plotlyServerURL": "https://plot.ly"
       },
       "data": [
        {
         "cliponaxis": false,
         "hovertemplate": [
          "supermarket_weight (FloatDistribution): 0.05877017432595791<extra></extra>",
          "landmark_weight (FloatDistribution): 0.2869299427194626<extra></extra>",
          "park_weight (FloatDistribution): 0.29667177653253407<extra></extra>",
          "school_weight (FloatDistribution): 0.35762810642204557<extra></extra>"
         ],
         "name": "Objective Value",
         "orientation": "h",
         "text": [
          "0.06",
          "0.29",
          "0.30",
          "0.36"
         ],
         "textposition": "outside",
         "type": "bar",
         "x": [
          0.05877017432595791,
          0.2869299427194626,
          0.29667177653253407,
          0.35762810642204557
         ],
         "y": [
          "supermarket_weight",
          "landmark_weight",
          "park_weight",
          "school_weight"
         ]
        }
       ],
       "layout": {
        "template": {
         "data": {
          "bar": [
           {
            "error_x": {
             "color": "#2a3f5f"
            },
            "error_y": {
             "color": "#2a3f5f"
            },
            "marker": {
             "line": {
              "color": "#E5ECF6",
              "width": 0.5
             },
             "pattern": {
              "fillmode": "overlay",
              "size": 10,
              "solidity": 0.2
             }
            },
            "type": "bar"
           }
          ],
          "barpolar": [
           {
            "marker": {
             "line": {
              "color": "#E5ECF6",
              "width": 0.5
             },
             "pattern": {
              "fillmode": "overlay",
              "size": 10,
              "solidity": 0.2
             }
            },
            "type": "barpolar"
           }
          ],
          "carpet": [
           {
            "aaxis": {
             "endlinecolor": "#2a3f5f",
             "gridcolor": "white",
             "linecolor": "white",
             "minorgridcolor": "white",
             "startlinecolor": "#2a3f5f"
            },
            "baxis": {
             "endlinecolor": "#2a3f5f",
             "gridcolor": "white",
             "linecolor": "white",
             "minorgridcolor": "white",
             "startlinecolor": "#2a3f5f"
            },
            "type": "carpet"
           }
          ],
          "choropleth": [
           {
            "colorbar": {
             "outlinewidth": 0,
             "ticks": ""
            },
            "type": "choropleth"
           }
          ],
          "contour": [
           {
            "colorbar": {
             "outlinewidth": 0,
             "ticks": ""
            },
            "colorscale": [
             [
              0,
              "#0d0887"
             ],
             [
              0.1111111111111111,
              "#46039f"
             ],
             [
              0.2222222222222222,
              "#7201a8"
             ],
             [
              0.3333333333333333,
              "#9c179e"
             ],
             [
              0.4444444444444444,
              "#bd3786"
             ],
             [
              0.5555555555555556,
              "#d8576b"
             ],
             [
              0.6666666666666666,
              "#ed7953"
             ],
             [
              0.7777777777777778,
              "#fb9f3a"
             ],
             [
              0.8888888888888888,
              "#fdca26"
             ],
             [
              1,
              "#f0f921"
             ]
            ],
            "type": "contour"
           }
          ],
          "contourcarpet": [
           {
            "colorbar": {
             "outlinewidth": 0,
             "ticks": ""
            },
            "type": "contourcarpet"
           }
          ],
          "heatmap": [
           {
            "colorbar": {
             "outlinewidth": 0,
             "ticks": ""
            },
            "colorscale": [
             [
              0,
              "#0d0887"
             ],
             [
              0.1111111111111111,
              "#46039f"
             ],
             [
              0.2222222222222222,
              "#7201a8"
             ],
             [
              0.3333333333333333,
              "#9c179e"
             ],
             [
              0.4444444444444444,
              "#bd3786"
             ],
             [
              0.5555555555555556,
              "#d8576b"
             ],
             [
              0.6666666666666666,
              "#ed7953"
             ],
             [
              0.7777777777777778,
              "#fb9f3a"
             ],
             [
              0.8888888888888888,
              "#fdca26"
             ],
             [
              1,
              "#f0f921"
             ]
            ],
            "type": "heatmap"
           }
          ],
          "heatmapgl": [
           {
            "colorbar": {
             "outlinewidth": 0,
             "ticks": ""
            },
            "colorscale": [
             [
              0,
              "#0d0887"
             ],
             [
              0.1111111111111111,
              "#46039f"
             ],
             [
              0.2222222222222222,
              "#7201a8"
             ],
             [
              0.3333333333333333,
              "#9c179e"
             ],
             [
              0.4444444444444444,
              "#bd3786"
             ],
             [
              0.5555555555555556,
              "#d8576b"
             ],
             [
              0.6666666666666666,
              "#ed7953"
             ],
             [
              0.7777777777777778,
              "#fb9f3a"
             ],
             [
              0.8888888888888888,
              "#fdca26"
             ],
             [
              1,
              "#f0f921"
             ]
            ],
            "type": "heatmapgl"
           }
          ],
          "histogram": [
           {
            "marker": {
             "pattern": {
              "fillmode": "overlay",
              "size": 10,
              "solidity": 0.2
             }
            },
            "type": "histogram"
           }
          ],
          "histogram2d": [
           {
            "colorbar": {
             "outlinewidth": 0,
             "ticks": ""
            },
            "colorscale": [
             [
              0,
              "#0d0887"
             ],
             [
              0.1111111111111111,
              "#46039f"
             ],
             [
              0.2222222222222222,
              "#7201a8"
             ],
             [
              0.3333333333333333,
              "#9c179e"
             ],
             [
              0.4444444444444444,
              "#bd3786"
             ],
             [
              0.5555555555555556,
              "#d8576b"
             ],
             [
              0.6666666666666666,
              "#ed7953"
             ],
             [
              0.7777777777777778,
              "#fb9f3a"
             ],
             [
              0.8888888888888888,
              "#fdca26"
             ],
             [
              1,
              "#f0f921"
             ]
            ],
            "type": "histogram2d"
           }
          ],
          "histogram2dcontour": [
           {
            "colorbar": {
             "outlinewidth": 0,
             "ticks": ""
            },
            "colorscale": [
             [
              0,
              "#0d0887"
             ],
             [
              0.1111111111111111,
              "#46039f"
             ],
             [
              0.2222222222222222,
              "#7201a8"
             ],
             [
              0.3333333333333333,
              "#9c179e"
             ],
             [
              0.4444444444444444,
              "#bd3786"
             ],
             [
              0.5555555555555556,
              "#d8576b"
             ],
             [
              0.6666666666666666,
              "#ed7953"
             ],
             [
              0.7777777777777778,
              "#fb9f3a"
             ],
             [
              0.8888888888888888,
              "#fdca26"
             ],
             [
              1,
              "#f0f921"
             ]
            ],
            "type": "histogram2dcontour"
           }
          ],
          "mesh3d": [
           {
            "colorbar": {
             "outlinewidth": 0,
             "ticks": ""
            },
            "type": "mesh3d"
           }
          ],
          "parcoords": [
           {
            "line": {
             "colorbar": {
              "outlinewidth": 0,
              "ticks": ""
             }
            },
            "type": "parcoords"
           }
          ],
          "pie": [
           {
            "automargin": true,
            "type": "pie"
           }
          ],
          "scatter": [
           {
            "fillpattern": {
             "fillmode": "overlay",
             "size": 10,
             "solidity": 0.2
            },
            "type": "scatter"
           }
          ],
          "scatter3d": [
           {
            "line": {
             "colorbar": {
              "outlinewidth": 0,
              "ticks": ""
             }
            },
            "marker": {
             "colorbar": {
              "outlinewidth": 0,
              "ticks": ""
             }
            },
            "type": "scatter3d"
           }
          ],
          "scattercarpet": [
           {
            "marker": {
             "colorbar": {
              "outlinewidth": 0,
              "ticks": ""
             }
            },
            "type": "scattercarpet"
           }
          ],
          "scattergeo": [
           {
            "marker": {
             "colorbar": {
              "outlinewidth": 0,
              "ticks": ""
             }
            },
            "type": "scattergeo"
           }
          ],
          "scattergl": [
           {
            "marker": {
             "colorbar": {
              "outlinewidth": 0,
              "ticks": ""
             }
            },
            "type": "scattergl"
           }
          ],
          "scattermapbox": [
           {
            "marker": {
             "colorbar": {
              "outlinewidth": 0,
              "ticks": ""
             }
            },
            "type": "scattermapbox"
           }
          ],
          "scatterpolar": [
           {
            "marker": {
             "colorbar": {
              "outlinewidth": 0,
              "ticks": ""
             }
            },
            "type": "scatterpolar"
           }
          ],
          "scatterpolargl": [
           {
            "marker": {
             "colorbar": {
              "outlinewidth": 0,
              "ticks": ""
             }
            },
            "type": "scatterpolargl"
           }
          ],
          "scatterternary": [
           {
            "marker": {
             "colorbar": {
              "outlinewidth": 0,
              "ticks": ""
             }
            },
            "type": "scatterternary"
           }
          ],
          "surface": [
           {
            "colorbar": {
             "outlinewidth": 0,
             "ticks": ""
            },
            "colorscale": [
             [
              0,
              "#0d0887"
             ],
             [
              0.1111111111111111,
              "#46039f"
             ],
             [
              0.2222222222222222,
              "#7201a8"
             ],
             [
              0.3333333333333333,
              "#9c179e"
             ],
             [
              0.4444444444444444,
              "#bd3786"
             ],
             [
              0.5555555555555556,
              "#d8576b"
             ],
             [
              0.6666666666666666,
              "#ed7953"
             ],
             [
              0.7777777777777778,
              "#fb9f3a"
             ],
             [
              0.8888888888888888,
              "#fdca26"
             ],
             [
              1,
              "#f0f921"
             ]
            ],
            "type": "surface"
           }
          ],
          "table": [
           {
            "cells": {
             "fill": {
              "color": "#EBF0F8"
             },
             "line": {
              "color": "white"
             }
            },
            "header": {
             "fill": {
              "color": "#C8D4E3"
             },
             "line": {
              "color": "white"
             }
            },
            "type": "table"
           }
          ]
         },
         "layout": {
          "annotationdefaults": {
           "arrowcolor": "#2a3f5f",
           "arrowhead": 0,
           "arrowwidth": 1
          },
          "autotypenumbers": "strict",
          "coloraxis": {
           "colorbar": {
            "outlinewidth": 0,
            "ticks": ""
           }
          },
          "colorscale": {
           "diverging": [
            [
             0,
             "#8e0152"
            ],
            [
             0.1,
             "#c51b7d"
            ],
            [
             0.2,
             "#de77ae"
            ],
            [
             0.3,
             "#f1b6da"
            ],
            [
             0.4,
             "#fde0ef"
            ],
            [
             0.5,
             "#f7f7f7"
            ],
            [
             0.6,
             "#e6f5d0"
            ],
            [
             0.7,
             "#b8e186"
            ],
            [
             0.8,
             "#7fbc41"
            ],
            [
             0.9,
             "#4d9221"
            ],
            [
             1,
             "#276419"
            ]
           ],
           "sequential": [
            [
             0,
             "#0d0887"
            ],
            [
             0.1111111111111111,
             "#46039f"
            ],
            [
             0.2222222222222222,
             "#7201a8"
            ],
            [
             0.3333333333333333,
             "#9c179e"
            ],
            [
             0.4444444444444444,
             "#bd3786"
            ],
            [
             0.5555555555555556,
             "#d8576b"
            ],
            [
             0.6666666666666666,
             "#ed7953"
            ],
            [
             0.7777777777777778,
             "#fb9f3a"
            ],
            [
             0.8888888888888888,
             "#fdca26"
            ],
            [
             1,
             "#f0f921"
            ]
           ],
           "sequentialminus": [
            [
             0,
             "#0d0887"
            ],
            [
             0.1111111111111111,
             "#46039f"
            ],
            [
             0.2222222222222222,
             "#7201a8"
            ],
            [
             0.3333333333333333,
             "#9c179e"
            ],
            [
             0.4444444444444444,
             "#bd3786"
            ],
            [
             0.5555555555555556,
             "#d8576b"
            ],
            [
             0.6666666666666666,
             "#ed7953"
            ],
            [
             0.7777777777777778,
             "#fb9f3a"
            ],
            [
             0.8888888888888888,
             "#fdca26"
            ],
            [
             1,
             "#f0f921"
            ]
           ]
          },
          "colorway": [
           "#636efa",
           "#EF553B",
           "#00cc96",
           "#ab63fa",
           "#FFA15A",
           "#19d3f3",
           "#FF6692",
           "#B6E880",
           "#FF97FF",
           "#FECB52"
          ],
          "font": {
           "color": "#2a3f5f"
          },
          "geo": {
           "bgcolor": "white",
           "lakecolor": "white",
           "landcolor": "#E5ECF6",
           "showlakes": true,
           "showland": true,
           "subunitcolor": "white"
          },
          "hoverlabel": {
           "align": "left"
          },
          "hovermode": "closest",
          "mapbox": {
           "style": "light"
          },
          "paper_bgcolor": "white",
          "plot_bgcolor": "#E5ECF6",
          "polar": {
           "angularaxis": {
            "gridcolor": "white",
            "linecolor": "white",
            "ticks": ""
           },
           "bgcolor": "#E5ECF6",
           "radialaxis": {
            "gridcolor": "white",
            "linecolor": "white",
            "ticks": ""
           }
          },
          "scene": {
           "xaxis": {
            "backgroundcolor": "#E5ECF6",
            "gridcolor": "white",
            "gridwidth": 2,
            "linecolor": "white",
            "showbackground": true,
            "ticks": "",
            "zerolinecolor": "white"
           },
           "yaxis": {
            "backgroundcolor": "#E5ECF6",
            "gridcolor": "white",
            "gridwidth": 2,
            "linecolor": "white",
            "showbackground": true,
            "ticks": "",
            "zerolinecolor": "white"
           },
           "zaxis": {
            "backgroundcolor": "#E5ECF6",
            "gridcolor": "white",
            "gridwidth": 2,
            "linecolor": "white",
            "showbackground": true,
            "ticks": "",
            "zerolinecolor": "white"
           }
          },
          "shapedefaults": {
           "line": {
            "color": "#2a3f5f"
           }
          },
          "ternary": {
           "aaxis": {
            "gridcolor": "white",
            "linecolor": "white",
            "ticks": ""
           },
           "baxis": {
            "gridcolor": "white",
            "linecolor": "white",
            "ticks": ""
           },
           "bgcolor": "#E5ECF6",
           "caxis": {
            "gridcolor": "white",
            "linecolor": "white",
            "ticks": ""
           }
          },
          "title": {
           "x": 0.05
          },
          "xaxis": {
           "automargin": true,
           "gridcolor": "white",
           "linecolor": "white",
           "ticks": "",
           "title": {
            "standoff": 15
           },
           "zerolinecolor": "white",
           "zerolinewidth": 2
          },
          "yaxis": {
           "automargin": true,
           "gridcolor": "white",
           "linecolor": "white",
           "ticks": "",
           "title": {
            "standoff": 15
           },
           "zerolinecolor": "white",
           "zerolinewidth": 2
          }
         }
        },
        "title": {
         "text": "Hyperparameter Importances"
        },
        "xaxis": {
         "title": {
          "text": "Hyperparameter Importance"
         }
        },
        "yaxis": {
         "title": {
          "text": "Hyperparameter"
         }
        }
       }
      }
     },
     "metadata": {},
     "output_type": "display_data"
    }
   ],
   "source": [
    "optuna.visualization.plot_param_importances(study).show()"
   ]
  },
  {
   "cell_type": "code",
   "execution_count": 32,
   "metadata": {},
   "outputs": [
    {
     "name": "stderr",
     "output_type": "stream",
     "text": [
      "c:\\Users\\stefa\\anaconda3\\lib\\site-packages\\plotly\\io\\_renderers.py:395: DeprecationWarning:\n",
      "\n",
      "distutils Version classes are deprecated. Use packaging.version instead.\n",
      "\n"
     ]
    },
    {
     "data": {
      "application/vnd.plotly.v1+json": {
       "config": {
        "plotlyServerURL": "https://plot.ly"
       },
       "data": [
        {
         "mode": "markers",
         "name": "Objective Value",
         "type": "scatter",
         "x": [
          0,
          1,
          2,
          3,
          4,
          5,
          6,
          7,
          8,
          9,
          10,
          11,
          12,
          13,
          14,
          15,
          16,
          17,
          18,
          19,
          20,
          21,
          22,
          23,
          24,
          25,
          26,
          27,
          28,
          29,
          30,
          31,
          32,
          33,
          34,
          35,
          36,
          37,
          38,
          39,
          40,
          41,
          42,
          43,
          44,
          45,
          46,
          47,
          48,
          49,
          50,
          51,
          52,
          53,
          54,
          55,
          56,
          57,
          58,
          59,
          60,
          61,
          62,
          63,
          64,
          65,
          66,
          67,
          68,
          69,
          70,
          71,
          72,
          73,
          74,
          75,
          76,
          77,
          78,
          79,
          80,
          81,
          82,
          83,
          84,
          85,
          86,
          87,
          88,
          89,
          90,
          91,
          92,
          93,
          94,
          95,
          96,
          97,
          98,
          99
         ],
         "y": [
          288.32607504499737,
          457.8450974792524,
          414.23496025402136,
          258.25839586958904,
          435.8935852733679,
          500.79950900350184,
          237.59662467049458,
          179.56985941453894,
          407.13915956845784,
          459.5743899195114,
          86.58359070812415,
          77.1080438824959,
          92.09740392299219,
          126.56905478782141,
          41.23988074160742,
          72.11704759868915,
          99.75942210445298,
          96.9351076616456,
          140.87694374486273,
          93.22727459551243,
          152.20827028323154,
          107.30494642070869,
          87.26942870253825,
          75.5460881637874,
          101.92824710883289,
          99.80372989576588,
          118.17916577406682,
          193.87921361115073,
          121.97621175347513,
          155.60179299713542,
          160.58370388460318,
          82.28984639516389,
          38.62525473740559,
          40.61656932139058,
          75.01144829167222,
          76.06055695319837,
          51.6607971278201,
          150.0527544289917,
          74.85402876815961,
          161.39836082314508,
          206.10457191180436,
          73.6425845556412,
          110.22943783023284,
          74.92196767380526,
          63.07260072034357,
          64.82762062361559,
          97.62906027137115,
          87.01551139972212,
          271.0001550018389,
          301.6228639892186,
          184.0585128558764,
          63.92143961755638,
          87.31080190838591,
          95.41629079274855,
          24.914234772141125,
          31.911099810962355,
          37.462206093528636,
          59.96168286337307,
          33.55864328934308,
          63.53924153086005,
          30.32909219888284,
          32.470971542403746,
          37.137756555962305,
          186.15209172920532,
          126.5765565919451,
          37.80035589518854,
          59.47538587538308,
          35.33272252307928,
          30.975026795530265,
          31.55410906024688,
          56.56571530895919,
          34.5551346538683,
          33.220909895747674,
          17.510982052742378,
          33.25566796731015,
          41.72180733058548,
          158.73741594081565,
          32.45885764042047,
          71.57586784582631,
          17.841992427463587,
          15.408442650009897,
          17.511024663893966,
          11.192642704181784,
          11.929605550195006,
          13.98250952210283,
          14.121176796509086,
          13.739083778563185,
          13.984957205121963,
          19.2758547124728,
          15.490544525342619,
          14.958810405973768,
          15.942174466308064,
          15.045154984028065,
          18.036454203102714,
          18.153294972399323,
          15.599534451258284,
          187.11157987082447,
          113.49448597307045,
          23.045460680202552,
          15.856489348885793
         ]
        },
        {
         "mode": "lines",
         "name": "Best Value",
         "type": "scatter",
         "x": [
          0,
          1,
          2,
          3,
          4,
          5,
          6,
          7,
          8,
          9,
          10,
          11,
          12,
          13,
          14,
          15,
          16,
          17,
          18,
          19,
          20,
          21,
          22,
          23,
          24,
          25,
          26,
          27,
          28,
          29,
          30,
          31,
          32,
          33,
          34,
          35,
          36,
          37,
          38,
          39,
          40,
          41,
          42,
          43,
          44,
          45,
          46,
          47,
          48,
          49,
          50,
          51,
          52,
          53,
          54,
          55,
          56,
          57,
          58,
          59,
          60,
          61,
          62,
          63,
          64,
          65,
          66,
          67,
          68,
          69,
          70,
          71,
          72,
          73,
          74,
          75,
          76,
          77,
          78,
          79,
          80,
          81,
          82,
          83,
          84,
          85,
          86,
          87,
          88,
          89,
          90,
          91,
          92,
          93,
          94,
          95,
          96,
          97,
          98,
          99
         ],
         "y": [
          288.32607504499737,
          288.32607504499737,
          288.32607504499737,
          258.25839586958904,
          258.25839586958904,
          258.25839586958904,
          237.59662467049458,
          179.56985941453894,
          179.56985941453894,
          179.56985941453894,
          86.58359070812415,
          77.1080438824959,
          77.1080438824959,
          77.1080438824959,
          41.23988074160742,
          41.23988074160742,
          41.23988074160742,
          41.23988074160742,
          41.23988074160742,
          41.23988074160742,
          41.23988074160742,
          41.23988074160742,
          41.23988074160742,
          41.23988074160742,
          41.23988074160742,
          41.23988074160742,
          41.23988074160742,
          41.23988074160742,
          41.23988074160742,
          41.23988074160742,
          41.23988074160742,
          41.23988074160742,
          38.62525473740559,
          38.62525473740559,
          38.62525473740559,
          38.62525473740559,
          38.62525473740559,
          38.62525473740559,
          38.62525473740559,
          38.62525473740559,
          38.62525473740559,
          38.62525473740559,
          38.62525473740559,
          38.62525473740559,
          38.62525473740559,
          38.62525473740559,
          38.62525473740559,
          38.62525473740559,
          38.62525473740559,
          38.62525473740559,
          38.62525473740559,
          38.62525473740559,
          38.62525473740559,
          38.62525473740559,
          24.914234772141125,
          24.914234772141125,
          24.914234772141125,
          24.914234772141125,
          24.914234772141125,
          24.914234772141125,
          24.914234772141125,
          24.914234772141125,
          24.914234772141125,
          24.914234772141125,
          24.914234772141125,
          24.914234772141125,
          24.914234772141125,
          24.914234772141125,
          24.914234772141125,
          24.914234772141125,
          24.914234772141125,
          24.914234772141125,
          24.914234772141125,
          17.510982052742378,
          17.510982052742378,
          17.510982052742378,
          17.510982052742378,
          17.510982052742378,
          17.510982052742378,
          17.510982052742378,
          15.408442650009897,
          15.408442650009897,
          11.192642704181784,
          11.192642704181784,
          11.192642704181784,
          11.192642704181784,
          11.192642704181784,
          11.192642704181784,
          11.192642704181784,
          11.192642704181784,
          11.192642704181784,
          11.192642704181784,
          11.192642704181784,
          11.192642704181784,
          11.192642704181784,
          11.192642704181784,
          11.192642704181784,
          11.192642704181784,
          11.192642704181784,
          11.192642704181784
         ]
        },
        {
         "marker": {
          "color": "#cccccc"
         },
         "mode": "markers",
         "name": "Infeasible Trial",
         "showlegend": false,
         "type": "scatter",
         "x": [],
         "y": []
        }
       ],
       "layout": {
        "template": {
         "data": {
          "bar": [
           {
            "error_x": {
             "color": "#2a3f5f"
            },
            "error_y": {
             "color": "#2a3f5f"
            },
            "marker": {
             "line": {
              "color": "#E5ECF6",
              "width": 0.5
             },
             "pattern": {
              "fillmode": "overlay",
              "size": 10,
              "solidity": 0.2
             }
            },
            "type": "bar"
           }
          ],
          "barpolar": [
           {
            "marker": {
             "line": {
              "color": "#E5ECF6",
              "width": 0.5
             },
             "pattern": {
              "fillmode": "overlay",
              "size": 10,
              "solidity": 0.2
             }
            },
            "type": "barpolar"
           }
          ],
          "carpet": [
           {
            "aaxis": {
             "endlinecolor": "#2a3f5f",
             "gridcolor": "white",
             "linecolor": "white",
             "minorgridcolor": "white",
             "startlinecolor": "#2a3f5f"
            },
            "baxis": {
             "endlinecolor": "#2a3f5f",
             "gridcolor": "white",
             "linecolor": "white",
             "minorgridcolor": "white",
             "startlinecolor": "#2a3f5f"
            },
            "type": "carpet"
           }
          ],
          "choropleth": [
           {
            "colorbar": {
             "outlinewidth": 0,
             "ticks": ""
            },
            "type": "choropleth"
           }
          ],
          "contour": [
           {
            "colorbar": {
             "outlinewidth": 0,
             "ticks": ""
            },
            "colorscale": [
             [
              0,
              "#0d0887"
             ],
             [
              0.1111111111111111,
              "#46039f"
             ],
             [
              0.2222222222222222,
              "#7201a8"
             ],
             [
              0.3333333333333333,
              "#9c179e"
             ],
             [
              0.4444444444444444,
              "#bd3786"
             ],
             [
              0.5555555555555556,
              "#d8576b"
             ],
             [
              0.6666666666666666,
              "#ed7953"
             ],
             [
              0.7777777777777778,
              "#fb9f3a"
             ],
             [
              0.8888888888888888,
              "#fdca26"
             ],
             [
              1,
              "#f0f921"
             ]
            ],
            "type": "contour"
           }
          ],
          "contourcarpet": [
           {
            "colorbar": {
             "outlinewidth": 0,
             "ticks": ""
            },
            "type": "contourcarpet"
           }
          ],
          "heatmap": [
           {
            "colorbar": {
             "outlinewidth": 0,
             "ticks": ""
            },
            "colorscale": [
             [
              0,
              "#0d0887"
             ],
             [
              0.1111111111111111,
              "#46039f"
             ],
             [
              0.2222222222222222,
              "#7201a8"
             ],
             [
              0.3333333333333333,
              "#9c179e"
             ],
             [
              0.4444444444444444,
              "#bd3786"
             ],
             [
              0.5555555555555556,
              "#d8576b"
             ],
             [
              0.6666666666666666,
              "#ed7953"
             ],
             [
              0.7777777777777778,
              "#fb9f3a"
             ],
             [
              0.8888888888888888,
              "#fdca26"
             ],
             [
              1,
              "#f0f921"
             ]
            ],
            "type": "heatmap"
           }
          ],
          "heatmapgl": [
           {
            "colorbar": {
             "outlinewidth": 0,
             "ticks": ""
            },
            "colorscale": [
             [
              0,
              "#0d0887"
             ],
             [
              0.1111111111111111,
              "#46039f"
             ],
             [
              0.2222222222222222,
              "#7201a8"
             ],
             [
              0.3333333333333333,
              "#9c179e"
             ],
             [
              0.4444444444444444,
              "#bd3786"
             ],
             [
              0.5555555555555556,
              "#d8576b"
             ],
             [
              0.6666666666666666,
              "#ed7953"
             ],
             [
              0.7777777777777778,
              "#fb9f3a"
             ],
             [
              0.8888888888888888,
              "#fdca26"
             ],
             [
              1,
              "#f0f921"
             ]
            ],
            "type": "heatmapgl"
           }
          ],
          "histogram": [
           {
            "marker": {
             "pattern": {
              "fillmode": "overlay",
              "size": 10,
              "solidity": 0.2
             }
            },
            "type": "histogram"
           }
          ],
          "histogram2d": [
           {
            "colorbar": {
             "outlinewidth": 0,
             "ticks": ""
            },
            "colorscale": [
             [
              0,
              "#0d0887"
             ],
             [
              0.1111111111111111,
              "#46039f"
             ],
             [
              0.2222222222222222,
              "#7201a8"
             ],
             [
              0.3333333333333333,
              "#9c179e"
             ],
             [
              0.4444444444444444,
              "#bd3786"
             ],
             [
              0.5555555555555556,
              "#d8576b"
             ],
             [
              0.6666666666666666,
              "#ed7953"
             ],
             [
              0.7777777777777778,
              "#fb9f3a"
             ],
             [
              0.8888888888888888,
              "#fdca26"
             ],
             [
              1,
              "#f0f921"
             ]
            ],
            "type": "histogram2d"
           }
          ],
          "histogram2dcontour": [
           {
            "colorbar": {
             "outlinewidth": 0,
             "ticks": ""
            },
            "colorscale": [
             [
              0,
              "#0d0887"
             ],
             [
              0.1111111111111111,
              "#46039f"
             ],
             [
              0.2222222222222222,
              "#7201a8"
             ],
             [
              0.3333333333333333,
              "#9c179e"
             ],
             [
              0.4444444444444444,
              "#bd3786"
             ],
             [
              0.5555555555555556,
              "#d8576b"
             ],
             [
              0.6666666666666666,
              "#ed7953"
             ],
             [
              0.7777777777777778,
              "#fb9f3a"
             ],
             [
              0.8888888888888888,
              "#fdca26"
             ],
             [
              1,
              "#f0f921"
             ]
            ],
            "type": "histogram2dcontour"
           }
          ],
          "mesh3d": [
           {
            "colorbar": {
             "outlinewidth": 0,
             "ticks": ""
            },
            "type": "mesh3d"
           }
          ],
          "parcoords": [
           {
            "line": {
             "colorbar": {
              "outlinewidth": 0,
              "ticks": ""
             }
            },
            "type": "parcoords"
           }
          ],
          "pie": [
           {
            "automargin": true,
            "type": "pie"
           }
          ],
          "scatter": [
           {
            "fillpattern": {
             "fillmode": "overlay",
             "size": 10,
             "solidity": 0.2
            },
            "type": "scatter"
           }
          ],
          "scatter3d": [
           {
            "line": {
             "colorbar": {
              "outlinewidth": 0,
              "ticks": ""
             }
            },
            "marker": {
             "colorbar": {
              "outlinewidth": 0,
              "ticks": ""
             }
            },
            "type": "scatter3d"
           }
          ],
          "scattercarpet": [
           {
            "marker": {
             "colorbar": {
              "outlinewidth": 0,
              "ticks": ""
             }
            },
            "type": "scattercarpet"
           }
          ],
          "scattergeo": [
           {
            "marker": {
             "colorbar": {
              "outlinewidth": 0,
              "ticks": ""
             }
            },
            "type": "scattergeo"
           }
          ],
          "scattergl": [
           {
            "marker": {
             "colorbar": {
              "outlinewidth": 0,
              "ticks": ""
             }
            },
            "type": "scattergl"
           }
          ],
          "scattermapbox": [
           {
            "marker": {
             "colorbar": {
              "outlinewidth": 0,
              "ticks": ""
             }
            },
            "type": "scattermapbox"
           }
          ],
          "scatterpolar": [
           {
            "marker": {
             "colorbar": {
              "outlinewidth": 0,
              "ticks": ""
             }
            },
            "type": "scatterpolar"
           }
          ],
          "scatterpolargl": [
           {
            "marker": {
             "colorbar": {
              "outlinewidth": 0,
              "ticks": ""
             }
            },
            "type": "scatterpolargl"
           }
          ],
          "scatterternary": [
           {
            "marker": {
             "colorbar": {
              "outlinewidth": 0,
              "ticks": ""
             }
            },
            "type": "scatterternary"
           }
          ],
          "surface": [
           {
            "colorbar": {
             "outlinewidth": 0,
             "ticks": ""
            },
            "colorscale": [
             [
              0,
              "#0d0887"
             ],
             [
              0.1111111111111111,
              "#46039f"
             ],
             [
              0.2222222222222222,
              "#7201a8"
             ],
             [
              0.3333333333333333,
              "#9c179e"
             ],
             [
              0.4444444444444444,
              "#bd3786"
             ],
             [
              0.5555555555555556,
              "#d8576b"
             ],
             [
              0.6666666666666666,
              "#ed7953"
             ],
             [
              0.7777777777777778,
              "#fb9f3a"
             ],
             [
              0.8888888888888888,
              "#fdca26"
             ],
             [
              1,
              "#f0f921"
             ]
            ],
            "type": "surface"
           }
          ],
          "table": [
           {
            "cells": {
             "fill": {
              "color": "#EBF0F8"
             },
             "line": {
              "color": "white"
             }
            },
            "header": {
             "fill": {
              "color": "#C8D4E3"
             },
             "line": {
              "color": "white"
             }
            },
            "type": "table"
           }
          ]
         },
         "layout": {
          "annotationdefaults": {
           "arrowcolor": "#2a3f5f",
           "arrowhead": 0,
           "arrowwidth": 1
          },
          "autotypenumbers": "strict",
          "coloraxis": {
           "colorbar": {
            "outlinewidth": 0,
            "ticks": ""
           }
          },
          "colorscale": {
           "diverging": [
            [
             0,
             "#8e0152"
            ],
            [
             0.1,
             "#c51b7d"
            ],
            [
             0.2,
             "#de77ae"
            ],
            [
             0.3,
             "#f1b6da"
            ],
            [
             0.4,
             "#fde0ef"
            ],
            [
             0.5,
             "#f7f7f7"
            ],
            [
             0.6,
             "#e6f5d0"
            ],
            [
             0.7,
             "#b8e186"
            ],
            [
             0.8,
             "#7fbc41"
            ],
            [
             0.9,
             "#4d9221"
            ],
            [
             1,
             "#276419"
            ]
           ],
           "sequential": [
            [
             0,
             "#0d0887"
            ],
            [
             0.1111111111111111,
             "#46039f"
            ],
            [
             0.2222222222222222,
             "#7201a8"
            ],
            [
             0.3333333333333333,
             "#9c179e"
            ],
            [
             0.4444444444444444,
             "#bd3786"
            ],
            [
             0.5555555555555556,
             "#d8576b"
            ],
            [
             0.6666666666666666,
             "#ed7953"
            ],
            [
             0.7777777777777778,
             "#fb9f3a"
            ],
            [
             0.8888888888888888,
             "#fdca26"
            ],
            [
             1,
             "#f0f921"
            ]
           ],
           "sequentialminus": [
            [
             0,
             "#0d0887"
            ],
            [
             0.1111111111111111,
             "#46039f"
            ],
            [
             0.2222222222222222,
             "#7201a8"
            ],
            [
             0.3333333333333333,
             "#9c179e"
            ],
            [
             0.4444444444444444,
             "#bd3786"
            ],
            [
             0.5555555555555556,
             "#d8576b"
            ],
            [
             0.6666666666666666,
             "#ed7953"
            ],
            [
             0.7777777777777778,
             "#fb9f3a"
            ],
            [
             0.8888888888888888,
             "#fdca26"
            ],
            [
             1,
             "#f0f921"
            ]
           ]
          },
          "colorway": [
           "#636efa",
           "#EF553B",
           "#00cc96",
           "#ab63fa",
           "#FFA15A",
           "#19d3f3",
           "#FF6692",
           "#B6E880",
           "#FF97FF",
           "#FECB52"
          ],
          "font": {
           "color": "#2a3f5f"
          },
          "geo": {
           "bgcolor": "white",
           "lakecolor": "white",
           "landcolor": "#E5ECF6",
           "showlakes": true,
           "showland": true,
           "subunitcolor": "white"
          },
          "hoverlabel": {
           "align": "left"
          },
          "hovermode": "closest",
          "mapbox": {
           "style": "light"
          },
          "paper_bgcolor": "white",
          "plot_bgcolor": "#E5ECF6",
          "polar": {
           "angularaxis": {
            "gridcolor": "white",
            "linecolor": "white",
            "ticks": ""
           },
           "bgcolor": "#E5ECF6",
           "radialaxis": {
            "gridcolor": "white",
            "linecolor": "white",
            "ticks": ""
           }
          },
          "scene": {
           "xaxis": {
            "backgroundcolor": "#E5ECF6",
            "gridcolor": "white",
            "gridwidth": 2,
            "linecolor": "white",
            "showbackground": true,
            "ticks": "",
            "zerolinecolor": "white"
           },
           "yaxis": {
            "backgroundcolor": "#E5ECF6",
            "gridcolor": "white",
            "gridwidth": 2,
            "linecolor": "white",
            "showbackground": true,
            "ticks": "",
            "zerolinecolor": "white"
           },
           "zaxis": {
            "backgroundcolor": "#E5ECF6",
            "gridcolor": "white",
            "gridwidth": 2,
            "linecolor": "white",
            "showbackground": true,
            "ticks": "",
            "zerolinecolor": "white"
           }
          },
          "shapedefaults": {
           "line": {
            "color": "#2a3f5f"
           }
          },
          "ternary": {
           "aaxis": {
            "gridcolor": "white",
            "linecolor": "white",
            "ticks": ""
           },
           "baxis": {
            "gridcolor": "white",
            "linecolor": "white",
            "ticks": ""
           },
           "bgcolor": "#E5ECF6",
           "caxis": {
            "gridcolor": "white",
            "linecolor": "white",
            "ticks": ""
           }
          },
          "title": {
           "x": 0.05
          },
          "xaxis": {
           "automargin": true,
           "gridcolor": "white",
           "linecolor": "white",
           "ticks": "",
           "title": {
            "standoff": 15
           },
           "zerolinecolor": "white",
           "zerolinewidth": 2
          },
          "yaxis": {
           "automargin": true,
           "gridcolor": "white",
           "linecolor": "white",
           "ticks": "",
           "title": {
            "standoff": 15
           },
           "zerolinecolor": "white",
           "zerolinewidth": 2
          }
         }
        },
        "title": {
         "text": "Optimization History Plot"
        },
        "xaxis": {
         "title": {
          "text": "Trial"
         }
        },
        "yaxis": {
         "title": {
          "text": "Objective Value"
         }
        }
       }
      }
     },
     "metadata": {},
     "output_type": "display_data"
    }
   ],
   "source": [
    "optuna.visualization.plot_optimization_history(study).show()"
   ]
  },
  {
   "cell_type": "code",
   "execution_count": 40,
   "metadata": {},
   "outputs": [
    {
     "name": "stdout",
     "output_type": "stream",
     "text": [
      "                   Best Parameters  Best MAPE\n",
      "2014  [0.056, 0.039, 0.152, 0.288]      3.577\n",
      "2015   [0.06, 0.004, 0.207, 0.251]      6.204\n",
      "2016     [0.11, 0.0, 0.231, 0.196]     10.310\n",
      "2017    [0.02, 0.06, 0.094, 0.407]      7.114\n",
      "2018  [0.059, 0.004, 0.367, 0.377]      4.890\n",
      "2019  [0.499, 0.072, 0.138, 0.052]     10.707\n",
      "2020  [0.077, 0.008, 0.256, 0.216]     16.540\n",
      "2021  [0.002, 0.008, 0.504, 0.476]     14.587\n",
      "2022   [0.064, 0.005, 0.21, 0.136]     11.193\n"
     ]
    }
   ],
   "source": [
    "# Convert best_results to a DataFrame\n",
    "results_optuna = pd.DataFrame.from_dict(best_results, orient='index')\n",
    "\n",
    "# Set meaningful column names\n",
    "results_optuna.columns = [\"Best Parameters\", \"Best MAPE\"]\n",
    "\n",
    "# Define a function to clean and round parameter values\n",
    "def clean_parameters(params):\n",
    "    return [round(value, 3) for value in params.values()]\n",
    "\n",
    "# Apply the function to the \"Best Parameters\" column\n",
    "results_optuna[\"Best Parameters\"] = results_optuna[\"Best Parameters\"].apply(clean_parameters)\n",
    "\n",
    "# Round the \"Best MAPE\" column to 3 significant figures\n",
    "results_optuna[\"Best MAPE\"] = results_optuna[\"Best MAPE\"].apply(lambda x: round(x, 3))\n",
    "\n",
    "# Display the cleaned DataFrame\n",
    "print(results_optuna)\n",
    "\n",
    "# Save the DataFrame to an Excel file\n",
    "#results_optuna.to_excel(\"Optimization_Results.xlsx\", index=True, sheet_name=\"Hyper Optimization Results\")\n",
    "with pd.ExcelWriter(\"Optimization_Results.xlsx\", engine=\"openpyxl\") as writer:\n",
    "    # Save the first DataFrame\n",
    "    results_df.to_excel(writer, index=True, sheet_name=\"Reduction Algorithm Results\")\n",
    "    \n",
    "    # Save the second DataFrame\n",
    "    results_optuna.to_excel(writer, index=True, sheet_name=\"Hyper Optimization Results\")"
   ]
  }
 ],
 "metadata": {
  "kernelspec": {
   "display_name": "base",
   "language": "python",
   "name": "python3"
  },
  "language_info": {
   "codemirror_mode": {
    "name": "ipython",
    "version": 3
   },
   "file_extension": ".py",
   "mimetype": "text/x-python",
   "name": "python",
   "nbconvert_exporter": "python",
   "pygments_lexer": "ipython3",
   "version": "3.9.20"
  }
 },
 "nbformat": 4,
 "nbformat_minor": 2
}
